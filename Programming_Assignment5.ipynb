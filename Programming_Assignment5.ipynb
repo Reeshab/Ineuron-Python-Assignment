{
  "nbformat": 4,
  "nbformat_minor": 0,
  "metadata": {
    "colab": {
      "provenance": [],
      "collapsed_sections": [],
      "authorship_tag": "ABX9TyNaUJUlua2wG6cRMpPek0Gf",
      "include_colab_link": true
    },
    "kernelspec": {
      "name": "python3",
      "display_name": "Python 3"
    },
    "language_info": {
      "name": "python"
    }
  },
  "cells": [
    {
      "cell_type": "markdown",
      "metadata": {
        "id": "view-in-github",
        "colab_type": "text"
      },
      "source": [
        "<a href=\"https://colab.research.google.com/github/Reeshab/Ineuron-Python-Assignment/blob/main/Programming_Assignment5.ipynb\" target=\"_parent\"><img src=\"https://colab.research.google.com/assets/colab-badge.svg\" alt=\"Open In Colab\"/></a>"
      ]
    },
    {
      "cell_type": "markdown",
      "source": [
        "1. Write a Python Program to Find LCM?"
      ],
      "metadata": {
        "id": "XhHPc7rYjU9q"
      }
    },
    {
      "cell_type": "code",
      "execution_count": 9,
      "metadata": {
        "colab": {
          "base_uri": "https://localhost:8080/"
        },
        "id": "0w6_rpuMjGWB",
        "outputId": "96ab72af-704a-4171-e049-b60b960415c0"
      },
      "outputs": [
        {
          "output_type": "stream",
          "name": "stdout",
          "text": [
            "Enter the first number: 3\n",
            "Enter the second numer: 4\n",
            "The LCM of the provided two numbers is 12\n"
          ]
        }
      ],
      "source": [
        "num1 = int(input(\"Enter the first number: \"))\n",
        "num2 = int(input(\"Enter the second numer: \"))\n",
        "def calc_lcm (x, y):\n",
        "      if x > y:\n",
        "             z = x\n",
        "      else:\n",
        "             z = y\n",
        "      while(True):\n",
        "             if((z % x == 0) and (z % y == 0)):\n",
        "               lcm = z\n",
        "               break\n",
        "             z +=1   \n",
        "            \n",
        "      return lcm\n",
        "\n",
        "\n",
        "print(\"The LCM of the provided two numbers is\", calc_lcm(num1,num2))      \n",
        "\n"
      ]
    },
    {
      "cell_type": "markdown",
      "source": [
        "2.Write a Python Program to Find HCF?"
      ],
      "metadata": {
        "id": "9VYpFI-5pUI8"
      }
    },
    {
      "cell_type": "code",
      "source": [
        "def calc_gcd (x,y):\n",
        "         while(y):\n",
        "           x,y = y,x % y\n",
        "         return x\n",
        "def calc_lcm(x,y):\n",
        "             lcm = (x*y)// calc_gcd(x,y)\n",
        "             return lcm\n",
        "num1 = int(input(\"Enter the first number:\"))\n",
        "\n",
        "num2 = int(input(\"Enter the second number: \"))\n",
        "\n",
        "print (\"The LCM of the given numbers is\",calc_lcm(num1, num2))\n"
      ],
      "metadata": {
        "colab": {
          "base_uri": "https://localhost:8080/"
        },
        "id": "rY4442Xg5IPq",
        "outputId": "1e630422-2c23-4f9f-88a0-92d5c8baaac6"
      },
      "execution_count": 13,
      "outputs": [
        {
          "output_type": "stream",
          "name": "stdout",
          "text": [
            "Enter the first number:2\n",
            "Enter the second number: 3\n",
            "The LCM of the given numbers is 6\n"
          ]
        }
      ]
    },
    {
      "cell_type": "markdown",
      "source": [
        "3.Write a Python Program to Convert Decimal to Binary, Octal and Hexadecimal?"
      ],
      "metadata": {
        "id": "PrtxDPHP7Bdx"
      }
    },
    {
      "cell_type": "code",
      "source": [
        "def decimal_into_binary(decimal_1):  \n",
        "    decimal = int(decimal_1)  \n",
        "    \n",
        "    \n",
        "    print (\"The given decimal number\", decimal, \"in Binary number is: \", bin(decimal))  \n",
        "\n",
        "def decimal_into_octal(decimal_1):  \n",
        "    decimal = int(decimal_1)  \n",
        "    \n",
        "    \n",
        "    print (\"The given decimal number\", decimal, \"in Octal number is: \", oct(decimal))  \n",
        " \n",
        "def decimal_into_hexadecimal(decimal_1):  \n",
        "    decimal = int(decimal_1)  \n",
        "    \n",
        "    \n",
        "    print (\"The given decimal number\", decimal, \" in Hexadecimal number is: \", hex(decimal))  \n",
        "    \n",
        "decimal_1 = int (input (\" Enter the Decimal Number: \"))  \n",
        "decimal_into_binary(decimal_1)  \n",
        "decimal_into_octal(decimal_1)  \n",
        "decimal_into_hexadecimal(decimal_1)  \n",
        "\n"
      ],
      "metadata": {
        "colab": {
          "base_uri": "https://localhost:8080/"
        },
        "id": "SOgf-mLJ985N",
        "outputId": "0003df0a-cd80-4143-c4c2-7c17d4afbd86"
      },
      "execution_count": 18,
      "outputs": [
        {
          "output_type": "stream",
          "name": "stdout",
          "text": [
            " Enter the Decimal Number: 3\n",
            "The given decimal number 3 in Binary number is:  0b11\n",
            "The given decimal number 3 in Octal number is:  0o3\n",
            "The given decimal number 3  in Hexadecimal number is:  0x3\n"
          ]
        }
      ]
    },
    {
      "cell_type": "markdown",
      "source": [
        "4. Write a Python Program To Find ASCII value of a character?"
      ],
      "metadata": {
        "id": "87EjW7n9D8hO"
      }
    },
    {
      "cell_type": "code",
      "source": [
        "n = input(\"please enter a character:\")\n",
        "print(\"The ASCII value of \"+n+\"is\", ord(n))"
      ],
      "metadata": {
        "colab": {
          "base_uri": "https://localhost:8080/"
        },
        "id": "Weg_rglxEWj1",
        "outputId": "cec36bd7-f266-4f8d-a619-a721e3d78cac"
      },
      "execution_count": 21,
      "outputs": [
        {
          "output_type": "stream",
          "name": "stdout",
          "text": [
            "please enter a character:J\n",
            "The ASCII value of Jis 74\n"
          ]
        }
      ]
    },
    {
      "cell_type": "markdown",
      "source": [
        "5. Write a Python Program to Make a Simple Calculator with 4 basic mathematical operations?"
      ],
      "metadata": {
        "id": "AJIepUvU7NCD"
      }
    },
    {
      "cell_type": "code",
      "source": [
        "def add(a,b):\n",
        "  return a + b\n",
        "def substract(a,b):\n",
        "  return a - b\n",
        "def multiply(a,b):\n",
        "  return a * b\n",
        "def divide(a,b):\n",
        "  return a/b\n",
        "\n",
        "print(\"Please  you haveto select the above option\")\n",
        "print(\"a.add\")\n",
        "print(\"b.substract\")\n",
        "print(\"c.Multiply\")\n",
        "print(\"d.Divide\")\n",
        "\n",
        "user_input = input(\"Please enter the choice according to user: \")\n",
        "\n",
        "num_1 = int(input(\"Please enter the first number:\"))\n",
        "num_2 = int(input(\"Please enter the second number:\"))\n",
        "\n",
        "\n",
        "if user_input == 'a':\n",
        "   print(num_1, \"+\",num_2,\"=\", add(num_1,num_2))\n",
        "elif user_input == 'b':\n",
        "   print(num_1, \"-\",num_2,\"=\", substract(num_1,num_2))\n",
        "elif user_input == 'c':   \n",
        "   print(num_1, \"*\",num_2,\"=\", multiply(num_1,num_2))\n",
        "elif user_input == 'd':     \n",
        "   print(num_1, \"/\",num_2,\"=\", divide(num_1,num_2))\n",
        "else:\n",
        "   print(\"invalid input\")   "
      ],
      "metadata": {
        "colab": {
          "base_uri": "https://localhost:8080/"
        },
        "id": "pshMLlPhMmq8",
        "outputId": "f7a68ae0-92b7-4490-f12c-4225bd9a4c76"
      },
      "execution_count": 24,
      "outputs": [
        {
          "output_type": "stream",
          "name": "stdout",
          "text": [
            "Please  you haveto select the above option\n",
            "a.add\n",
            "b.substract\n",
            "c.Multiply\n",
            "d.Divide\n",
            "Please enter the choice according to user: c\n",
            "Please enter the first number:23\n",
            "Please enter the second number:34\n",
            "23 * 34 = 782\n"
          ]
        }
      ]
    }
  ]
}