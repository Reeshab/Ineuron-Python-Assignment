{
  "nbformat": 4,
  "nbformat_minor": 0,
  "metadata": {
    "colab": {
      "provenance": [],
      "collapsed_sections": [],
      "authorship_tag": "ABX9TyNtRuEEr2d5mFrQCicMWPMC",
      "include_colab_link": true
    },
    "kernelspec": {
      "name": "python3",
      "display_name": "Python 3"
    },
    "language_info": {
      "name": "python"
    }
  },
  "cells": [
    {
      "cell_type": "markdown",
      "metadata": {
        "id": "view-in-github",
        "colab_type": "text"
      },
      "source": [
        "<a href=\"https://colab.research.google.com/github/Reeshab/Ineuron-Python-Assignment/blob/main/Assignment_10.ipynb\" target=\"_parent\"><img src=\"https://colab.research.google.com/assets/colab-badge.svg\" alt=\"Open In Colab\"/></a>"
      ]
    },
    {
      "cell_type": "markdown",
      "source": [
        "1. How do you distinguish between shutil.copy() and shutil.copytree()?"
      ],
      "metadata": {
        "id": "v9j8jcdKifiV"
      }
    },
    {
      "cell_type": "markdown",
      "source": [
        "shutil.copy() method is used to copy the contents of a file from one file to another file/folder, it primary takes two arguments src,dest, src represents the file to be copied where as destination refers to the file/folder to where the src data should be copied, if dest is a folder name the src with exact name will be copied to the dest folder, if its a file then the contents of src will be copied to dest where dest retains it name.\n",
        "\n",
        "shutil.copytree() function is used to copy the entire contents of a folder to other folder. it also takes two arguments src & dest, it copies all the content recursively and stores it in dest. the important catch here is dest must not exist prior to this and it will be created during the copy operation. Permissions and times of directories are copied with shutil.copystat() and individual files are copied using shutil.copy2() by default which can be modified using copy_function attribute."
      ],
      "metadata": {
        "id": "QD7BMf5gjqjn"
      }
    },
    {
      "cell_type": "markdown",
      "source": [
        "2. What function is used to rename files?"
      ],
      "metadata": {
        "id": "FEloCW1uilM2"
      }
    },
    {
      "cell_type": "markdown",
      "source": [
        "os.rename() function is used to rename files or directories using a python program, this function takes two arguments src and dest, src represents the name file/directory which we want to rename, whereas dest represents the new name of the file/directory."
      ],
      "metadata": {
        "id": "3nrv_u5PrHsh"
      }
    },
    {
      "cell_type": "markdown",
      "source": [
        "3. What is the difference between the delete functions in the send2trash and shutil modules?"
      ],
      "metadata": {
        "id": "a7ZxEuCMiq20"
      }
    },
    {
      "cell_type": "markdown",
      "source": [
        "Shutil module provides a funciton called as shutil.rmtree() which deletes a directory and all its contents. The other functions with similar functionality are os.remove() -> removes a file, os.rmdir() removes a empty directory. The problem with these functions is once a file is deleted. it will be lost permanently, if a file is deleted accidentally using these methods there is no way we can recover the deleted file\n",
        "\n",
        "Where as send2trash module provides a function called send2trash.send2trash() to delete a file/directory. these methods moves the files/directories to trash folder instead of permanently deleting them. hence if a file/folder is deleted accidentally it can be still recovered from trash folder, if is deleted using the send2trash.send2trash() function. send2trash is not included with python standard libary like os & shutil modules. it needs to be installed explicitly using the command !pip install send2trash"
      ],
      "metadata": {
        "id": "yopnebk9rQQQ"
      }
    },
    {
      "cell_type": "markdown",
      "source": [
        "4.ZipFile objects have a close() method just like File objects’ close() method. What ZipFile method is\n",
        "equivalent to File objects’ open() method?"
      ],
      "metadata": {
        "id": "IieY9coHivS7"
      }
    },
    {
      "cell_type": "markdown",
      "source": [
        "ZipFile Module provides a method called as zipfile.ZipFile() to read and write to zipFiles. it takes arugments lile filename and mode etc zipfile.ZipFile('filename', mode = 'r')"
      ],
      "metadata": {
        "id": "yl4hl0E-rUXg"
      }
    },
    {
      "cell_type": "markdown",
      "source": [
        "5. Create a programme that searches a folder tree for files with a certain file extension (such as .pdf\n",
        "or .jpg). Copy these files from whatever location they are in to a new folder."
      ],
      "metadata": {
        "id": "k0M32x4rizOB"
      }
    },
    {
      "cell_type": "code",
      "source": [
        "import os\n",
        "import shutil\n",
        "\n",
        "def search_and_copy(source,destination,extensions):\n",
        "    source = os.path.abspath(source)\n",
        "    destination = os.path.abspath(destination)\n",
        "    for foldername, subfolder, filenames in os.walk(source):\n",
        "        print(f'Folder Name ➞ {foldername}',end='\\n\\n')\n",
        "        print(f'Sub Folders ➞ {subfolder}',end='\\n\\n')\n",
        "        print(f'Files ➞ {filenames}',end='\\n\\n')\n",
        "        for filename in filenames:\n",
        "            fileName,extension = os.path.splitext(filename)\n",
        "            if extension in extensions:\n",
        "                targetFile = foldername+os.path.sep+fileName+extension\n",
        "                shutil.copy(targetFile, destination)\n",
        "        print(f'Files copied successfully from {source} to {destination}')\n",
        "    \n",
        "extensions = ['.pdf','.jpg','.ipynb']\n",
        "source = 'Dummy Source'\n",
        "destination = 'Dummy Destination'\n",
        "search_and_copy(source, destination, extensions)"
      ],
      "metadata": {
        "id": "EIKlfcRniVib"
      },
      "execution_count": 1,
      "outputs": []
    },
    {
      "cell_type": "code",
      "source": [],
      "metadata": {
        "id": "GcfWl-W-bmV7"
      },
      "execution_count": null,
      "outputs": []
    },
    {
      "cell_type": "code",
      "source": [],
      "metadata": {
        "id": "9yJYdn2nbmY_"
      },
      "execution_count": null,
      "outputs": []
    },
    {
      "cell_type": "code",
      "source": [],
      "metadata": {
        "id": "aXgtMADJbmcD"
      },
      "execution_count": null,
      "outputs": []
    },
    {
      "cell_type": "code",
      "source": [],
      "metadata": {
        "id": "1S3h3QPYbmem"
      },
      "execution_count": null,
      "outputs": []
    },
    {
      "cell_type": "code",
      "source": [],
      "metadata": {
        "id": "A1siYrJGbmhu"
      },
      "execution_count": null,
      "outputs": []
    },
    {
      "cell_type": "code",
      "source": [],
      "metadata": {
        "id": "xMvKiwgxbmkO"
      },
      "execution_count": null,
      "outputs": []
    },
    {
      "cell_type": "code",
      "source": [],
      "metadata": {
        "id": "1jfJUlxabmm2"
      },
      "execution_count": null,
      "outputs": []
    },
    {
      "cell_type": "code",
      "source": [],
      "metadata": {
        "id": "1VRf5Nfebmpj"
      },
      "execution_count": null,
      "outputs": []
    },
    {
      "cell_type": "code",
      "source": [],
      "metadata": {
        "id": "5y1J-zxQbmsJ"
      },
      "execution_count": null,
      "outputs": []
    },
    {
      "cell_type": "code",
      "source": [],
      "metadata": {
        "id": "dGY-c5HPbmu-"
      },
      "execution_count": null,
      "outputs": []
    },
    {
      "cell_type": "code",
      "source": [],
      "metadata": {
        "id": "tWyWhL_fbmxv"
      },
      "execution_count": null,
      "outputs": []
    },
    {
      "cell_type": "code",
      "source": [],
      "metadata": {
        "id": "g3BHPWrQbm0Y"
      },
      "execution_count": null,
      "outputs": []
    },
    {
      "cell_type": "code",
      "source": [],
      "metadata": {
        "id": "JQvETnNbbm23"
      },
      "execution_count": null,
      "outputs": []
    },
    {
      "cell_type": "code",
      "source": [],
      "metadata": {
        "id": "AgCzgtDwbm5v"
      },
      "execution_count": null,
      "outputs": []
    },
    {
      "cell_type": "code",
      "source": [],
      "metadata": {
        "id": "z9lOToiQbm9I"
      },
      "execution_count": null,
      "outputs": []
    }
  ]
}