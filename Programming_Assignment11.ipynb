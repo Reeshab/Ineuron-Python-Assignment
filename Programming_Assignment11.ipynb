{
  "nbformat": 4,
  "nbformat_minor": 0,
  "metadata": {
    "colab": {
      "provenance": [],
      "collapsed_sections": [],
      "authorship_tag": "ABX9TyOfO3A5SC+p8a/C4/0qFOb2",
      "include_colab_link": true
    },
    "kernelspec": {
      "name": "python3",
      "display_name": "Python 3"
    },
    "language_info": {
      "name": "python"
    }
  },
  "cells": [
    {
      "cell_type": "markdown",
      "metadata": {
        "id": "view-in-github",
        "colab_type": "text"
      },
      "source": [
        "<a href=\"https://colab.research.google.com/github/Reeshab/Ineuron-Python-Assignment/blob/main/Programming_Assignment11.ipynb\" target=\"_parent\"><img src=\"https://colab.research.google.com/assets/colab-badge.svg\" alt=\"Open In Colab\"/></a>"
      ]
    },
    {
      "cell_type": "markdown",
      "source": [
        "1. Write a Python program to find words which are greater than given length k?"
      ],
      "metadata": {
        "id": "9_B3tBJpXceU"
      }
    },
    {
      "cell_type": "code",
      "execution_count": 3,
      "metadata": {
        "id": "_Yt-Y4GKWej6",
        "colab": {
          "base_uri": "https://localhost:8080/"
        },
        "outputId": "d8c67f9f-5448-4e97-e8cf-9a7d0794c3c6"
      },
      "outputs": [
        {
          "output_type": "stream",
          "name": "stdout",
          "text": [
            "Enter the string: I am dancing\n",
            "Enter the Length of the String: 2\n",
            "dancing\n"
          ]
        }
      ],
      "source": [
        "def checkLengthOfString():\n",
        "  input_string = input (\"Enter the string: \")\n",
        "  input_Length = int(input('Enter the Length of the String: '))\n",
        "  output_string = []\n",
        "  for string in input_string.split(\" \"):\n",
        "    if len(string) > input_Length:\n",
        "       output_string.append(string)\n",
        "  print(','.join(output_string))\n",
        "checkLengthOfString()  \n",
        "\n"
      ]
    },
    {
      "cell_type": "markdown",
      "source": [
        "2. Write a Python program for removing i-th character from a string?"
      ],
      "metadata": {
        "id": "xdUOyEpBb9An"
      }
    },
    {
      "cell_type": "code",
      "source": [
        "def removeCharacter():\n",
        "    input_string =  input(\"Enter the String: \")\n",
        "    input_char_num = int(input(\"Enter the ith Character: \"))\n",
        "    output_string = ''\n",
        "    for element in range(len(input_string)):\n",
        "        if element != input_char_num:\n",
        "          output_string = output_string + input_string[element]\n",
        "    print(output_string)       \n",
        "removeCharacter()    "
      ],
      "metadata": {
        "colab": {
          "base_uri": "https://localhost:8080/"
        },
        "id": "YLY_3Ic-XYu-",
        "outputId": "12b89ad6-a459-4e58-e4e7-1b51dab59418"
      },
      "execution_count": 4,
      "outputs": [
        {
          "output_type": "stream",
          "name": "stdout",
          "text": [
            "Enter the String: We are happy\n",
            "Enter the ith Character: 3\n",
            "We re happy\n"
          ]
        }
      ]
    },
    {
      "cell_type": "markdown",
      "source": [
        "3. Write a Python program to split and join a string?"
      ],
      "metadata": {
        "id": "AEgiGP0pdix4"
      }
    },
    {
      "cell_type": "code",
      "source": [
        "def splitJoinString():\n",
        "    in_string = input('Enter the string: ')\n",
        "    print(f\"Split String: {in_string.split(' ')}\")\n",
        "    print(f\"Join String: {' '.join(in_string.split(' '))}\")\n",
        "\n",
        "splitJoinString()"
      ],
      "metadata": {
        "colab": {
          "base_uri": "https://localhost:8080/"
        },
        "id": "T-vQI-mTXYx9",
        "outputId": "2ac78612-3a0f-40ad-a0cd-cc8b62217977"
      },
      "execution_count": 5,
      "outputs": [
        {
          "output_type": "stream",
          "name": "stdout",
          "text": [
            "Enter the string: I am happy\n",
            "Split String: ['I', 'am', 'happy']\n",
            "Join String: I am happy\n"
          ]
        }
      ]
    },
    {
      "cell_type": "markdown",
      "source": [
        "4. Write a Python to check if a given string is binary string or not?"
      ],
      "metadata": {
        "id": "9-O_PuNQwt1Y"
      }
    },
    {
      "cell_type": "code",
      "source": [
        "def checkBinary():\n",
        "    in_string = input('Enter the string: ')\n",
        "    stun = 0\n",
        "    for ele in in_string:\n",
        "        if ele in ['0','1']:\n",
        "            stun = 1\n",
        "            continue\n",
        "        else:\n",
        "            stun = 0\n",
        "            break\n",
        "    statement = 'is a binary string' if stun == 1 else 'is not a binart string' \n",
        "    print(f'{in_string} {statement}')\n",
        "\n",
        "checkBinary()\n",
        "checkBinary()"
      ],
      "metadata": {
        "colab": {
          "base_uri": "https://localhost:8080/"
        },
        "id": "oeSd03osdXlW",
        "outputId": "08aa276a-4ad7-4b2d-c082-20b28ee5ce89"
      },
      "execution_count": 8,
      "outputs": [
        {
          "output_type": "stream",
          "name": "stdout",
          "text": [
            "Enter the string: 1234\n",
            "1234 is not a binart string\n",
            "Enter the string: 101010\n",
            "101010 is a binary string\n"
          ]
        }
      ]
    },
    {
      "cell_type": "markdown",
      "source": [
        "5. Write a Python program to find uncommon words from two Strings?"
      ],
      "metadata": {
        "id": "6wNGEoo3yHlj"
      }
    },
    {
      "cell_type": "code",
      "source": [
        "def unCommonWords():\n",
        "    in_string_1 = set(input(\"Enter the String 1: \").split(' '))\n",
        "    in_string_2 = set(input(\"Enter the String 2: \").split(' '))\n",
        "    out_string = (in_string_1.union(in_string_2)).difference(in_string_1.intersection(in_string_2))\n",
        "    print(out_string)\n",
        "\n",
        "unCommonWords()"
      ],
      "metadata": {
        "colab": {
          "base_uri": "https://localhost:8080/"
        },
        "id": "1zH13H51dXoF",
        "outputId": "79c4b0c1-4dd7-4aae-95d3-65e2a40a2444"
      },
      "execution_count": 6,
      "outputs": [
        {
          "output_type": "stream",
          "name": "stdout",
          "text": [
            "Enter the String 1: I am Happy\n",
            "Enter the String 2: We are Happy\n",
            "{'We', 'am', 'are', 'I'}\n"
          ]
        }
      ]
    },
    {
      "cell_type": "markdown",
      "source": [
        "6. Write a Python to find all duplicate characters in string?"
      ],
      "metadata": {
        "id": "voOKrlYpyMWX"
      }
    },
    {
      "cell_type": "code",
      "source": [
        "def duplicateChars():\n",
        "    in_string = input('Enter the string: ')\n",
        "    non_duplicate_list = []\n",
        "    duplicate_list = []\n",
        "    for ele in in_string:\n",
        "        if ele not in non_duplicate_list:\n",
        "            non_duplicate_list.append(ele)\n",
        "        else:\n",
        "            duplicate_list.append(ele)\n",
        "    print(f'Duplicate characters are: {list(set(duplicate_list))}')\n",
        "        \n",
        "duplicateChars()"
      ],
      "metadata": {
        "colab": {
          "base_uri": "https://localhost:8080/"
        },
        "id": "VSLdpMbtdXqf",
        "outputId": "3e028ac0-8b08-4daf-8b44-f84d1b483b13"
      },
      "execution_count": 7,
      "outputs": [
        {
          "output_type": "stream",
          "name": "stdout",
          "text": [
            "Enter the string: I am Happy Happy\n",
            "Duplicate characters are: ['a', 'H', 'y', ' ', 'p']\n"
          ]
        }
      ]
    },
    {
      "cell_type": "markdown",
      "source": [
        "7. Write a Python Program to check if a string contains any special character?"
      ],
      "metadata": {
        "id": "VHbkiMQgyQOj"
      }
    },
    {
      "cell_type": "code",
      "source": [
        "def checkSpecialChar():\n",
        "    spl_chars = '[@_!#$%^&*()<>?/\\|}{~:]'\n",
        "    in_num = input('Enter the string: ')\n",
        "    count = 0\n",
        "    char_list = []\n",
        "    for ele in in_num:\n",
        "        if ele in spl_chars:\n",
        "            char_list.append(ele)\n",
        "            count = count+1\n",
        "    print(f'There are {count} Speical Characters in {in_num} which are {char_list}')\n",
        "            \n",
        "        \n",
        "checkSpecialChar()\n",
        "checkSpecialChar()"
      ],
      "metadata": {
        "colab": {
          "base_uri": "https://localhost:8080/"
        },
        "id": "aELYY1UPdXs0",
        "outputId": "f6d90457-8654-40dd-c393-96d9d72b62a9"
      },
      "execution_count": 9,
      "outputs": [
        {
          "output_type": "stream",
          "name": "stdout",
          "text": [
            "Enter the string: DS @ I am Special 12!\n",
            "There are 2 Speical Characters in DS @ I am Special 12! which are ['@', '!']\n",
            "Enter the string: I @ am Stupid $%^&&\n",
            "There are 6 Speical Characters in I @ am Stupid $%^&& which are ['@', '$', '%', '^', '&', '&']\n"
          ]
        }
      ]
    },
    {
      "cell_type": "code",
      "source": [],
      "metadata": {
        "id": "1D6TXUMbdXv_"
      },
      "execution_count": null,
      "outputs": []
    },
    {
      "cell_type": "code",
      "source": [],
      "metadata": {
        "id": "KwJIrpPSdXys"
      },
      "execution_count": null,
      "outputs": []
    },
    {
      "cell_type": "code",
      "source": [],
      "metadata": {
        "id": "vHBq-HVGXY0U"
      },
      "execution_count": null,
      "outputs": []
    },
    {
      "cell_type": "code",
      "source": [],
      "metadata": {
        "id": "kif0oWQqXY2-"
      },
      "execution_count": null,
      "outputs": []
    },
    {
      "cell_type": "markdown",
      "source": [],
      "metadata": {
        "id": "al9iOj6taW9u"
      }
    },
    {
      "cell_type": "code",
      "source": [],
      "metadata": {
        "id": "I3aQ_nXyXY5v"
      },
      "execution_count": null,
      "outputs": []
    },
    {
      "cell_type": "code",
      "source": [],
      "metadata": {
        "id": "XwLTv0cBXY8d"
      },
      "execution_count": null,
      "outputs": []
    },
    {
      "cell_type": "code",
      "source": [],
      "metadata": {
        "id": "hY9J2WUMXY_E"
      },
      "execution_count": null,
      "outputs": []
    },
    {
      "cell_type": "code",
      "source": [],
      "metadata": {
        "id": "wMPA6CSPXZBq"
      },
      "execution_count": null,
      "outputs": []
    },
    {
      "cell_type": "code",
      "source": [],
      "metadata": {
        "id": "keIqAoJjXZFD"
      },
      "execution_count": null,
      "outputs": []
    }
  ]
}