{
  "nbformat": 4,
  "nbformat_minor": 0,
  "metadata": {
    "colab": {
      "provenance": [],
      "authorship_tag": "ABX9TyP62gvM6SmLwUapTeLfvUMy",
      "include_colab_link": true
    },
    "kernelspec": {
      "name": "python3",
      "display_name": "Python 3"
    },
    "language_info": {
      "name": "python"
    }
  },
  "cells": [
    {
      "cell_type": "markdown",
      "metadata": {
        "id": "view-in-github",
        "colab_type": "text"
      },
      "source": [
        "<a href=\"https://colab.research.google.com/github/Reeshab/Ineuron-Python-Assignment/blob/main/Assignment_3.ipynb\" target=\"_parent\"><img src=\"https://colab.research.google.com/assets/colab-badge.svg\" alt=\"Open In Colab\"/></a>"
      ]
    },
    {
      "cell_type": "markdown",
      "source": [
        "1. Why are functions advantageous to have in your programs?"
      ],
      "metadata": {
        "id": "v-FMjE5qYm51"
      }
    },
    {
      "cell_type": "markdown",
      "source": [
        "Advantageous of function in programming are: 1.Functions reduce the need for duplicate code. 2.Reuse of code. 3.Decomposing complex problems into simpler pieces. 4.Improve the quality of code."
      ],
      "metadata": {
        "id": "QpB9CD2SYv2a"
      }
    },
    {
      "cell_type": "markdown",
      "source": [
        "2. When does the code in a function run: when it&#39;s specified or when it&#39;s called?"
      ],
      "metadata": {
        "id": "iK-NK4ikZiDV"
      }
    },
    {
      "cell_type": "markdown",
      "source": [
        "In programming function runs when it call .example"
      ],
      "metadata": {
        "id": "WnsxPg4gZqhj"
      }
    },
    {
      "cell_type": "code",
      "execution_count": 3,
      "metadata": {
        "colab": {
          "base_uri": "https://localhost:8080/"
        },
        "id": "_Qi7qhkLYcQs",
        "outputId": "b0b208fa-b361-4eae-f7e0-a86cf82fa811"
      },
      "outputs": [
        {
          "output_type": "stream",
          "name": "stdout",
          "text": [
            "Enter the value2\n",
            "displaying value is 2\n"
          ]
        }
      ],
      "source": [
        "a = int(input(\"Enter the value\"))\n",
        "def display(a): #function creating\n",
        "    print(\"displaying value is\",a)\n",
        "display(a)   # function calls ,without functon call we cannot run function\n"
      ]
    },
    {
      "cell_type": "markdown",
      "source": [
        "3. What statement creates a function?"
      ],
      "metadata": {
        "id": "AQgl_dd0aglS"
      }
    },
    {
      "cell_type": "markdown",
      "source": [
        "In python we can create python by using def keyword syntax: def Function Name(parameters): function Body Function Name(arguments) #Function Calling"
      ],
      "metadata": {
        "id": "uSWv0l3NaqG0"
      }
    },
    {
      "cell_type": "code",
      "source": [
        "#example code for functios\n",
        "num =int(input(\"enter the number to check even or not :\"))\n",
        "def checkEven(num):\n",
        "    if(num %2 ==0):\n",
        "        print(num,\"is an even number\")\n",
        "    else :\n",
        "        print(num,\"is  not an even number\")\n",
        "checkEven(num)     "
      ],
      "metadata": {
        "colab": {
          "base_uri": "https://localhost:8080/"
        },
        "id": "rgtPcxgmYl9X",
        "outputId": "26ba870a-8036-4a19-8f63-1be10a67e1a7"
      },
      "execution_count": 5,
      "outputs": [
        {
          "output_type": "stream",
          "name": "stdout",
          "text": [
            "enter the number to check even or not :5\n",
            "5 is  not an even number\n"
          ]
        }
      ]
    },
    {
      "cell_type": "markdown",
      "source": [
        "4. What is the difference between a function and a function call?"
      ],
      "metadata": {
        "id": "qlNYyibNa8Bg"
      }
    },
    {
      "cell_type": "markdown",
      "source": [
        "A function consists of the def statement and the code in its def body and A function call is what moves the program execution into the function, and the function call evaluates to the function’s return value."
      ],
      "metadata": {
        "id": "kW2V5w2LbJFQ"
      }
    },
    {
      "cell_type": "markdown",
      "source": [
        "5. How many global scopes are there in a Python program? How many local scopes?"
      ],
      "metadata": {
        "id": "uA6DPHTGbSwh"
      }
    },
    {
      "cell_type": "markdown",
      "source": [
        "There is one global scope, and a local scope is created whenever a function is called."
      ],
      "metadata": {
        "id": "FMXeTSs5bfib"
      }
    },
    {
      "cell_type": "markdown",
      "source": [
        "6. What happens to variables in a local scope when the function call returns?"
      ],
      "metadata": {
        "id": "FbcwGkvRbk2_"
      }
    },
    {
      "cell_type": "markdown",
      "source": [
        "When a function returns, the local scope is destroyed, and all the variables in it are forgotten."
      ],
      "metadata": {
        "id": "NYeTIczdbr-p"
      }
    },
    {
      "cell_type": "markdown",
      "source": [
        "7. What is the concept of a return value? Is it possible to have a return value in an expression?"
      ],
      "metadata": {
        "id": "d7D_-0wzcUtm"
      }
    },
    {
      "cell_type": "markdown",
      "source": [
        "A return value is the value that a function call evaluates to. Like any value, a return value can be used as part of an expression."
      ],
      "metadata": {
        "id": "DEgy-L1qcbOq"
      }
    },
    {
      "cell_type": "markdown",
      "source": [
        "8. If a function does not have a return statement, what is the return value of a call to that function?"
      ],
      "metadata": {
        "id": "ugDxkDxcchE6"
      }
    },
    {
      "cell_type": "markdown",
      "source": [
        "If there is no return statement for a function, its return value is None."
      ],
      "metadata": {
        "id": "jKbhJJq0cnBh"
      }
    },
    {
      "cell_type": "markdown",
      "source": [
        "9. How do you make a function variable refer to the global variable?"
      ],
      "metadata": {
        "id": "ey164-CNcslC"
      }
    },
    {
      "cell_type": "markdown",
      "source": [
        "A global statement will force a variable in a function to refer to the global variable."
      ],
      "metadata": {
        "id": "OV9v7ksAczox"
      }
    },
    {
      "cell_type": "markdown",
      "source": [
        "10. What is the data type of None?"
      ],
      "metadata": {
        "id": "VdrkHqrcc3hw"
      }
    },
    {
      "cell_type": "markdown",
      "source": [
        "The data type of None is NoneType."
      ],
      "metadata": {
        "id": "yDap1l3Qc689"
      }
    },
    {
      "cell_type": "code",
      "source": [
        "type(None)"
      ],
      "metadata": {
        "colab": {
          "base_uri": "https://localhost:8080/"
        },
        "id": "JuJYHZEsYl50",
        "outputId": "466fe018-74ee-4ad9-c8bf-77fbe30afa85"
      },
      "execution_count": 6,
      "outputs": [
        {
          "output_type": "execute_result",
          "data": {
            "text/plain": [
              "NoneType"
            ]
          },
          "metadata": {},
          "execution_count": 6
        }
      ]
    },
    {
      "cell_type": "markdown",
      "source": [
        "11. What does the sentence import areallyourpetsnamederic do?"
      ],
      "metadata": {
        "id": "0QIgTj5XdEQw"
      }
    },
    {
      "cell_type": "markdown",
      "source": [
        "That import statement imports a module named areallyourpetsnamederic. (This isn’t a real Python module, by the way.)"
      ],
      "metadata": {
        "id": "x7wotm9wdFxZ"
      }
    },
    {
      "cell_type": "markdown",
      "source": [
        "12. If you had a bacon() feature in a spam module, what would you call it after importing spam?"
      ],
      "metadata": {
        "id": "i9r6g7CWdX0W"
      }
    },
    {
      "cell_type": "markdown",
      "source": [
        "bacon() method in a spam module, we would call it as importing spam and bacon function can be called with spam.bacon()."
      ],
      "metadata": {
        "id": "WvWKI9t9dcoZ"
      }
    },
    {
      "cell_type": "markdown",
      "source": [
        "13. What can you do to save a programme from crashing if it encounters an error?"
      ],
      "metadata": {
        "id": "hicoyakIdhCp"
      }
    },
    {
      "cell_type": "markdown",
      "source": [
        "Place the line of code that might cause an error in a try clause."
      ],
      "metadata": {
        "id": "dEUqPOzjdrBF"
      }
    },
    {
      "cell_type": "markdown",
      "source": [
        "14. What is the purpose of the try clause? What is the purpose of the except clause?"
      ],
      "metadata": {
        "id": "tzcbQRGtdvjh"
      }
    },
    {
      "cell_type": "markdown",
      "source": [
        "The code that could potentially cause an error goes in the try clause and The code that executes if an error happens goes in the except clause."
      ],
      "metadata": {
        "id": "pZOBdrEMd0A4"
      }
    },
    {
      "cell_type": "code",
      "source": [],
      "metadata": {
        "id": "N16TAvmDYl2-"
      },
      "execution_count": null,
      "outputs": []
    },
    {
      "cell_type": "code",
      "source": [],
      "metadata": {
        "id": "RHZGrQNAYl0M"
      },
      "execution_count": null,
      "outputs": []
    },
    {
      "cell_type": "code",
      "source": [],
      "metadata": {
        "id": "y-8NgGomYlxa"
      },
      "execution_count": null,
      "outputs": []
    },
    {
      "cell_type": "code",
      "source": [],
      "metadata": {
        "id": "7_v7Y03AYlu4"
      },
      "execution_count": null,
      "outputs": []
    },
    {
      "cell_type": "code",
      "source": [],
      "metadata": {
        "id": "m27VnRJBYlsQ"
      },
      "execution_count": null,
      "outputs": []
    },
    {
      "cell_type": "code",
      "source": [],
      "metadata": {
        "id": "-JXWMCEIYlpw"
      },
      "execution_count": null,
      "outputs": []
    },
    {
      "cell_type": "code",
      "source": [],
      "metadata": {
        "id": "WDAEw0VbYlnP"
      },
      "execution_count": null,
      "outputs": []
    }
  ]
}