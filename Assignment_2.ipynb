{
  "nbformat": 4,
  "nbformat_minor": 0,
  "metadata": {
    "colab": {
      "provenance": [],
      "collapsed_sections": [],
      "authorship_tag": "ABX9TyMX/poQqQUGnT5zv7dv9Ck5",
      "include_colab_link": true
    },
    "kernelspec": {
      "name": "python3",
      "display_name": "Python 3"
    },
    "language_info": {
      "name": "python"
    }
  },
  "cells": [
    {
      "cell_type": "markdown",
      "metadata": {
        "id": "view-in-github",
        "colab_type": "text"
      },
      "source": [
        "<a href=\"https://colab.research.google.com/github/Reeshab/Ineuron-Python-Assignment/blob/main/Assignment_2.ipynb\" target=\"_parent\"><img src=\"https://colab.research.google.com/assets/colab-badge.svg\" alt=\"Open In Colab\"/></a>"
      ]
    },
    {
      "cell_type": "markdown",
      "source": [
        "1.What are the two values of the Boolean data type? How do you write them?"
      ],
      "metadata": {
        "id": "hu4NrIEKXQ4J"
      }
    },
    {
      "cell_type": "markdown",
      "source": [
        "In programming language boolean data types contains two values such as \"True\" and \"False\", using capital T and F, with the rest of the word in lower case."
      ],
      "metadata": {
        "id": "YE1vTdgCXcyH"
      }
    },
    {
      "cell_type": "code",
      "source": [
        "type(True)"
      ],
      "metadata": {
        "colab": {
          "base_uri": "https://localhost:8080/"
        },
        "id": "FsUNlsKxXt0w",
        "outputId": "02e44709-b513-45b1-c234-36dc3a131b8e"
      },
      "execution_count": 1,
      "outputs": [
        {
          "output_type": "execute_result",
          "data": {
            "text/plain": [
              "bool"
            ]
          },
          "metadata": {},
          "execution_count": 1
        }
      ]
    },
    {
      "cell_type": "code",
      "execution_count": 2,
      "metadata": {
        "colab": {
          "base_uri": "https://localhost:8080/"
        },
        "id": "andAgVM1XEnH",
        "outputId": "1e89023c-0b29-4347-90fc-ab491f4396ad"
      },
      "outputs": [
        {
          "output_type": "execute_result",
          "data": {
            "text/plain": [
              "bool"
            ]
          },
          "metadata": {},
          "execution_count": 2
        }
      ],
      "source": [
        "type(False)"
      ]
    },
    {
      "cell_type": "markdown",
      "source": [
        "2.What are the three different types of Boolean operators?"
      ],
      "metadata": {
        "id": "oaYQNJsrX7P9"
      }
    },
    {
      "cell_type": "markdown",
      "source": [
        "There are 3 type of boolean operators And,Or,not which evaluate expression and return true and false as output."
      ],
      "metadata": {
        "id": "ibC785CcYD2X"
      }
    },
    {
      "cell_type": "code",
      "source": [
        "# example for Boolean operators\n",
        "\n",
        "print((5>2) and (4<11)) # In and operator get true as output when both conditions are true. If not we get false as output.\n",
        "print((10<5) or (15>10)) # In or operators get true as output when any of the conditions true or we get false.\n",
        "print(not(5<1)) #In not operator Not(true) gets flase as output, similarly Not (False) get true as output."
      ],
      "metadata": {
        "colab": {
          "base_uri": "https://localhost:8080/"
        },
        "id": "nEat6w1UXP4-",
        "outputId": "400f02a9-9bbc-447e-c1f5-65bd654d3ac8"
      },
      "execution_count": 3,
      "outputs": [
        {
          "output_type": "stream",
          "name": "stdout",
          "text": [
            "True\n",
            "True\n",
            "True\n"
          ]
        }
      ]
    },
    {
      "cell_type": "markdown",
      "source": [
        "3. Make a list of each Boolean operator&#39;s truth tables (i.e. every possible combination of Boolean\n",
        "values for the operator and what it evaluate )."
      ],
      "metadata": {
        "id": "t5PCcbpsaQlz"
      }
    },
    {
      "cell_type": "code",
      "source": [
        "#using And operator with boolean values\n",
        "print(\"Using And operator with boolean values\")\n",
        "print(\"True and True is\", True and True)\n",
        "print(\"True and False is\",True and False)\n",
        "print(\"False and True is\",False and True)\n",
        "print(\"False and False is\", False and False)\n",
        "\n",
        "# using or operator with boolean values\n",
        "print(\"using or operator with bolean values \")\n",
        "print(\"True or True is\" , True or True)\n",
        "print(\"True or False is\" , True or Flase)\n",
        "print(\"True or True  is\"  , False or True)\n",
        "print(\"False or False is\" , False or False)\n",
        "\n",
        "# using not operator with boolean values\n",
        "print(\"using not operator with boolean values\")\n",
        "print(\"not(True) is\", not(True))\n",
        "print(\"not(False) is\", not(False))\n"
      ],
      "metadata": {
        "colab": {
          "base_uri": "https://localhost:8080/"
        },
        "id": "yOaa2ll8XP8E",
        "outputId": "f0a7a9a4-3e43-4366-b2d4-5a7fbedbbfc1"
      },
      "execution_count": 5,
      "outputs": [
        {
          "output_type": "stream",
          "name": "stdout",
          "text": [
            "Using And operator with boolean values\n",
            "True and True is True\n",
            "True and False is False\n",
            "False and True is False\n",
            "False and False is False\n",
            "using or operator with bolean values \n",
            "True or True is True\n",
            "True or False is True\n",
            "True or True  is True\n",
            "False or False is False\n",
            "using not operator with boolean values\n",
            "not(True) is False\n",
            "not(False) is True\n"
          ]
        }
      ]
    },
    {
      "cell_type": "markdown",
      "source": [
        "4. What are the values of the following expressions?\n",
        "(5 &gt; 4) and (3 == 5)\n",
        "not (5 &gt; 4)\n",
        "(5 &gt; 4) or (3 == 5)\n",
        "not ((5 &gt; 4) or (3 == 5))\n",
        "(True and True) and (True == False)\n",
        "(not False) or (not True)"
      ],
      "metadata": {
        "id": "s0Dr7w7qcyHM"
      }
    },
    {
      "cell_type": "code",
      "source": [
        "(5 > 4) and (3 == 5)"
      ],
      "metadata": {
        "colab": {
          "base_uri": "https://localhost:8080/"
        },
        "id": "ht6rn6rEXP_E",
        "outputId": "cadc6fcb-c62e-4adf-9e41-b4b35121a462"
      },
      "execution_count": 6,
      "outputs": [
        {
          "output_type": "execute_result",
          "data": {
            "text/plain": [
              "False"
            ]
          },
          "metadata": {},
          "execution_count": 6
        }
      ]
    },
    {
      "cell_type": "code",
      "source": [
        "not (5>4)"
      ],
      "metadata": {
        "colab": {
          "base_uri": "https://localhost:8080/"
        },
        "id": "9yAINnQ-XQCF",
        "outputId": "4f849ad3-849e-4f14-accd-f3786de32234"
      },
      "execution_count": 7,
      "outputs": [
        {
          "output_type": "execute_result",
          "data": {
            "text/plain": [
              "False"
            ]
          },
          "metadata": {},
          "execution_count": 7
        }
      ]
    },
    {
      "cell_type": "code",
      "source": [
        "(5>4) or (3 == 5)"
      ],
      "metadata": {
        "colab": {
          "base_uri": "https://localhost:8080/"
        },
        "id": "nxyi9_A4dkyB",
        "outputId": "88f7821a-2d8f-4f11-bd2b-f42730abb3ea"
      },
      "execution_count": 8,
      "outputs": [
        {
          "output_type": "execute_result",
          "data": {
            "text/plain": [
              "True"
            ]
          },
          "metadata": {},
          "execution_count": 8
        }
      ]
    },
    {
      "cell_type": "code",
      "source": [
        "not ((5 > 4) or (3==5))"
      ],
      "metadata": {
        "colab": {
          "base_uri": "https://localhost:8080/"
        },
        "id": "IWXsFn5Adk1d",
        "outputId": "085cd885-3c8d-4ff7-8a3f-7cd24f726541"
      },
      "execution_count": 9,
      "outputs": [
        {
          "output_type": "execute_result",
          "data": {
            "text/plain": [
              "False"
            ]
          },
          "metadata": {},
          "execution_count": 9
        }
      ]
    },
    {
      "cell_type": "code",
      "source": [
        "(True and True) and (True == False)"
      ],
      "metadata": {
        "colab": {
          "base_uri": "https://localhost:8080/"
        },
        "id": "H2IEKGYGdk4x",
        "outputId": "8f99ae6e-44c5-45a3-9d39-cb1dd84901e7"
      },
      "execution_count": 10,
      "outputs": [
        {
          "output_type": "execute_result",
          "data": {
            "text/plain": [
              "False"
            ]
          },
          "metadata": {},
          "execution_count": 10
        }
      ]
    },
    {
      "cell_type": "code",
      "source": [
        "(not False) or (not True)"
      ],
      "metadata": {
        "colab": {
          "base_uri": "https://localhost:8080/"
        },
        "id": "lbjuucTXdk8O",
        "outputId": "5bf53d32-f944-420e-a476-491fffa9c6c0"
      },
      "execution_count": 11,
      "outputs": [
        {
          "output_type": "execute_result",
          "data": {
            "text/plain": [
              "True"
            ]
          },
          "metadata": {},
          "execution_count": 11
        }
      ]
    },
    {
      "cell_type": "markdown",
      "source": [
        "5. What are the six comparison operators?"
      ],
      "metadata": {
        "id": "8cJ2pNNXd-KU"
      }
    },
    {
      "cell_type": "code",
      "source": [
        "# the six comparison operators in python programming are ==, !=, <,>, <= and >=.\n",
        "\n",
        "a=20\n",
        "b=30\n",
        "print(a==b)# its checks both a and b are equal or not\n",
        "print(a!=b)# its checks a is not equal to b or not\n",
        "print(a<b)# checks a is less than b or not\n",
        "print(a>b)# checks a is greater than b or not\n",
        "print(a<=b) # checks a is less than or equal to b or not\n",
        "print(a>=b) # a is greater than or equal to b or not"
      ],
      "metadata": {
        "colab": {
          "base_uri": "https://localhost:8080/"
        },
        "id": "2e_YPq5Cdk_v",
        "outputId": "9a6d02c6-13b8-46d2-fad6-fc4239558c3b"
      },
      "execution_count": 12,
      "outputs": [
        {
          "output_type": "stream",
          "name": "stdout",
          "text": [
            "False\n",
            "True\n",
            "True\n",
            "False\n",
            "True\n",
            "False\n"
          ]
        }
      ]
    },
    {
      "cell_type": "markdown",
      "source": [
        "6. How do you tell the difference between the equal to and assignment operators?Describe a\n",
        "condition and when you would use one."
      ],
      "metadata": {
        "id": "uPA8QN75g6xh"
      }
    },
    {
      "cell_type": "markdown",
      "source": [
        "In python programming == is the equal operator that compares two values and evaluates to a boolean. While = is the assignment operator that stores a value in a variable."
      ],
      "metadata": {
        "id": "74Z86DENhGoe"
      }
    },
    {
      "cell_type": "code",
      "source": [
        "# it check wheather a and b are equal or not\n",
        "a= int(input(\"enter the first value\"))\n",
        "b= int(input(\"enter the second value\"))\n",
        "if(a==b):\n",
        "    print(a,\"is equal to\",b,\"is\",a==b)\n",
        "else:\n",
        "    print(a,\"is equal to\",b,\"is\", a==b)\n"
      ],
      "metadata": {
        "colab": {
          "base_uri": "https://localhost:8080/"
        },
        "id": "R_2cPbNPeEpx",
        "outputId": "75529d8e-9206-4e28-8666-c2c176d47656"
      },
      "execution_count": 13,
      "outputs": [
        {
          "output_type": "stream",
          "name": "stdout",
          "text": [
            "enter the first value2\n",
            "enter the second value3\n",
            "2 is equal to 3 is False\n"
          ]
        }
      ]
    },
    {
      "cell_type": "markdown",
      "source": [],
      "metadata": {
        "id": "0VRheAoueHBi"
      }
    },
    {
      "cell_type": "markdown",
      "source": [
        "# c is a variable name which stores value 10."
      ],
      "metadata": {
        "id": "horujWj_inLP"
      }
    },
    {
      "cell_type": "markdown",
      "source": [],
      "metadata": {
        "id": "onZYybtJis0_"
      }
    },
    {
      "cell_type": "code",
      "source": [
        "c = 20\n",
        "print(c)"
      ],
      "metadata": {
        "colab": {
          "base_uri": "https://localhost:8080/"
        },
        "id": "pxgx1m4ZhrhN",
        "outputId": "712f1fb3-f26f-496a-fab2-94b585858186"
      },
      "execution_count": 14,
      "outputs": [
        {
          "output_type": "stream",
          "name": "stdout",
          "text": [
            "20\n"
          ]
        }
      ]
    },
    {
      "cell_type": "markdown",
      "source": [
        "7. Identify the three blocks in this code:\n",
        "spam = 0\n",
        "if spam == 10:\n",
        "print(&#39;eggs&#39;)\n",
        "if spam &gt; 5:\n",
        "print(&#39;bacon&#39;)\n",
        "else:\n",
        "print(&#39;ham&#39;)\n",
        "print(&#39;spam&#39;)\n",
        "print(&#39;spam&#39;)"
      ],
      "metadata": {
        "id": "PyDuMB8_i1UE"
      }
    },
    {
      "cell_type": "code",
      "source": [
        "spam = 10\n",
        "if spam == 10:# block 1\n",
        "    print(\"eggs\")\n",
        "if spam > 5: # block 2 in block 1\n",
        "    print(\"bacon\")  \n",
        "else: # block 3 in block 1\n",
        "     print(\"ham\")\n",
        "print(\"spam\") \n",
        "print(\"spam\")  \n",
        "\n",
        "   "
      ],
      "metadata": {
        "colab": {
          "base_uri": "https://localhost:8080/"
        },
        "id": "jiRybC2FeEsp",
        "outputId": "eb53e885-56a3-4963-e13e-793d87eb900e"
      },
      "execution_count": 25,
      "outputs": [
        {
          "output_type": "stream",
          "name": "stdout",
          "text": [
            "eggs\n",
            "bacon\n",
            "spam\n",
            "spam\n"
          ]
        }
      ]
    },
    {
      "cell_type": "code",
      "source": [
        "spam = 0\n",
        "if spam == 10:# block 1\n",
        "    print(\"eggs\")\n",
        "if spam > 5: # block 2 in block 1\n",
        "    print(\"bacon\")  \n",
        "else: # block 3 in block 1\n",
        "     print(\"ham\")\n",
        "print(\"spam\") \n",
        "print(\"spam\")  "
      ],
      "metadata": {
        "colab": {
          "base_uri": "https://localhost:8080/"
        },
        "id": "sc5OX9YTeEvv",
        "outputId": "b85c3370-f0aa-4c30-bd5a-c747c5cc0b45"
      },
      "execution_count": 26,
      "outputs": [
        {
          "output_type": "stream",
          "name": "stdout",
          "text": [
            "ham\n",
            "spam\n",
            "spam\n"
          ]
        }
      ]
    },
    {
      "cell_type": "markdown",
      "source": [
        "8. Write code that prints Hello if 1 is stored in spam, prints Howdy if 2 is stored in spam, and prints\n",
        "Greetings! if anything else is stored in spam."
      ],
      "metadata": {
        "id": "FriOmrlalTsO"
      }
    },
    {
      "cell_type": "code",
      "source": [
        "if spam == 1:\n",
        "    print('Hello')\n",
        "elif spam == 2:\n",
        "    print('Howdy')\n",
        "else:\n",
        "    print('Greetings!')"
      ],
      "metadata": {
        "colab": {
          "base_uri": "https://localhost:8080/"
        },
        "id": "9G0P9dOieEy8",
        "outputId": "b51a6f5f-f4ad-438a-e9aa-360265facd6f"
      },
      "execution_count": 27,
      "outputs": [
        {
          "output_type": "stream",
          "name": "stdout",
          "text": [
            "Greetings!\n"
          ]
        }
      ]
    },
    {
      "cell_type": "markdown",
      "source": [
        "9.If your programme is stuck in an endless loop, what keys you’ll press?"
      ],
      "metadata": {
        "id": "cNqOcIf6meR0"
      }
    },
    {
      "cell_type": "markdown",
      "source": [
        "we can Press CTRL-C to stop a program stuck in an infinite loop."
      ],
      "metadata": {
        "id": "kROv_nlWnH00"
      }
    },
    {
      "cell_type": "markdown",
      "source": [
        "10. How can you tell the difference between break and continue?"
      ],
      "metadata": {
        "id": "HQlbg6A8nJ0h"
      }
    },
    {
      "cell_type": "markdown",
      "source": [
        "The break statement will move the execution outside and just after a loop. The continue statement will move the execution to the start of the loop."
      ],
      "metadata": {
        "id": "yIdZq9TVnVvd"
      }
    },
    {
      "cell_type": "markdown",
      "source": [
        "11. In a for loop, what is the difference between range(10), range(0, 10), and range(0, 10, 1)?"
      ],
      "metadata": {
        "id": "2qgHOZ-CnpYA"
      }
    },
    {
      "cell_type": "code",
      "source": [
        "print(\"value of range(10) is\")\n",
        "print(range(10))\n",
        "print(\"value of range(0,10) is \")      \n",
        "print(range(0,10))\n",
        "print(\"value of range(0,10,1) is\")      \n",
        "print(range(0,10,1))"
      ],
      "metadata": {
        "colab": {
          "base_uri": "https://localhost:8080/"
        },
        "id": "z1-dZMWqeE2n",
        "outputId": "0b3c26fc-c213-4224-b4b4-a1484c9abb2a"
      },
      "execution_count": 28,
      "outputs": [
        {
          "output_type": "stream",
          "name": "stdout",
          "text": [
            "value of range(10) is\n",
            "range(0, 10)\n",
            "value of range(0,10) is \n",
            "range(0, 10)\n",
            "value of range(0,10,1) is\n",
            "range(0, 10)\n"
          ]
        }
      ]
    },
    {
      "cell_type": "markdown",
      "source": [
        "Here all are same. The range (10) cal, ranges from 0 up to 10(but not including 10), range(0, 10) exactly tells the loop to start at 0 and range(0,10,1) it tells the loop to increase the variable by 1 on each iteration."
      ],
      "metadata": {
        "id": "WP00K8YFptj4"
      }
    },
    {
      "cell_type": "markdown",
      "source": [
        "12. Write a short program that prints the numbers 1 to 10 using a for loop. Then write an equivalent program that prints the numbers 1 to 10 using a while loop."
      ],
      "metadata": {
        "id": "W81-5_u5qTJd"
      }
    },
    {
      "cell_type": "code",
      "source": [
        "for i in range(1,11):\n",
        "  print(i)"
      ],
      "metadata": {
        "colab": {
          "base_uri": "https://localhost:8080/"
        },
        "id": "bdrskRm8nXWk",
        "outputId": "f95e721d-0640-4678-d20c-caca87bcb7a3"
      },
      "execution_count": 29,
      "outputs": [
        {
          "output_type": "stream",
          "name": "stdout",
          "text": [
            "1\n",
            "2\n",
            "3\n",
            "4\n",
            "5\n",
            "6\n",
            "7\n",
            "8\n",
            "9\n",
            "10\n"
          ]
        }
      ]
    },
    {
      "cell_type": "code",
      "source": [
        "i=1\n",
        "while(i<=10):\n",
        "    print(i)\n",
        "    i=i+1"
      ],
      "metadata": {
        "colab": {
          "base_uri": "https://localhost:8080/"
        },
        "id": "mNGYwUsCnXZ_",
        "outputId": "453054ae-4cad-4562-f880-645ea0b487a6"
      },
      "execution_count": 30,
      "outputs": [
        {
          "output_type": "stream",
          "name": "stdout",
          "text": [
            "1\n",
            "2\n",
            "3\n",
            "4\n",
            "5\n",
            "6\n",
            "7\n",
            "8\n",
            "9\n",
            "10\n"
          ]
        }
      ]
    },
    {
      "cell_type": "markdown",
      "source": [
        "13 If you had a function named bacon() inside a module named spam, how would you call it after importing spam?"
      ],
      "metadata": {
        "id": "adDZCokcr68K"
      }
    },
    {
      "cell_type": "markdown",
      "source": [
        "function named bacon() inside a module named spam, we  call it after importing spam as spam.bacon()"
      ],
      "metadata": {
        "id": "GmTH46BfsDXJ"
      }
    },
    {
      "cell_type": "code",
      "source": [],
      "metadata": {
        "id": "H5jJsnXInXdZ"
      },
      "execution_count": null,
      "outputs": []
    },
    {
      "cell_type": "code",
      "source": [],
      "metadata": {
        "id": "_QrXEAdMdlDy"
      },
      "execution_count": null,
      "outputs": []
    },
    {
      "cell_type": "code",
      "source": [],
      "metadata": {
        "id": "v5_R0JO0XQE0"
      },
      "execution_count": null,
      "outputs": []
    },
    {
      "cell_type": "code",
      "source": [],
      "metadata": {
        "id": "ZYTx0cEWXQIc"
      },
      "execution_count": null,
      "outputs": []
    }
  ]
}