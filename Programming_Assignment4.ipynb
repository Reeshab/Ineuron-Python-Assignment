{
  "nbformat": 4,
  "nbformat_minor": 0,
  "metadata": {
    "colab": {
      "provenance": [],
      "collapsed_sections": [],
      "authorship_tag": "ABX9TyNeYJ11rXqawragywKgTIaG",
      "include_colab_link": true
    },
    "kernelspec": {
      "name": "python3",
      "display_name": "Python 3"
    },
    "language_info": {
      "name": "python"
    }
  },
  "cells": [
    {
      "cell_type": "markdown",
      "metadata": {
        "id": "view-in-github",
        "colab_type": "text"
      },
      "source": [
        "<a href=\"https://colab.research.google.com/github/Reeshab/Ineuron-Python-Assignment/blob/main/Programming_Assignment4.ipynb\" target=\"_parent\"><img src=\"https://colab.research.google.com/assets/colab-badge.svg\" alt=\"Open In Colab\"/></a>"
      ]
    },
    {
      "cell_type": "markdown",
      "source": [
        "1. Write a Python Program to Find the Factorial of a Number?"
      ],
      "metadata": {
        "id": "fFv6jNDbUAbe"
      }
    },
    {
      "cell_type": "code",
      "source": [
        "num = int(input(\"Enter the number for which the factorial needs to be calculated:\"))\n",
        "factorial = 1\n",
        "if num < 0:\n",
        "  print(\"Factorial cannot be calculated, negative input\")\n",
        "elif num==0:\n",
        "  print(\"Factorial of the number is 1 \")\n",
        "else:\n",
        "  for i in range(1, num+1):\n",
        "    factorial = factorial * i\n",
        "  print(\"Factorial of the given number is:\",factorial)      "
      ],
      "metadata": {
        "colab": {
          "base_uri": "https://localhost:8080/"
        },
        "id": "y7dtpbsOT1Hg",
        "outputId": "d5121608-e7ae-4ae5-a935-33afbb3a4f07"
      },
      "execution_count": 2,
      "outputs": [
        {
          "output_type": "stream",
          "name": "stdout",
          "text": [
            "Enter the number for which the factorial needs to be calculated:3\n",
            "Factorial of the given number is: 6\n"
          ]
        }
      ]
    },
    {
      "cell_type": "markdown",
      "source": [
        "2. Write a Python Program to Display the multiplication Table?"
      ],
      "metadata": {
        "id": "3jhD3QoYXxB-"
      }
    },
    {
      "cell_type": "code",
      "source": [
        "Num = int(input(\"Enter the number you want to generate a multiplication table for: \"))\n",
        "Range= range(1,11)\n",
        "for x in Range:\n",
        "  result= Num * x\n",
        "  print(Num,\"*\",x,\"=\",result)"
      ],
      "metadata": {
        "colab": {
          "base_uri": "https://localhost:8080/"
        },
        "id": "pmIaCQ4FT1EM",
        "outputId": "627ccbff-7449-4c66-9430-25450d2429f9"
      },
      "execution_count": 3,
      "outputs": [
        {
          "output_type": "stream",
          "name": "stdout",
          "text": [
            "Enter the number you want to generate a multiplication table for: 7\n",
            "7 * 1 = 7\n",
            "7 * 2 = 14\n",
            "7 * 3 = 21\n",
            "7 * 4 = 28\n",
            "7 * 5 = 35\n",
            "7 * 6 = 42\n",
            "7 * 7 = 49\n",
            "7 * 8 = 56\n",
            "7 * 9 = 63\n",
            "7 * 10 = 70\n"
          ]
        }
      ]
    },
    {
      "cell_type": "markdown",
      "source": [
        "3. Write a Python Program to Print the Fibonacci sequence?"
      ],
      "metadata": {
        "id": "ffjETwBCZOt4"
      }
    },
    {
      "cell_type": "code",
      "source": [
        "numterms = int(input(\"How many terms? : \"))\n",
        "n1 , n2 = 0 ,1\n",
        "count = 0\n",
        "\n",
        "if numterms <=0:\n",
        "   print(f\"We have to enter a positive integer\")\n",
        "elif numterms == 1:\n",
        "  print(f\"Fibonacci sequence upto\",numterms,\":\")   \n",
        "  print(n1)\n",
        "else:\n",
        "  print(\"Fibonacci sequence:\")\n",
        "  while count < numterms:\n",
        "    print(n1)\n",
        "    nth = n1 + n2\n",
        "    n1 = n2\n",
        "    n2 = nth\n",
        "    count += 1  \n"
      ],
      "metadata": {
        "colab": {
          "base_uri": "https://localhost:8080/"
        },
        "id": "ORTNT3tIT1BL",
        "outputId": "d460e2b9-af60-454b-ebbc-305da66ce26a"
      },
      "execution_count": 12,
      "outputs": [
        {
          "output_type": "stream",
          "name": "stdout",
          "text": [
            "How many terms? : 5\n",
            "Fibonacci sequence:\n",
            "0\n",
            "1\n",
            "1\n",
            "2\n",
            "3\n"
          ]
        }
      ]
    },
    {
      "cell_type": "markdown",
      "source": [
        "4. Write a Python Program to Check Armstrong Number?"
      ],
      "metadata": {
        "id": "ymKjgiXXZSRN"
      }
    },
    {
      "cell_type": "code",
      "source": [
        "Num = int(input(\"Enter a number:\"))\n",
        "sum = 0\n",
        "temp = Num\n",
        "while temp > 0:\n",
        "  digit = temp % 10\n",
        "  sum += digit**3\n",
        "  temp //=10\n",
        "if Num == sum:\n",
        "   print(Num, \"is an Armstrong number\")\n",
        "else:\n",
        "   print(Num, \"is not an Armstrong number\")     "
      ],
      "metadata": {
        "colab": {
          "base_uri": "https://localhost:8080/"
        },
        "id": "jxQuowuwT0-P",
        "outputId": "e65e1b2e-d83a-4887-a1c6-2fd1341a3ff3"
      },
      "execution_count": 5,
      "outputs": [
        {
          "output_type": "stream",
          "name": "stdout",
          "text": [
            "Enter a number:6\n",
            "6 is not an Armstrong number\n"
          ]
        }
      ]
    },
    {
      "cell_type": "markdown",
      "source": [
        "5. Write a Python Program to Find Armstrong Number in an Interval?"
      ],
      "metadata": {
        "id": "j6P24IG3aRXQ"
      }
    },
    {
      "cell_type": "code",
      "source": [
        "lower_num= int(input(\"Enter a number: \"))\n",
        "Upper_num= int(input(\"Enter a number: \"))\n",
        "     \n",
        "for num in range(lower_num, Upper_num + 1):\n",
        "\n",
        "   \n",
        "   order = len(str(num))\n",
        "    \n",
        "   \n",
        "   sum = 0\n",
        "\n",
        "   temp = num\n",
        "   while temp > 0:\n",
        "       digit = temp % 10\n",
        "       sum += digit ** order\n",
        "       temp //= 10\n",
        "\n",
        "   if num == sum:\n",
        "       print(num)"
      ],
      "metadata": {
        "colab": {
          "base_uri": "https://localhost:8080/"
        },
        "id": "2NQlvd_1ZXg_",
        "outputId": "56db6359-38c5-4c7a-e1ca-20f7ce2eae5f"
      },
      "execution_count": 7,
      "outputs": [
        {
          "output_type": "stream",
          "name": "stdout",
          "text": [
            "Enter a number: 56\n",
            "Enter a number: 799\n",
            "153\n",
            "370\n",
            "371\n",
            "407\n"
          ]
        }
      ]
    },
    {
      "cell_type": "markdown",
      "source": [
        "6. Write a Python Program to Find the Sum of Natural Numbers?"
      ],
      "metadata": {
        "id": "xL-Q_vbVcnAQ"
      }
    },
    {
      "cell_type": "code",
      "source": [
        "num = int(input(\"enter any natural number:\"))\n",
        "d= (num*(num+1))/2\n",
        "print(d)"
      ],
      "metadata": {
        "colab": {
          "base_uri": "https://localhost:8080/"
        },
        "id": "Xq-CREyMT07b",
        "outputId": "fbc5456f-f566-4120-854c-24de4174e788"
      },
      "execution_count": 9,
      "outputs": [
        {
          "output_type": "stream",
          "name": "stdout",
          "text": [
            "enter any natural number:100\n",
            "5050.0\n"
          ]
        }
      ]
    },
    {
      "cell_type": "code",
      "source": [],
      "metadata": {
        "id": "b_YKBcz6T04k"
      },
      "execution_count": null,
      "outputs": []
    },
    {
      "cell_type": "code",
      "source": [],
      "metadata": {
        "id": "Vov1Bi_GT012"
      },
      "execution_count": null,
      "outputs": []
    },
    {
      "cell_type": "code",
      "source": [],
      "metadata": {
        "id": "Jh74qwOLT0y4"
      },
      "execution_count": null,
      "outputs": []
    },
    {
      "cell_type": "code",
      "source": [],
      "metadata": {
        "id": "1ycZH1u_T0vw"
      },
      "execution_count": null,
      "outputs": []
    },
    {
      "cell_type": "code",
      "source": [],
      "metadata": {
        "id": "PcXNQef3T0s0"
      },
      "execution_count": null,
      "outputs": []
    },
    {
      "cell_type": "code",
      "execution_count": null,
      "metadata": {
        "id": "Reu9sfgcSnFp"
      },
      "outputs": [],
      "source": []
    }
  ]
}