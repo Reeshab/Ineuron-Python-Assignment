{
  "nbformat": 4,
  "nbformat_minor": 0,
  "metadata": {
    "colab": {
      "provenance": [],
      "collapsed_sections": [],
      "authorship_tag": "ABX9TyMwZ1xF46B4kigE8+Xf1u8o",
      "include_colab_link": true
    },
    "kernelspec": {
      "name": "python3",
      "display_name": "Python 3"
    },
    "language_info": {
      "name": "python"
    }
  },
  "cells": [
    {
      "cell_type": "markdown",
      "metadata": {
        "id": "view-in-github",
        "colab_type": "text"
      },
      "source": [
        "<a href=\"https://colab.research.google.com/github/Reeshab/Ineuron-Python-Assignment/blob/main/Programming_Assignment_23.ipynb\" target=\"_parent\"><img src=\"https://colab.research.google.com/assets/colab-badge.svg\" alt=\"Open In Colab\"/></a>"
      ]
    },
    {
      "cell_type": "markdown",
      "source": [
        "Question 1\n",
        "Create a function that takes a number as an argument and returns True or False depending\n",
        "on whether the number is symmetrical or not. A number is symmetrical when it is the same as\n",
        "its reverse.\n",
        "Examples\n",
        "is_symmetrical(7227) ➞ True\n",
        "is_symmetrical(12567) ➞ False\n",
        "is_symmetrical(44444444) ➞ True\n",
        "is_symmetrical(9939) ➞ False\n",
        "is_symmetrical(1112111) ➞ True"
      ],
      "metadata": {
        "id": "Lj1RjqSRXYE3"
      }
    },
    {
      "cell_type": "code",
      "execution_count": null,
      "metadata": {
        "id": "GiFOeHmCWR1M"
      },
      "outputs": [],
      "source": [
        "def is_symmetrical(input_number):\n",
        "    if str(input_number) == str(input_number)[::-1]:\n",
        "       print(f'{input_number} -> {True}')\n",
        "    else:\n",
        "       print(f'{input_number} -> {False}')\n",
        "\n",
        "is_symmetrical(7227)\n",
        "is_symmetrical(12567)\n",
        "is_symmetrical(44444444)\n",
        "is_symmetrical(9939)\n",
        "is_symmetrical(1112111)"
      ]
    },
    {
      "cell_type": "markdown",
      "source": [
        "Question 2\n",
        "Given a string of numbers separated by a comma and space, return the product of the\n",
        "numbers.\n",
        "Examples\n",
        "multiply_nums(&quot;2, 3&quot;) ➞ 6\n",
        "multiply_nums(&quot;1, 2, 3, 4&quot;) ➞ 24\n",
        "multiply_nums(&quot;54, 75, 453, 0&quot;) ➞ 0\n",
        "multiply_nums(&quot;10, -2&quot;) ➞ -20"
      ],
      "metadata": {
        "id": "tvBnl2byXcJs"
      }
    },
    {
      "cell_type": "code",
      "source": [
        "def multiply_nums(input_string):\n",
        "    output_string = input_string.replace(' ', ' ').split(',')\n",
        "    output_num = 1\n",
        "    for element in output_string:\n",
        "        output_num *= int(element)\n",
        "    print(f'{input_string} -> {output_num}')\n",
        "\n",
        "multiply_nums(\"2, 3\")\n",
        "multiply_nums(\"1, 2, 3, 4\")\n",
        "multiply_nums(\"54, 75, 453, 0\")\n",
        "multiply_nums(\"10, -2\")\n"
      ],
      "metadata": {
        "colab": {
          "base_uri": "https://localhost:8080/"
        },
        "id": "TFuzLNq9Wwcq",
        "outputId": "cc4653f2-800f-4732-b197-b7c966cde63d"
      },
      "execution_count": null,
      "outputs": [
        {
          "output_type": "stream",
          "name": "stdout",
          "text": [
            "2, 3 -> 6\n",
            "1, 2, 3, 4 -> 24\n",
            "54, 75, 453, 0 -> 0\n",
            "10, -2 -> -20\n"
          ]
        }
      ]
    },
    {
      "cell_type": "markdown",
      "source": [
        "Question 3\n",
        "Create a function that squares every digit of a number.\n",
        "Examples\n",
        "square_digits(9119) ➞ 811181\n",
        "square_digits(2483) ➞ 416649\n",
        "square_digits(3212) ➞ 9414\n",
        "Notes\n",
        "The function receives an integer and must return an integer."
      ],
      "metadata": {
        "id": "3d0mdLMxXgeo"
      }
    },
    {
      "cell_type": "code",
      "source": [
        "def square_digits(input_number):\n",
        "    #for element in str(input_number):\n",
        "    input_list = [str(int(element)**2) for element in str(input_number)]\n",
        "    output_list = ' '.join(input_list)\n",
        "    print(f'{input_number} -> {(output_list)}')\n",
        "\n",
        "square_digits(9119)\n",
        "square_digits(2483)\n",
        "square_digits(3212)"
      ],
      "metadata": {
        "colab": {
          "base_uri": "https://localhost:8080/"
        },
        "id": "lRxdHD8nWwfx",
        "outputId": "afa55075-0d2b-45ec-ab3b-1f9507a0211c"
      },
      "execution_count": null,
      "outputs": [
        {
          "output_type": "stream",
          "name": "stdout",
          "text": [
            "9119 -> 81 1 1 81\n",
            "2483 -> 4 16 64 9\n",
            "3212 -> 9 4 1 4\n"
          ]
        }
      ]
    },
    {
      "cell_type": "markdown",
      "source": [
        "Question 4\n",
        "Create a function that sorts a list and removes all duplicate items from it.\n",
        "Examples\n",
        "setify([1, 3, 3, 5, 5]) ➞ [1, 3, 5]\n",
        "setify([4, 4, 4, 4]) ➞ [4]\n",
        "setify([5, 7, 8, 9, 10, 15]) ➞ [5, 7, 8, 9, 10, 15]\n",
        "setify([3, 3, 3, 2, 1]) ➞ [1, 2, 3]"
      ],
      "metadata": {
        "id": "oGLkRGk4XkId"
      }
    },
    {
      "cell_type": "code",
      "source": [
        "def setisfy(input_list):\n",
        "    output_list = sorted(set(input_list))\n",
        "    print(f'{input_list} -> {output_list}')\n",
        "\n",
        "\n",
        "setisfy([1, 3, 3, 5, 5]) \n",
        "setisfy([4, 4, 4, 4])\n",
        "setisfy([5, 7, 8, 9, 10, 15])\n",
        "setisfy([3, 3, 3, 2, 1])"
      ],
      "metadata": {
        "colab": {
          "base_uri": "https://localhost:8080/"
        },
        "id": "pxTSuN57Wwiq",
        "outputId": "32332eea-595c-4183-be64-7e1f832c2d6c"
      },
      "execution_count": null,
      "outputs": [
        {
          "output_type": "stream",
          "name": "stdout",
          "text": [
            "[1, 3, 3, 5, 5] -> [1, 3, 5]\n",
            "[4, 4, 4, 4] -> [4]\n",
            "[5, 7, 8, 9, 10, 15] -> [5, 7, 8, 9, 10, 15]\n",
            "[3, 3, 3, 2, 1] -> [1, 2, 3]\n"
          ]
        }
      ]
    },
    {
      "cell_type": "markdown",
      "source": [
        "Question 5\n",
        "Create a function that returns the mean of all digits.\n",
        "Examples\n",
        "mean(42) ➞ 3\n",
        "mean(12345) ➞ 3\n",
        "mean(666) ➞ 6\n",
        "Notes\n",
        " The mean of all digits is the sum of digits / how many digits there are (e.g. mean of digits in\n",
        "512 is (5+1+2)/3(number of digits) = 8/3=2).\n",
        " The mean will always be an integer."
      ],
      "metadata": {
        "id": "JAqmFKmbXn-O"
      }
    },
    {
      "cell_type": "code",
      "source": [
        "def mean(input_number):\n",
        "    input_list = [int(element) for element in str(input_number)]\n",
        "    output_list = sum(input_list)/len(str(input_number))\n",
        "    print(f'Mean of {input_number} -> {output_list:.0f}')\n",
        "\n",
        "\n",
        "mean(42)\n",
        "mean(12345)\n",
        "mean(666)    \n"
      ],
      "metadata": {
        "colab": {
          "base_uri": "https://localhost:8080/"
        },
        "id": "e5lbWEdsWwlt",
        "outputId": "713604ed-3f32-4cab-dfcf-b3abae601ce4"
      },
      "execution_count": null,
      "outputs": [
        {
          "output_type": "stream",
          "name": "stdout",
          "text": [
            "Mean of 42 -> 3\n",
            "Mean of 12345 -> 3\n",
            "Mean of 666 -> 6\n"
          ]
        }
      ]
    },
    {
      "cell_type": "code",
      "source": [],
      "metadata": {
        "id": "CyEMpQu3WwoZ"
      },
      "execution_count": null,
      "outputs": []
    },
    {
      "cell_type": "code",
      "source": [],
      "metadata": {
        "id": "mL9NCLauWwrS"
      },
      "execution_count": null,
      "outputs": []
    },
    {
      "cell_type": "code",
      "source": [],
      "metadata": {
        "id": "NM2whiHQWwub"
      },
      "execution_count": null,
      "outputs": []
    },
    {
      "cell_type": "code",
      "source": [],
      "metadata": {
        "id": "jTG4fGNbWwxF"
      },
      "execution_count": null,
      "outputs": []
    },
    {
      "cell_type": "code",
      "source": [],
      "metadata": {
        "id": "-qkjkGqkWw0r"
      },
      "execution_count": null,
      "outputs": []
    }
  ]
}