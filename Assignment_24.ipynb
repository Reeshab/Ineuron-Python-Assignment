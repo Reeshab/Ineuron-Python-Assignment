{
  "nbformat": 4,
  "nbformat_minor": 0,
  "metadata": {
    "colab": {
      "provenance": [],
      "authorship_tag": "ABX9TyNRhv/8F4UytHa77b5SHTIq",
      "include_colab_link": true
    },
    "kernelspec": {
      "name": "python3",
      "display_name": "Python 3"
    },
    "language_info": {
      "name": "python"
    }
  },
  "cells": [
    {
      "cell_type": "markdown",
      "metadata": {
        "id": "view-in-github",
        "colab_type": "text"
      },
      "source": [
        "<a href=\"https://colab.research.google.com/github/Reeshab/Ineuron-Python-Assignment/blob/main/Assignment_24.ipynb\" target=\"_parent\"><img src=\"https://colab.research.google.com/assets/colab-badge.svg\" alt=\"Open In Colab\"/></a>"
      ]
    },
    {
      "cell_type": "markdown",
      "source": [
        "1. What is the relationship between def statements and lambda expressions ?"
      ],
      "metadata": {
        "id": "XkCzNXYerFeK"
      }
    },
    {
      "cell_type": "markdown",
      "source": [
        "Ans: def statement is used to create a normal function. where as lamba expressions are used to create Anonymous functions. which can be assigned to a variable and can be called using the variable later in function.\n",
        "\n",
        "Lambda's body is a single expression and not a block of statements like def statement. The lambda expression's body is similar to what we'd put in a def body's return statement. We simply type the result as an expression instead of explicitly returning it. Because it is limited to an expression, a lambda is less general than a def statement."
      ],
      "metadata": {
        "id": "gORMEiKF2bTA"
      }
    },
    {
      "cell_type": "markdown",
      "source": [
        "2. What is the benefit of lambda?"
      ],
      "metadata": {
        "id": "jrA179olrJ42"
      }
    },
    {
      "cell_type": "markdown",
      "source": [
        "Ans: The following are some of the benefits of lambda expressions:\n",
        "\n",
        "Can be used to create Nameless/Anonymous functions inside some complex functions if we are planning to use it only once.\n",
        "\n",
        "Moderate to small functions can be created in a single line\n",
        "\n",
        "\n",
        "Fuctions created using lambda expressions can be assigned to a variable and can be used by simply calling the variable\n",
        "\n",
        "*   List item\n",
        "*   List item\n",
        "\n"
      ],
      "metadata": {
        "id": "-JuzYrvf2whW"
      }
    },
    {
      "cell_type": "markdown",
      "source": [
        "3. Compare and contrast map, filter, and reduce."
      ],
      "metadata": {
        "id": "4TFYgToOrNN3"
      }
    },
    {
      "cell_type": "markdown",
      "source": [
        "Ans: The differences between map, filter and reduce are:\n",
        "\n",
        "map(): The map() function is a type of higher-order. This function takes another function as a parameter\n",
        "\n",
        "along with a sequence of iterables and returns an output after applying the function to each iterable present in the sequence. 2. filter(): The filter() function is used to create an output list consisting of values for which the function returns true. 3. reduce(): The reduce() function, as the name describes, applies a given function to the iterables and returns a single value"
      ],
      "metadata": {
        "id": "jRuxgcqv3Mou"
      }
    },
    {
      "cell_type": "code",
      "source": [
        "from functools import reduce\n",
        "\n",
        "print('Map ->',list(map(lambda x:x+x, [1,2,3,4])))\n",
        "\n",
        "print('Filter ->',list(filter(lambda x:x%2 !=0, [1,2,3,4])))\n",
        "\n",
        "print('Reduce ->',reduce(lambda x,y:x+y, [1,2,3,4,5,6]))"
      ],
      "metadata": {
        "colab": {
          "base_uri": "https://localhost:8080/"
        },
        "id": "uPwglkvorEa5",
        "outputId": "24e9e9ca-bc0a-430e-8770-fdc990941eac"
      },
      "execution_count": 1,
      "outputs": [
        {
          "output_type": "stream",
          "name": "stdout",
          "text": [
            "Map -> [2, 4, 6, 8]\n",
            "Filter -> [1, 3]\n",
            "Reduce -> 21\n"
          ]
        }
      ]
    },
    {
      "cell_type": "markdown",
      "source": [
        "4. What are function annotations, and how are they used?"
      ],
      "metadata": {
        "id": "Ommtp4d5rQv-"
      }
    },
    {
      "cell_type": "markdown",
      "source": [
        "Ans: Function annotations provide a way of associating various parts of a function with arbitrary pythoncexpressions at compile time.\n",
        "\n",
        "Annotations of simple parameters def func(x: expression, y: expression = 20):\n",
        "\n",
        "Whereas the annotations for excess parameters are as − def func (**args: expression, **kwargs: expression):"
      ],
      "metadata": {
        "id": "Wrx_clS73hvQ"
      }
    },
    {
      "cell_type": "markdown",
      "source": [
        "5. What are recursive functions, and how are they used?"
      ],
      "metadata": {
        "id": "llEJOolGrUBG"
      }
    },
    {
      "cell_type": "markdown",
      "source": [
        "Ans: A recursive function is a function that calls itself during its execution. The process may repeat several times, outputting the result and the end of each iteration."
      ],
      "metadata": {
        "id": "aNGqMJSS5QZO"
      }
    },
    {
      "cell_type": "markdown",
      "source": [
        "6. What are some general design guidelines for coding functions?"
      ],
      "metadata": {
        "id": "ia4NWBj6rY_W"
      }
    },
    {
      "cell_type": "markdown",
      "source": [
        "Ans: Some of the general design guidelines for coding functions are:\n",
        "\n",
        "Always use a docstring to explain the functionality of the function\n",
        "\n",
        "Avoid using or limited use of global variables\n",
        "\n",
        "Proper Identation to increase the code readability\n",
        "try to follow a naming convention for function names (pascalCase or camelCase) and stick with the same convention throughout the application.\n",
        "\n",
        "Avoid using digits while choosing a variable name\n",
        "\n",
        "try to use a name for the function which conveys the purpose of the function\n",
        "\n",
        "Local variables should be named using camelCase format (ex: localVariable) \n",
        "\n",
        "whereas Global variables names should be using PascalCase (ex:GlobalVariable).\n",
        "\n",
        "Constant should be represented in allcaps (ex:CONSTANT)."
      ],
      "metadata": {
        "id": "hFH9zejB5VBv"
      }
    },
    {
      "cell_type": "markdown",
      "source": [
        "7. Name three or more ways that functions can communicate results to a caller."
      ],
      "metadata": {
        "id": "jd0Q3j2xref-"
      }
    },
    {
      "cell_type": "markdown",
      "source": [
        "Ans: Some of the ways in which a function can communicate with the calling function is:\n",
        "\n",
        "print\n",
        "\n",
        "return\n",
        "\n",
        "yield"
      ],
      "metadata": {
        "id": "dgzRI4YK526Q"
      }
    },
    {
      "cell_type": "code",
      "source": [],
      "metadata": {
        "id": "8_v7u5BFrEmY"
      },
      "execution_count": null,
      "outputs": []
    },
    {
      "cell_type": "code",
      "source": [],
      "metadata": {
        "id": "8ZL6ZgXIrEpR"
      },
      "execution_count": null,
      "outputs": []
    },
    {
      "cell_type": "code",
      "source": [],
      "metadata": {
        "id": "K74c0g6lrEsE"
      },
      "execution_count": null,
      "outputs": []
    },
    {
      "cell_type": "code",
      "source": [],
      "metadata": {
        "id": "XpGx70_xrEvI"
      },
      "execution_count": null,
      "outputs": []
    },
    {
      "cell_type": "code",
      "source": [],
      "metadata": {
        "id": "di4c4w7srExp"
      },
      "execution_count": null,
      "outputs": []
    },
    {
      "cell_type": "code",
      "source": [],
      "metadata": {
        "id": "jGLOoBaxrE1D"
      },
      "execution_count": null,
      "outputs": []
    },
    {
      "cell_type": "code",
      "source": [],
      "metadata": {
        "id": "I1slp9HIrE4D"
      },
      "execution_count": null,
      "outputs": []
    }
  ]
}