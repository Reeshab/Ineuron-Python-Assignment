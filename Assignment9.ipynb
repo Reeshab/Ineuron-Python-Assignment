{
  "nbformat": 4,
  "nbformat_minor": 0,
  "metadata": {
    "colab": {
      "provenance": [],
      "collapsed_sections": [],
      "authorship_tag": "ABX9TyNlH3LqsOdrnmvebFx3P62b",
      "include_colab_link": true
    },
    "kernelspec": {
      "name": "python3",
      "display_name": "Python 3"
    },
    "language_info": {
      "name": "python"
    }
  },
  "cells": [
    {
      "cell_type": "markdown",
      "metadata": {
        "id": "view-in-github",
        "colab_type": "text"
      },
      "source": [
        "<a href=\"https://colab.research.google.com/github/Reeshab/Ineuron-Python-Assignment/blob/main/Assignment9.ipynb\" target=\"_parent\"><img src=\"https://colab.research.google.com/assets/colab-badge.svg\" alt=\"Open In Colab\"/></a>"
      ]
    },
    {
      "cell_type": "markdown",
      "source": [
        "**1. To what does a relative path refer?**"
      ],
      "metadata": {
        "id": "VYnMW5lu6ouL"
      }
    },
    {
      "cell_type": "markdown",
      "source": [
        "Relative paths are relative to the current working directory. If we use a relative file path from the wrong directory, then the path will refer to a different file than we intend, or it will refer to no file at all."
      ],
      "metadata": {
        "id": "NSDpSEOh8A2F"
      }
    },
    {
      "cell_type": "markdown",
      "source": [
        "**2. What does an absolute path start with your operating system?**"
      ],
      "metadata": {
        "id": "3o372xaw8Cre"
      }
    },
    {
      "cell_type": "markdown",
      "source": [
        "Absolute paths start with the root folder, such as / or C:."
      ],
      "metadata": {
        "id": "cKK429AY8NF4"
      }
    },
    {
      "cell_type": "markdown",
      "source": [
        "3. What do the functions os.getcwd() and os.chdir() do?"
      ],
      "metadata": {
        "id": "HBLqPLc58U9Z"
      }
    },
    {
      "cell_type": "markdown",
      "source": [
        "The os.getcwd() function returns the current working directory. The os.chdir() function changes the current working directory"
      ],
      "metadata": {
        "id": "xCmtxeHc8Wn6"
      }
    },
    {
      "cell_type": "code",
      "execution_count": 1,
      "metadata": {
        "colab": {
          "base_uri": "https://localhost:8080/",
          "height": 35
        },
        "id": "objdH9ZH2WKb",
        "outputId": "f629607e-11b6-4281-ae83-a31c86e7812c"
      },
      "outputs": [
        {
          "output_type": "execute_result",
          "data": {
            "text/plain": [
              "'/content'"
            ],
            "application/vnd.google.colaboratory.intrinsic+json": {
              "type": "string"
            }
          },
          "metadata": {},
          "execution_count": 1
        }
      ],
      "source": [
        "import os\n",
        "os.getcwd()"
      ]
    },
    {
      "cell_type": "markdown",
      "source": [
        "**4. What are the . and .. folders?**"
      ],
      "metadata": {
        "id": "m95Az6GC_YrE"
      }
    },
    {
      "cell_type": "markdown",
      "source": [
        "The . folder is the current folder, and .. is the parent folder"
      ],
      "metadata": {
        "id": "e9f19jGP_bPI"
      }
    },
    {
      "cell_type": "markdown",
      "source": [
        "**5. In C:\\bacon\\eggs\\spam.txt, which part is the dir name, and which part is the base name?**"
      ],
      "metadata": {
        "id": "Oapvpnvi_hPN"
      }
    },
    {
      "cell_type": "markdown",
      "source": [
        "C:\\bacon\\eggs is the dir name, while spam.txt is the base name."
      ],
      "metadata": {
        "id": "vu33ajMZ_r0v"
      }
    },
    {
      "cell_type": "markdown",
      "source": [
        "6. What are the three “mode” arguments that can be passed to the open() function?"
      ],
      "metadata": {
        "id": "Emb8beohA9c0"
      }
    },
    {
      "cell_type": "markdown",
      "source": [
        "The string 'r' for read mode, 'w' for write mode, and 'a' for append mode arguments that can be passed to the open() function"
      ],
      "metadata": {
        "id": "p5H5jhGoCZk0"
      }
    },
    {
      "cell_type": "markdown",
      "source": [
        "7. What happens if an existing file is opened in write mode?"
      ],
      "metadata": {
        "id": "5X9djv3VCmPY"
      }
    },
    {
      "cell_type": "markdown",
      "source": [
        "An existing file opened in write mode is erased and completely overwritten the file."
      ],
      "metadata": {
        "id": "3TxBo8HrGP5h"
      }
    },
    {
      "cell_type": "markdown",
      "source": [
        "8. How do you tell the difference between read() and readlines()?"
      ],
      "metadata": {
        "id": "7U3c7qqYGW2n"
      }
    },
    {
      "cell_type": "markdown",
      "source": [
        "The read() method returns the file’s entire contents as a single string value. The readlines() method returns a list of strings, where each string is a line from the file’s contents."
      ],
      "metadata": {
        "id": "LvP2mKMAGcCj"
      }
    },
    {
      "cell_type": "markdown",
      "source": [
        "9. What data structure does a shelf value resemble?"
      ],
      "metadata": {
        "id": "ANHGn71kGi8z"
      }
    },
    {
      "cell_type": "markdown",
      "source": [
        "A shelf value resembles a dictionary value; it has keys and values, along with keys() and values() methods that work similarly to the dictionary methods of the same names ."
      ],
      "metadata": {
        "id": "sJrLFYkDGoiP"
      }
    },
    {
      "cell_type": "code",
      "source": [],
      "metadata": {
        "id": "Ou0f1nw-3v8V"
      },
      "execution_count": null,
      "outputs": []
    },
    {
      "cell_type": "code",
      "source": [],
      "metadata": {
        "id": "pCYhfrc93v-2"
      },
      "execution_count": null,
      "outputs": []
    },
    {
      "cell_type": "code",
      "source": [],
      "metadata": {
        "id": "v0jN19sz3wBf"
      },
      "execution_count": null,
      "outputs": []
    },
    {
      "cell_type": "code",
      "source": [],
      "metadata": {
        "id": "ElIaXDN83wD_"
      },
      "execution_count": null,
      "outputs": []
    },
    {
      "cell_type": "code",
      "source": [],
      "metadata": {
        "id": "iWczQ4oV3wHb"
      },
      "execution_count": null,
      "outputs": []
    },
    {
      "cell_type": "code",
      "source": [],
      "metadata": {
        "id": "VrQi4Jwx3wsp"
      },
      "execution_count": null,
      "outputs": []
    },
    {
      "cell_type": "code",
      "source": [],
      "metadata": {
        "id": "gYshNhhJ3wv1"
      },
      "execution_count": null,
      "outputs": []
    },
    {
      "cell_type": "code",
      "source": [],
      "metadata": {
        "id": "2B3Jn7Rj3wzP"
      },
      "execution_count": null,
      "outputs": []
    },
    {
      "cell_type": "code",
      "source": [],
      "metadata": {
        "id": "2Fx3wJMR3w38"
      },
      "execution_count": null,
      "outputs": []
    }
  ]
}