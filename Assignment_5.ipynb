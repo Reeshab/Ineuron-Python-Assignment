{
  "nbformat": 4,
  "nbformat_minor": 0,
  "metadata": {
    "colab": {
      "provenance": [],
      "collapsed_sections": [],
      "authorship_tag": "ABX9TyMWV/5XvmAfLOFfgy5J9jCi",
      "include_colab_link": true
    },
    "kernelspec": {
      "name": "python3",
      "display_name": "Python 3"
    },
    "language_info": {
      "name": "python"
    }
  },
  "cells": [
    {
      "cell_type": "markdown",
      "metadata": {
        "id": "view-in-github",
        "colab_type": "text"
      },
      "source": [
        "<a href=\"https://colab.research.google.com/github/Reeshab/Ineuron-Python-Assignment/blob/main/Assignment_5.ipynb\" target=\"_parent\"><img src=\"https://colab.research.google.com/assets/colab-badge.svg\" alt=\"Open In Colab\"/></a>"
      ]
    },
    {
      "cell_type": "markdown",
      "source": [
        "1. What does an empty dictionary&#39;s code look like?"
      ],
      "metadata": {
        "id": "bHqagbciuaX5"
      }
    },
    {
      "cell_type": "markdown",
      "source": [
        "Empty dictionary look like curly braces i.e {}"
      ],
      "metadata": {
        "id": "B1M7lkGUumzD"
      }
    },
    {
      "cell_type": "code",
      "execution_count": 1,
      "metadata": {
        "colab": {
          "base_uri": "https://localhost:8080/"
        },
        "id": "1M7tgb_xtoDF",
        "outputId": "04416bf2-0a57-41e6-e4bb-e9ab22d440f5"
      },
      "outputs": [
        {
          "output_type": "stream",
          "name": "stdout",
          "text": [
            "<class 'dict'>\n"
          ]
        }
      ],
      "source": [
        "b = {}\n",
        "print(type(b))"
      ]
    },
    {
      "cell_type": "markdown",
      "source": [
        "2. What is the value of a dictionary value with the key &#39;foo&#39; and the value 42?"
      ],
      "metadata": {
        "id": "ZtYWmVZcvKjo"
      }
    },
    {
      "cell_type": "markdown",
      "source": [
        "the value of a dictionary value with the key \"foo\" and the value 42  is look like {\"foo\":42}"
      ],
      "metadata": {
        "id": "pkXu1Xa0x9QL"
      }
    },
    {
      "cell_type": "code",
      "source": [
        "dictionary ={\"foo\":42}\n",
        "print(dictionary)"
      ],
      "metadata": {
        "colab": {
          "base_uri": "https://localhost:8080/"
        },
        "id": "mDjU2V0-tr_H",
        "outputId": "007a42a5-aedc-49c4-95ef-6be87faf5d49"
      },
      "execution_count": 2,
      "outputs": [
        {
          "output_type": "stream",
          "name": "stdout",
          "text": [
            "{'foo': 42}\n"
          ]
        }
      ]
    },
    {
      "cell_type": "markdown",
      "source": [
        "3. What is the most significant distinction between a dictionary and a list?"
      ],
      "metadata": {
        "id": "gdvnd1-ayFGy"
      }
    },
    {
      "cell_type": "markdown",
      "source": [
        ".In python programming list is the collection of values and dictionary is  use to store data in the key -value pair.\n",
        ".Data in list access by index position of data  and  Data in dictionary access by key value/"
      ],
      "metadata": {
        "id": "H0JMhegJyZ2a"
      }
    },
    {
      "cell_type": "code",
      "source": [
        "a=[1,2,3]\n",
        "print(a[0])# accessing first element by its index position . in python index position starts with 0.\n",
        "D={'A':1,'B':2}\n",
        "print(D['A']) # accessing first element by its key value ."
      ],
      "metadata": {
        "colab": {
          "base_uri": "https://localhost:8080/"
        },
        "id": "hWXJT6H3tsBs",
        "outputId": "9bdf2c1f-51ae-477b-8a60-c8c998ab6ae2"
      },
      "execution_count": 3,
      "outputs": [
        {
          "output_type": "stream",
          "name": "stdout",
          "text": [
            "1\n",
            "1\n"
          ]
        }
      ]
    },
    {
      "cell_type": "markdown",
      "source": [
        "4. What happens if you try to access spam[&#39;foo&#39;] if spam is {&#39;bar&#39;: 100}?"
      ],
      "metadata": {
        "id": "4CiKmuvdyyxz"
      }
    },
    {
      "cell_type": "code",
      "source": [
        "spam = {\"bar\":100}\n",
        "print(spam[\"foo\"])"
      ],
      "metadata": {
        "colab": {
          "base_uri": "https://localhost:8080/",
          "height": 183
        },
        "id": "IgXIJ_MHtsEq",
        "outputId": "8852ef04-e136-463d-db4e-93ee608de445"
      },
      "execution_count": 4,
      "outputs": [
        {
          "output_type": "error",
          "ename": "KeyError",
          "evalue": "ignored",
          "traceback": [
            "\u001b[0;31m---------------------------------------------------------------------------\u001b[0m",
            "\u001b[0;31mKeyError\u001b[0m                                  Traceback (most recent call last)",
            "\u001b[0;32m<ipython-input-4-c8d7e96bdedd>\u001b[0m in \u001b[0;36m<module>\u001b[0;34m\u001b[0m\n\u001b[1;32m      1\u001b[0m \u001b[0mspam\u001b[0m \u001b[0;34m=\u001b[0m \u001b[0;34m{\u001b[0m\u001b[0;34m\"bar\"\u001b[0m\u001b[0;34m:\u001b[0m\u001b[0;36m100\u001b[0m\u001b[0;34m}\u001b[0m\u001b[0;34m\u001b[0m\u001b[0;34m\u001b[0m\u001b[0m\n\u001b[0;32m----> 2\u001b[0;31m \u001b[0mprint\u001b[0m\u001b[0;34m(\u001b[0m\u001b[0mspam\u001b[0m\u001b[0;34m[\u001b[0m\u001b[0;34m\"foo\"\u001b[0m\u001b[0;34m]\u001b[0m\u001b[0;34m)\u001b[0m\u001b[0;34m\u001b[0m\u001b[0;34m\u001b[0m\u001b[0m\n\u001b[0m",
            "\u001b[0;31mKeyError\u001b[0m: 'foo'"
          ]
        }
      ]
    },
    {
      "cell_type": "markdown",
      "source": [
        "5. If a dictionary is stored in spam, what is the difference between the expressions &#39;cat&#39; in spam and\n",
        "&#39;cat&#39; in spam.keys()?"
      ],
      "metadata": {
        "id": "l4EreC1qzWrv"
      }
    },
    {
      "cell_type": "markdown",
      "source": [
        "There is no difference. The in operator checks whether a value exists as a key in the dictionary.  Below we give some example."
      ],
      "metadata": {
        "id": "hOTxSZU01RyD"
      }
    },
    {
      "cell_type": "code",
      "source": [
        "spam ={'cat' :1}\n",
        "print('cat' in spam)"
      ],
      "metadata": {
        "colab": {
          "base_uri": "https://localhost:8080/"
        },
        "id": "i_bkmTWotsHd",
        "outputId": "c0ccb753-677c-4f57-bec1-5ad3559394e4"
      },
      "execution_count": 5,
      "outputs": [
        {
          "output_type": "stream",
          "name": "stdout",
          "text": [
            "True\n"
          ]
        }
      ]
    },
    {
      "cell_type": "code",
      "source": [
        "spam ={'cat' :1}\n",
        "print('cat' in spam.keys())"
      ],
      "metadata": {
        "colab": {
          "base_uri": "https://localhost:8080/"
        },
        "id": "xnDD_seotsKY",
        "outputId": "0056f82b-e2a7-4d4d-bbd4-842da89d2dc5"
      },
      "execution_count": 6,
      "outputs": [
        {
          "output_type": "stream",
          "name": "stdout",
          "text": [
            "True\n"
          ]
        }
      ]
    },
    {
      "cell_type": "markdown",
      "source": [
        "6. If a dictionary is stored in spam, what is the difference between the expressions &#39;cat&#39; in spam and\n",
        "&#39;cat&#39; in spam.values()?"
      ],
      "metadata": {
        "id": "hi0_GpMZ1miw"
      }
    },
    {
      "cell_type": "markdown",
      "source": [
        "cat in the dictonary checks whether it checks \"cat\" key in the dictonary, while 'cat' in spam.keys() checks whether there is a value 'cat' for one of the values in spam."
      ],
      "metadata": {
        "id": "c5fftzeC1r8_"
      }
    },
    {
      "cell_type": "code",
      "source": [
        "spam ={'cat' :1}\n",
        "print('cat' in spam)"
      ],
      "metadata": {
        "colab": {
          "base_uri": "https://localhost:8080/"
        },
        "id": "LgX-CK14tsM8",
        "outputId": "ba3f5553-d151-42b2-cb97-71284c27bc2c"
      },
      "execution_count": 7,
      "outputs": [
        {
          "output_type": "stream",
          "name": "stdout",
          "text": [
            "True\n"
          ]
        }
      ]
    },
    {
      "cell_type": "code",
      "source": [
        "spam ={'cat' :1}\n",
        "print('cat' in spam.values())"
      ],
      "metadata": {
        "colab": {
          "base_uri": "https://localhost:8080/"
        },
        "id": "UbPZbAWu1-JD",
        "outputId": "350d6c82-ba22-4600-e5ed-23dcb5147855"
      },
      "execution_count": 8,
      "outputs": [
        {
          "output_type": "stream",
          "name": "stdout",
          "text": [
            "False\n"
          ]
        }
      ]
    },
    {
      "cell_type": "markdown",
      "source": [
        "7. What is a shortcut for the following code?\n",
        "\n",
        "if &#39;color&#39; not in spam:\n",
        "\n",
        "spam[&#39;color&#39;] = &#39;black&#39;"
      ],
      "metadata": {
        "id": "TP_HVH8H2nVG"
      }
    },
    {
      "cell_type": "code",
      "source": [
        "spam.setdefault('color', 'black')"
      ],
      "metadata": {
        "colab": {
          "base_uri": "https://localhost:8080/",
          "height": 35
        },
        "id": "1kVZemGW1-Mb",
        "outputId": "6e6a2018-b577-4d61-ed25-de8b841fabcc"
      },
      "execution_count": 9,
      "outputs": [
        {
          "output_type": "execute_result",
          "data": {
            "text/plain": [
              "'black'"
            ],
            "application/vnd.google.colaboratory.intrinsic+json": {
              "type": "string"
            }
          },
          "metadata": {},
          "execution_count": 9
        }
      ]
    },
    {
      "cell_type": "markdown",
      "source": [
        "8. How do you &quot;pretty print&quot; dictionary values using which module and function?"
      ],
      "metadata": {
        "id": "R0SkbSZN3fyy"
      }
    },
    {
      "cell_type": "markdown",
      "source": [
        "use pprint() to \"pretty print\" dictionary values in python."
      ],
      "metadata": {
        "id": "oTYZV6ED4Q9s"
      }
    },
    {
      "cell_type": "code",
      "source": [
        "import pprint\n",
        "d ={'a':1,'b':2,'c':3}\n",
        "pprint.pprint(d)"
      ],
      "metadata": {
        "colab": {
          "base_uri": "https://localhost:8080/"
        },
        "id": "eCbFn5vA1-P-",
        "outputId": "fd992974-96f5-46c1-dc0c-846e526d3213"
      },
      "execution_count": 10,
      "outputs": [
        {
          "output_type": "stream",
          "name": "stdout",
          "text": [
            "{'a': 1, 'b': 2, 'c': 3}\n"
          ]
        }
      ]
    },
    {
      "cell_type": "code",
      "source": [],
      "metadata": {
        "id": "a_Lbm4KQ1-Th"
      },
      "execution_count": null,
      "outputs": []
    },
    {
      "cell_type": "code",
      "source": [],
      "metadata": {
        "id": "-h_fa7AgtsPn"
      },
      "execution_count": null,
      "outputs": []
    },
    {
      "cell_type": "code",
      "source": [],
      "metadata": {
        "id": "tiVcp2QLtsTG"
      },
      "execution_count": null,
      "outputs": []
    }
  ]
}