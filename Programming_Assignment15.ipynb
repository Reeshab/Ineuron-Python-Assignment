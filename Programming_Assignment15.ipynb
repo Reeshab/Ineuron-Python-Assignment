{
  "nbformat": 4,
  "nbformat_minor": 0,
  "metadata": {
    "colab": {
      "provenance": [],
      "collapsed_sections": [],
      "authorship_tag": "ABX9TyMw9TbqGpgWOxi885VaiMId",
      "include_colab_link": true
    },
    "kernelspec": {
      "name": "python3",
      "display_name": "Python 3"
    },
    "language_info": {
      "name": "python"
    }
  },
  "cells": [
    {
      "cell_type": "markdown",
      "metadata": {
        "id": "view-in-github",
        "colab_type": "text"
      },
      "source": [
        "<a href=\"https://colab.research.google.com/github/Reeshab/Ineuron-Python-Assignment/blob/main/Programming_Assignment15.ipynb\" target=\"_parent\"><img src=\"https://colab.research.google.com/assets/colab-badge.svg\" alt=\"Open In Colab\"/></a>"
      ]
    },
    {
      "cell_type": "markdown",
      "source": [
        "Question 1:\n",
        "Please write a program using generator to print the numbers which can be divisible by 5 and\n",
        "7 between 0 and n in comma separated form while n is input by console.\n",
        "Example:\n",
        "If the following n is given as input to the program:\n",
        "100\n",
        "Then, the output of the program should be:\n",
        "0,35,70"
      ],
      "metadata": {
        "id": "D9KVXjJ75Vd8"
      }
    },
    {
      "cell_type": "code",
      "execution_count": 2,
      "metadata": {
        "id": "Q-kU4u4Z_0_V",
        "colab": {
          "base_uri": "https://localhost:8080/"
        },
        "outputId": "a56dd845-4898-4bdc-cb88-0f01922fefeb"
      },
      "outputs": [
        {
          "output_type": "stream",
          "name": "stdout",
          "text": [
            "0 35 70 "
          ]
        }
      ],
      "source": [
        "def divisible(input_num):\n",
        "  for element in range(0,input_num):\n",
        "      if(element%5 == 0) and (element%7==0):\n",
        "         yield element\n",
        "for element in divisible(100):\n",
        "   print(element,end = \" \")         "
      ]
    },
    {
      "cell_type": "markdown",
      "source": [
        "Please write a program using generator to print the even numbers between 0 and n in comma\n",
        "separated form while n is input by console.\n",
        "Example:\n",
        "If the following n is given as input to the program:\n",
        "10\n",
        "Then, the output of the program should be:\n",
        "0,2,4,6,8,10"
      ],
      "metadata": {
        "id": "aOaMA-086_SH"
      }
    },
    {
      "cell_type": "code",
      "source": [
        "def EvenNumber(input_number):\n",
        "  for element in range(0,input_number+1):\n",
        "      if element % 2 == 0:\n",
        "        yield element\n",
        "for element in EvenNumber(10):\n",
        "    print(element,end= \" \")        "
      ],
      "metadata": {
        "id": "iNvOPuhP_3zq",
        "colab": {
          "base_uri": "https://localhost:8080/"
        },
        "outputId": "6591c900-3d43-42ed-8239-a3f781735b96"
      },
      "execution_count": 5,
      "outputs": [
        {
          "output_type": "stream",
          "name": "stdout",
          "text": [
            "0 2 4 6 8 10 "
          ]
        }
      ]
    },
    {
      "cell_type": "markdown",
      "source": [
        "Question 3:\n",
        "The Fibonacci Sequence is computed based on the following formula:\n",
        "f(n)=0 if n=0\n",
        "f(n)=1 if n=1\n",
        "f(n)=f(n-1)+f(n-2) if n&gt;1\n",
        "Please write a program using list comprehension to print the Fibonacci Sequence in comma\n",
        "separated form with a given n input by console.\n",
        "Example:\n",
        "If the following n is given as input to the program:\n",
        "\n",
        "Then, the output of the program should be:\n",
        "0,1,1,2,3,5,8,13"
      ],
      "metadata": {
        "id": "j2aptlR88MuJ"
      }
    },
    {
      "cell_type": "code",
      "source": [
        "def genFibonnaci(input_num):\n",
        "    if input_num == 0:\n",
        "       return  0\n",
        "    elif input_num == 1:\n",
        "      return 1\n",
        "    else:\n",
        "      return genFibonnaci(input_num-1)+genFibonnaci(input_num-2)\n",
        "print([genFibonnaci(x) for x in range(20)])        \n"
      ],
      "metadata": {
        "id": "qpWAP6_H_32T",
        "colab": {
          "base_uri": "https://localhost:8080/"
        },
        "outputId": "d7445a89-616b-478d-ce09-876107ef8e91"
      },
      "execution_count": 6,
      "outputs": [
        {
          "output_type": "stream",
          "name": "stdout",
          "text": [
            "[0, 1, 1, 2, 3, 5, 8, 13, 21, 34, 55, 89, 144, 233, 377, 610, 987, 1597, 2584, 4181]\n"
          ]
        }
      ]
    },
    {
      "cell_type": "markdown",
      "source": [
        "Question 4:\n",
        "Assuming that we have some email addresses in the &quot;username@companyname.com&quot; format,\n",
        "please write program to print the user name of a given email address. Both user names and\n",
        "company names are composed of letters only.\n",
        "Example:\n",
        "If the following email address is given as input to the program:\n",
        "john@google.com\n",
        "Then, the output of the program should be:\n",
        "john"
      ],
      "metadata": {
        "id": "mNa3Eot2-SdK"
      }
    },
    {
      "cell_type": "code",
      "source": [
        "def getUsernames():\n",
        "    input_string = input(\"Enter Email Addresses: \")\n",
        "    output_string = input_string.split('@')\n",
        "    print(f'Username of {input_string} is {output_string[0:5]}')\n",
        "for i in range(0,4):\n",
        "    getUsernames()   \n",
        "\n"
      ],
      "metadata": {
        "id": "KqofIOZ1_340",
        "colab": {
          "base_uri": "https://localhost:8080/"
        },
        "outputId": "cafbb659-200b-43d2-a241-2ab13da37f5f"
      },
      "execution_count": 9,
      "outputs": [
        {
          "output_type": "stream",
          "name": "stdout",
          "text": [
            "Enter Email Addresses: reeshabnayak1998@gmail.com\n",
            "Username of reeshabnayak1998@gmail.com is ['reeshabnayak1998', 'gmail.com']\n",
            "Enter Email Addresses: reeshabnayak@gmail.com\n",
            "Username of reeshabnayak@gmail.com is ['reeshabnayak', 'gmail.com']\n",
            "Enter Email Addresses: jhon@gmail.com\n",
            "Username of jhon@gmail.com is ['jhon', 'gmail.com']\n",
            "Enter Email Addresses: ram@gmail.com\n",
            "Username of ram@gmail.com is ['ram', 'gmail.com']\n"
          ]
        }
      ]
    },
    {
      "cell_type": "markdown",
      "source": [
        "Question 5:\n",
        "Define a class named Shape and its subclass Square. The Square class has an init function\n",
        "which takes a length as argument. Both classes have a area function which can print the area\n",
        "of the shape where Shape&#39;s area is 0 by default."
      ],
      "metadata": {
        "id": "BSQmp1RkEL1b"
      }
    },
    {
      "cell_type": "code",
      "source": [
        " \n",
        "\n",
        "\n",
        "class Shape:\n",
        "    def area(self):\n",
        "        return 0\n",
        "\n",
        "class Square(Shape):\n",
        "    def __init__(self, length):\n",
        "        self.length = length\n",
        "    def area(self):\n",
        "        return self.length*self.length\n",
        "\n",
        "square = Square(50)\n",
        "print(square.area())\n",
        "\n"
      ],
      "metadata": {
        "id": "dCRDpvv0_37d",
        "colab": {
          "base_uri": "https://localhost:8080/"
        },
        "outputId": "026a376b-4a26-45c1-e8cd-300633593734"
      },
      "execution_count": 12,
      "outputs": [
        {
          "output_type": "stream",
          "name": "stdout",
          "text": [
            "2500\n"
          ]
        }
      ]
    },
    {
      "cell_type": "code",
      "source": [],
      "metadata": {
        "id": "0ix2Z49P_3_C"
      },
      "execution_count": null,
      "outputs": []
    },
    {
      "cell_type": "code",
      "source": [],
      "metadata": {
        "id": "ub8b0eKV_4B4"
      },
      "execution_count": null,
      "outputs": []
    },
    {
      "cell_type": "code",
      "source": [],
      "metadata": {
        "id": "SEixiNti_4Ex"
      },
      "execution_count": null,
      "outputs": []
    },
    {
      "cell_type": "code",
      "source": [],
      "metadata": {
        "id": "qhnLfGoC_4He"
      },
      "execution_count": null,
      "outputs": []
    },
    {
      "cell_type": "code",
      "source": [],
      "metadata": {
        "id": "-u0qGDKe_4Ki"
      },
      "execution_count": null,
      "outputs": []
    },
    {
      "cell_type": "code",
      "source": [],
      "metadata": {
        "id": "BicbgsTB_4OG"
      },
      "execution_count": null,
      "outputs": []
    }
  ]
}