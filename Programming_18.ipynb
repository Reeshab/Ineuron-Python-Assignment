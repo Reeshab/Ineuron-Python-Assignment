{
  "nbformat": 4,
  "nbformat_minor": 0,
  "metadata": {
    "colab": {
      "provenance": [],
      "collapsed_sections": [],
      "authorship_tag": "ABX9TyNt2jCdhg5XG9/pGXW7XNbq",
      "include_colab_link": true
    },
    "kernelspec": {
      "name": "python3",
      "display_name": "Python 3"
    },
    "language_info": {
      "name": "python"
    }
  },
  "cells": [
    {
      "cell_type": "markdown",
      "metadata": {
        "id": "view-in-github",
        "colab_type": "text"
      },
      "source": [
        "<a href=\"https://colab.research.google.com/github/Reeshab/Ineuron-Python-Assignment/blob/main/Programming_18.ipynb\" target=\"_parent\"><img src=\"https://colab.research.google.com/assets/colab-badge.svg\" alt=\"Open In Colab\"/></a>"
      ]
    },
    {
      "cell_type": "markdown",
      "source": [
        "Question 1\n",
        "Create a function that takes a list of non-negative integers and strings and return a new list\n",
        "without the strings.\n",
        "Examples\n",
        "filter_list([1, 2, &quot;a&quot;, &quot;b&quot;]) ➞ [1, 2]\n",
        "filter_list([1, &quot;a&quot;, &quot;b&quot;, 0, 15]) ➞ [1, 0, 15]\n",
        "filter_list([1, 2, &quot;aasf&quot;, &quot;1&quot;, &quot;123&quot;, 123]) ➞ [1, 2, 123]"
      ],
      "metadata": {
        "id": "Vpoyub--r14O"
      }
    },
    {
      "cell_type": "code",
      "execution_count": 5,
      "metadata": {
        "colab": {
          "base_uri": "https://localhost:8080/"
        },
        "id": "x_dI3BsidxT5",
        "outputId": "40018c2b-5cb4-4d49-d5ec-ea81cb8c8374"
      },
      "outputs": [
        {
          "output_type": "stream",
          "name": "stdout",
          "text": [
            "-> [1, 2]\n",
            "-> [1, 2, 0, 15]\n",
            "-> [1, 2, 123]\n"
          ]
        }
      ],
      "source": [
        "def filter_list(list):\n",
        "  output_string = []\n",
        "  for i in list:\n",
        "      if type(i) == int and i >=0:\n",
        "         output_string.append(i)\n",
        "  return output_string\n",
        "\n",
        "print(f'-> {filter_list([1,2,\"a\",\"b\"])}')\n",
        "print(f'-> {filter_list([1,2,\"a\",\"b\",0,15])}')\n",
        "print(f'-> {filter_list([1,2,\"aasf\",\"1\",\"123\",123])}')\n",
        "\n"
      ]
    },
    {
      "cell_type": "markdown",
      "source": [
        "Question 2\n",
        "The &quot;Reverser&quot; takes a string as input and returns that string in reverse order, with the\n",
        "opposite case.\n",
        "Examples\n",
        "reverse(&quot;Hello World&quot;) ➞ &quot;DLROw OLLEh&quot;\n",
        "reverse(&quot;ReVeRsE&quot;) ➞ &quot;eSrEvEr&quot;\n",
        "reverse(&quot;Radar&quot;) ➞ &quot;RADAr&quot;"
      ],
      "metadata": {
        "id": "OuDyCLkrDqlB"
      }
    },
    {
      "cell_type": "code",
      "source": [
        "def reverse(input_string):\n",
        "    print(f'{input_string} -> {input_string[::-1].swapcase()}')\n",
        "\n",
        "reverse('Hello World')\n",
        "reverse('ReVeRsE')\n",
        "reverse('Radar')"
      ],
      "metadata": {
        "colab": {
          "base_uri": "https://localhost:8080/"
        },
        "id": "1eOw70Tqrjgu",
        "outputId": "e38c1ebc-0d2e-482c-96b8-45a586dbf994"
      },
      "execution_count": 6,
      "outputs": [
        {
          "output_type": "stream",
          "name": "stdout",
          "text": [
            "Hello World -> DLROw OLLEh\n",
            "ReVeRsE -> eSrEvEr\n",
            "Radar -> RADAr\n"
          ]
        }
      ]
    },
    {
      "cell_type": "markdown",
      "source": [
        "Question 3\n",
        "You can assign variables from lists like this:\n",
        "lst = [1, 2, 3, 4, 5, 6]\n",
        "first = lst[0]\n",
        "middle = lst[1:-1]\n",
        "last = lst[-1]\n",
        "print(first) ➞ outputs 1\n",
        "print(middle) ➞ outputs [2, 3, 4, 5]\n",
        "print(last) ➞ outputs 6\n",
        "With Python 3, you can assign variables from lists in a much more succinct way. Create\n",
        "variables first, middle and last from the given list using destructuring assignment\n",
        "(check the Resources tab for some examples), where:\n",
        "first ➞ 1\n",
        "middle ➞ [2, 3, 4, 5]\n",
        "last ➞ 6\n",
        "\n",
        "Your task is to unpack the list writeyourcodehere into three variables, being first,\n",
        "middle, and last, with middle being everything in between the first and last element. Then\n",
        "print all three variables."
      ],
      "metadata": {
        "id": "o8x7s8QwFNJL"
      }
    },
    {
      "cell_type": "code",
      "source": [
        "first,*middle, last = [1,2,3,4,5]\n",
        "print(f'first -> {first}')\n",
        "print(f'middle -> {middle}')\n",
        "print(f'last -> {last}')"
      ],
      "metadata": {
        "colab": {
          "base_uri": "https://localhost:8080/"
        },
        "id": "H1SR_5eqrjju",
        "outputId": "e050e7d6-1332-4e0b-f9af-d51120a1fc5e"
      },
      "execution_count": 9,
      "outputs": [
        {
          "output_type": "stream",
          "name": "stdout",
          "text": [
            "first -> 1\n",
            "middle -> [2, 3, 4]\n",
            "last -> 5\n"
          ]
        }
      ]
    },
    {
      "cell_type": "markdown",
      "source": [
        "Question 4\n",
        "Write a function that calculates the factorial of a number recursively.\n",
        "Examples\n",
        "factorial(5) ➞ 120\n",
        "factorial(3) ➞ 6\n",
        "factorial(1) ➞ 1\n",
        "factorial(0) ➞ 1"
      ],
      "metadata": {
        "id": "2VkFq-U-Gs4R"
      }
    },
    {
      "cell_type": "code",
      "source": [
        "def factorial(n):\n",
        "  if n == 0 :\n",
        "     return 1\n",
        "  return n * factorial(n-1)\n",
        "\n",
        "print(f'factorial(5) -> {factorial(5)}')\n",
        "print(f'factorial(3) -> {factorial(3)}')\n",
        "print(f'factorial(1) -> {factorial(1)}')\n",
        "print(f'factorial(0) -> {factorial(0)}')\n"
      ],
      "metadata": {
        "colab": {
          "base_uri": "https://localhost:8080/"
        },
        "id": "GQPD5APPrjmg",
        "outputId": "f7a34a87-5df6-46fe-d626-30af4a71f171"
      },
      "execution_count": 10,
      "outputs": [
        {
          "output_type": "stream",
          "name": "stdout",
          "text": [
            "factorial(5) -> 120\n",
            "factorial(3) -> 6\n",
            "factorial(1) -> 1\n",
            "factorial(0) -> 1\n"
          ]
        }
      ]
    },
    {
      "cell_type": "markdown",
      "source": [
        "Question 5\n",
        "Write a function that moves all elements of one type to the end of the list.\n",
        "Examples\n",
        "move_to_end([1, 3, 2, 4, 4, 1], 1) ➞ [3, 2, 4, 4, 1, 1]\n",
        "# Move all the 1s to the end of the array.\n",
        "move_to_end([7, 8, 9, 1, 2, 3, 4], 9) ➞ [7, 8, 1, 2, 3, 4, 9]\n",
        "move_to_end([&quot;a&quot;, &quot;a&quot;, &quot;a&quot;, &quot;b&quot;], &quot;a&quot;) ➞ [&quot;b&quot;, &quot;a&quot;, &quot;a&quot;, &quot;a&quot;]"
      ],
      "metadata": {
        "id": "0xcA5vVRQwuy"
      }
    },
    {
      "cell_type": "code",
      "source": [
        "def move_to_end(list,num):\n",
        "    first_end = []\n",
        "    second_end = []\n",
        "    for element in list:\n",
        "        if element == num :\n",
        "           second_end.append(element)\n",
        "        else:\n",
        "            first_end.append(element)\n",
        "    first_end.extend(second_end)\n",
        "    return first_end\n",
        "\n",
        "print(f'move_to_end([1,3,2,4,4,1],1) -> {move_to_end([1, 3, 2, 4, 4, 1], 1)}')\n",
        "print(f'move_to_end([7, 8, 9, 1, 2, 3, 4], 9) ➞ {move_to_end([7, 8, 9, 1, 2, 3, 4], 9)}')\n",
        "print(f'move_to_end([\"a\", \"a\", \"a\", \"b\"], \"a\") ➞ {move_to_end([\"a\", \"a\", \"a\", \"b\"], \"a\")}')\n",
        "\n",
        "\n"
      ],
      "metadata": {
        "colab": {
          "base_uri": "https://localhost:8080/"
        },
        "id": "p9YOK3Ptrjo_",
        "outputId": "e66b5e91-03ca-41e1-b979-655b1369baef"
      },
      "execution_count": 15,
      "outputs": [
        {
          "output_type": "stream",
          "name": "stdout",
          "text": [
            "move_to_end([1,3,2,4,4,1],1) -> [3, 2, 4, 4, 1, 1]\n",
            "move_to_end([7, 8, 9, 1, 2, 3, 4], 9) ➞ [7, 8, 1, 2, 3, 4, 9]\n",
            "move_to_end([\"a\", \"a\", \"a\", \"b\"], \"a\") ➞ ['b', 'a', 'a', 'a']\n"
          ]
        }
      ]
    },
    {
      "cell_type": "code",
      "source": [],
      "metadata": {
        "id": "-J2LwgWGrjsm"
      },
      "execution_count": null,
      "outputs": []
    },
    {
      "cell_type": "code",
      "source": [],
      "metadata": {
        "id": "j1PgcSdDrjvV"
      },
      "execution_count": null,
      "outputs": []
    },
    {
      "cell_type": "code",
      "source": [],
      "metadata": {
        "id": "GIz-jyt6rjyi"
      },
      "execution_count": null,
      "outputs": []
    },
    {
      "cell_type": "code",
      "source": [],
      "metadata": {
        "id": "PBdVXKJfrj1e"
      },
      "execution_count": null,
      "outputs": []
    },
    {
      "cell_type": "code",
      "source": [],
      "metadata": {
        "id": "ORG7JTmDrj4x"
      },
      "execution_count": null,
      "outputs": []
    }
  ]
}