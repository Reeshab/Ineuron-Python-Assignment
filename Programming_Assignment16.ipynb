{
  "nbformat": 4,
  "nbformat_minor": 0,
  "metadata": {
    "colab": {
      "provenance": [],
      "collapsed_sections": [],
      "authorship_tag": "ABX9TyMpbsGDoZDu5+p3Xu1xESZs",
      "include_colab_link": true
    },
    "kernelspec": {
      "name": "python3",
      "display_name": "Python 3"
    },
    "language_info": {
      "name": "python"
    }
  },
  "cells": [
    {
      "cell_type": "markdown",
      "metadata": {
        "id": "view-in-github",
        "colab_type": "text"
      },
      "source": [
        "<a href=\"https://colab.research.google.com/github/Reeshab/Ineuron-Python-Assignment/blob/main/Programming_Assignment16.ipynb\" target=\"_parent\"><img src=\"https://colab.research.google.com/assets/colab-badge.svg\" alt=\"Open In Colab\"/></a>"
      ]
    },
    {
      "cell_type": "markdown",
      "source": [
        "Question1. Write a function that stutters a word as if someone is struggling to read it. The\n",
        "first two letters are repeated twice with an ellipsis ... and space after each, and then the\n",
        "word is pronounced with a question mark ?.\n",
        "Examples\n",
        "stutter(&quot;incredible&quot;) ➞ &quot;in... in... incredible?&quot;\n",
        "stutter(&quot;enthusiastic&quot;) ➞ &quot;en... en... enthusiastic?&quot;\n",
        "stutter(&quot;outstanding&quot;) ➞ &quot;ou... ou... outstanding?&quot;\n",
        "\n",
        "Hint :- Assume all input is in lower case and at least two characters long."
      ],
      "metadata": {
        "id": "udkVTnamxL0v"
      }
    },
    {
      "cell_type": "code",
      "execution_count": 8,
      "metadata": {
        "colab": {
          "base_uri": "https://localhost:8080/"
        },
        "id": "jJ_mqt_Vo7Zs",
        "outputId": "a59e66f6-9ad3-4a9f-86d3-e17cb64256c3"
      },
      "outputs": [
        {
          "output_type": "stream",
          "name": "stdout",
          "text": [
            "Enter the word: incredible\n",
            "incredible->in....in....incredible?\n",
            "Enter the word: enthusiastic\n",
            "enthusiastic->en....en....enthusiastic?\n",
            "Enter the word: outstanding\n",
            "outstanding->ou....ou....outstanding?\n"
          ]
        }
      ],
      "source": [
        "def stutterWord():\n",
        "    input_string = input('Enter the word: ')\n",
        "    output_string = input_string.replace(input_string[0:2],((input_string[0:2]+'....')*2)+ input_string[0:2])  +'?' \n",
        "    print(f'{input_string}->{output_string}')\n",
        "\n",
        "for i in range(3):\n",
        "    stutterWord()    "
      ]
    },
    {
      "cell_type": "markdown",
      "source": [
        "Question 2.Create a function that takes an angle in radians and returns the corresponding\n",
        "angle in degrees rounded to one decimal place.\n",
        "Examples\n",
        "radians_to_degrees(1) ➞ 57.3\n",
        "radians_to_degrees(20) ➞ 1145.9\n",
        "radians_to_degrees(50) ➞ 2864.8"
      ],
      "metadata": {
        "id": "k2hiH7qX20lI"
      }
    },
    {
      "cell_type": "code",
      "source": [
        "import math\n",
        "def radianToDegree():\n",
        "    input_number = int(input('Enter the angle in Radians: '))\n",
        "    output_number = (180/math.pi)*input_number\n",
        "    print(f'{input_number} is radian(s) -> {output_number:1f}  degrees')\n",
        "for i in range(3):    \n",
        "       radianToDegree()    "
      ],
      "metadata": {
        "colab": {
          "base_uri": "https://localhost:8080/"
        },
        "id": "n9dQEcHAxCvn",
        "outputId": "61f5d702-7f99-48cb-c6ca-d8a75e2f9b0e"
      },
      "execution_count": 14,
      "outputs": [
        {
          "output_type": "stream",
          "name": "stdout",
          "text": [
            "Enter the angle in Radians: 1\n",
            "1 is radian(s) -> 57.295780  degrees\n",
            "Enter the angle in Radians: 20\n",
            "20 is radian(s) -> 1145.915590  degrees\n",
            "Enter the angle in Radians: 50\n",
            "50 is radian(s) -> 2864.788976  degrees\n"
          ]
        }
      ]
    },
    {
      "cell_type": "markdown",
      "source": [
        "Question 3. In this challenge, establish if a given integer num is a Curzon number. If 1 plus\n",
        "2 elevated to num is exactly divisible by 1 plus 2 multiplied by num, then num is a Curzon\n",
        "number.\n",
        "Given a non-negative integer num, implement a function that returns True if num is a Curzon\n",
        "number, or False otherwise.\n",
        "Examples\n",
        "is_curzon(5) ➞ True\n",
        "# 2 ** 5 + 1 = 33\n",
        "# 2 * 5 + 1 = 11\n",
        "# 33 is a multiple of 11\n",
        "is_curzon(10) ➞ False\n",
        "# 2 ** 10 + 1 = 1025\n",
        "# 2 * 10 + 1 = 21\n",
        "# 1025 is not a multiple of 21\n",
        "is_curzon(14) ➞ True\n",
        "# 2 ** 14 + 1 = 16385\n",
        "# 2 * 14 + 1 = 29\n",
        "# 16385 is a multiple of 29"
      ],
      "metadata": {
        "id": "BR_kx7eFCepS"
      }
    },
    {
      "cell_type": "code",
      "source": [
        "def curzonnumber():\n",
        "    input_number = int(input(\"Enter a number: \"))\n",
        "    if(pow(2,input_number)+1)%((2*input_number)+1)==0:\n",
        "       print(f'{input_number} is a Curzon Number')\n",
        "    else:\n",
        "       print(f'{input_number} is not a Curzon number')\n",
        "for x in range(4):\n",
        "     curzonnumber()          "
      ],
      "metadata": {
        "colab": {
          "base_uri": "https://localhost:8080/"
        },
        "id": "v8wthnKZxCyW",
        "outputId": "e3c1139d-152d-438c-86ce-b6eefcd39993"
      },
      "execution_count": 16,
      "outputs": [
        {
          "output_type": "stream",
          "name": "stdout",
          "text": [
            "Enter a number: 5\n",
            "5 is a Curzon Number\n",
            "Enter a number: 6\n",
            "6 is a Curzon Number\n",
            "Enter a number: 10\n",
            "10 is not a Curzon number\n",
            "Enter a number: 14\n",
            "14 is a Curzon Number\n"
          ]
        }
      ]
    },
    {
      "cell_type": "markdown",
      "source": [
        "Question 4.Given the side length x find the area of a hexagon."
      ],
      "metadata": {
        "id": "k64B6VHHHD4W"
      }
    },
    {
      "cell_type": "markdown",
      "source": [
        "area_of_hexagon(1) ➞ 2.6\n",
        "area_of_hexagon(2) ➞ 10.4\n",
        "area_of_hexagon(3) ➞ 23.4"
      ],
      "metadata": {
        "id": "GDnGCg6tHHJu"
      }
    },
    {
      "cell_type": "code",
      "source": [
        "import math\n",
        "def areaofHexagon():\n",
        "    input_number = int(input('Enter the side length of Hexagon: '))\n",
        "    output_number = ((3*math.sqrt(3))/2)*(pow(input_number,2))\n",
        "    print(f'Area for Hexagon of sidelength {input_number}->{output_number}')\n",
        "\n",
        "for i in range(3):\n",
        "    areaofHexagon()\n"
      ],
      "metadata": {
        "colab": {
          "base_uri": "https://localhost:8080/"
        },
        "id": "VJjbPnHkxC07",
        "outputId": "8c979f90-44d5-417d-95de-1cedecb79d42"
      },
      "execution_count": 17,
      "outputs": [
        {
          "output_type": "stream",
          "name": "stdout",
          "text": [
            "Enter the side length of Hexagon: 1\n",
            "Area for Hexagon of sidelength 1->2.598076211353316\n",
            "Enter the side length of Hexagon: 3\n",
            "Area for Hexagon of sidelength 3->23.382685902179844\n",
            "Enter the side length of Hexagon: 4\n",
            "Area for Hexagon of sidelength 4->41.569219381653056\n"
          ]
        }
      ]
    },
    {
      "cell_type": "markdown",
      "source": [
        "Question 5. Create a function that returns a base-2 (binary) representation of a base-10\n",
        "(decimal) string number. To convert is simple: ((2) means base-2 and (10) means base-10)\n",
        "010101001(2) = 1 + 8 + 32 + 128.\n",
        "Going from right to left, the value of the most right bit is 1, now from that every bit to the left\n",
        "will be x2 the value, value of an 8 bit binary numbers are (256, 128, 64, 32, 16, 8, 4, 2, 1).\n",
        "Examples\n",
        "binary(1) ➞ &quot;1&quot;\n",
        "# 1*1 = 1\n",
        "binary(5) ➞ &quot;101&quot;\n",
        "# 1*1 + 1*4 = 5\n",
        "binary(10) ➞ &quot;1010&quot;\n",
        "# 1*2 + 1*8 = 10"
      ],
      "metadata": {
        "id": "aTk1ygcxIx_u"
      }
    },
    {
      "cell_type": "code",
      "source": [
        "def getBinary():\n",
        "    input_number = int(input(\"Enter a number: \"))\n",
        "    output_number = bin(input_number).replace('ob','')\n",
        "    print(f'Binary of {input_number}-> {output_number}')\n",
        "for i in range(3):\n",
        "    getBinary()    "
      ],
      "metadata": {
        "colab": {
          "base_uri": "https://localhost:8080/"
        },
        "id": "_W0FqD1DxC3f",
        "outputId": "3ed14f20-f2c6-494a-ebac-bbccc376114e"
      },
      "execution_count": 19,
      "outputs": [
        {
          "output_type": "stream",
          "name": "stdout",
          "text": [
            "Enter a number: 1\n",
            "Binary of 1-> 0b1\n",
            "Enter a number: 2\n",
            "Binary of 2-> 0b10\n",
            "Enter a number: 5\n",
            "Binary of 5-> 0b101\n"
          ]
        }
      ]
    },
    {
      "cell_type": "code",
      "source": [],
      "metadata": {
        "id": "uZgyJNE-xC67"
      },
      "execution_count": null,
      "outputs": []
    },
    {
      "cell_type": "code",
      "source": [],
      "metadata": {
        "id": "lUqenhgwxC9v"
      },
      "execution_count": null,
      "outputs": []
    },
    {
      "cell_type": "code",
      "source": [],
      "metadata": {
        "id": "sTbQ4QP1xDAZ"
      },
      "execution_count": null,
      "outputs": []
    },
    {
      "cell_type": "code",
      "source": [],
      "metadata": {
        "id": "Dip3o_tSxDDP"
      },
      "execution_count": null,
      "outputs": []
    },
    {
      "cell_type": "code",
      "source": [],
      "metadata": {
        "id": "KLcx3P9cxKMe"
      },
      "execution_count": null,
      "outputs": []
    },
    {
      "cell_type": "code",
      "source": [],
      "metadata": {
        "id": "M8X7gJRwxKPk"
      },
      "execution_count": null,
      "outputs": []
    },
    {
      "cell_type": "code",
      "source": [],
      "metadata": {
        "id": "8uoYkHaExKSh"
      },
      "execution_count": null,
      "outputs": []
    },
    {
      "cell_type": "code",
      "source": [],
      "metadata": {
        "id": "z8MBwCZ9xKVz"
      },
      "execution_count": null,
      "outputs": []
    },
    {
      "cell_type": "code",
      "source": [],
      "metadata": {
        "id": "qHx6jDwAxDFq"
      },
      "execution_count": null,
      "outputs": []
    },
    {
      "cell_type": "code",
      "source": [],
      "metadata": {
        "id": "JNkAE1J0xDJB"
      },
      "execution_count": null,
      "outputs": []
    }
  ]
}