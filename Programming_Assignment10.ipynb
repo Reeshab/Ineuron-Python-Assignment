{
  "nbformat": 4,
  "nbformat_minor": 0,
  "metadata": {
    "colab": {
      "provenance": [],
      "collapsed_sections": [],
      "authorship_tag": "ABX9TyOsrUxPFW6S/hSFn145pbNL",
      "include_colab_link": true
    },
    "kernelspec": {
      "name": "python3",
      "display_name": "Python 3"
    },
    "language_info": {
      "name": "python"
    }
  },
  "cells": [
    {
      "cell_type": "markdown",
      "metadata": {
        "id": "view-in-github",
        "colab_type": "text"
      },
      "source": [
        "<a href=\"https://colab.research.google.com/github/Reeshab/Ineuron-Python-Assignment/blob/main/Programming_Assignment10.ipynb\" target=\"_parent\"><img src=\"https://colab.research.google.com/assets/colab-badge.svg\" alt=\"Open In Colab\"/></a>"
      ]
    },
    {
      "cell_type": "markdown",
      "source": [
        "1. Write a Python program to find sum of elements in list?"
      ],
      "metadata": {
        "id": "e2GPKyS4P9xQ"
      }
    },
    {
      "cell_type": "code",
      "source": [
        "list = []\n",
        "L= int(input('How many numbers: '))\n",
        "for i in range(L):\n",
        "    L = int(input('Enter number: '))\n",
        "    list.append(L)\n",
        "print(\"Sum of elements in the given list is:\", sum(list))    "
      ],
      "metadata": {
        "colab": {
          "base_uri": "https://localhost:8080/"
        },
        "id": "yzpy9RzLPxbE",
        "outputId": "5eb5da51-4c60-4978-b244-6221b0107373"
      },
      "execution_count": 3,
      "outputs": [
        {
          "output_type": "stream",
          "name": "stdout",
          "text": [
            "How many numbers: 10\n",
            "Enter number: 1\n",
            "Enter number: 2\n",
            "Enter number: 3\n",
            "Enter number: 4\n",
            "Enter number: 5\n",
            "Enter number: 6\n",
            "Enter number: 7\n",
            "Enter number: 8\n",
            "Enter number: 9\n",
            "Enter number: 10\n",
            "Sum of elements in the given list is: 55\n"
          ]
        }
      ]
    },
    {
      "cell_type": "markdown",
      "source": [
        "2. Write a Python program to Multiply all numbers in the list?"
      ],
      "metadata": {
        "id": "-96nK6AkR8vb"
      }
    },
    {
      "cell_type": "code",
      "source": [
        "list = []\n",
        "L= int(input('How many numbers: '))\n",
        "for i in range(L):\n",
        "    L = int(input('Enter number: '))\n",
        "    list.append(L)\n",
        "mul = 1\n",
        "for i in range(L):\n",
        "  mul = mul * list[i]\n",
        "print(\"\\nMultiplication Result = \"+str(mul))  \n",
        "\n"
      ],
      "metadata": {
        "colab": {
          "base_uri": "https://localhost:8080/"
        },
        "id": "5PqrX4WBPxXb",
        "outputId": "ca9dd6ec-f99f-421f-8c5f-e9043b0eabb7"
      },
      "execution_count": 5,
      "outputs": [
        {
          "output_type": "stream",
          "name": "stdout",
          "text": [
            "How many numbers: 5\n",
            "Enter number: 1\n",
            "Enter number: 2\n",
            "Enter number: 3\n",
            "Enter number: 4\n",
            "Enter number: 5\n",
            "\n",
            "Multiplication Result = 120\n"
          ]
        }
      ]
    },
    {
      "cell_type": "markdown",
      "source": [
        "3. Write a Python program to find smallest number in a list?"
      ],
      "metadata": {
        "id": "2Zvp_lzhVJ5o"
      }
    },
    {
      "cell_type": "code",
      "source": [
        "list = []\n",
        "L= int(input('How many numbers: '))\n",
        "for i in range(L):\n",
        "    L = int(input('Enter number: '))\n",
        "    list.append(L)\n",
        "    small = list[0]\n",
        "if small > list[i]:\n",
        "   small = list[i]\n",
        "print(\"\\nSmallest Number is: \")\n",
        "print(small)       \n"
      ],
      "metadata": {
        "colab": {
          "base_uri": "https://localhost:8080/"
        },
        "id": "b-CeN0s4PxUh",
        "outputId": "1f495635-8995-4816-fbdb-bb2a69b29450"
      },
      "execution_count": 7,
      "outputs": [
        {
          "output_type": "stream",
          "name": "stdout",
          "text": [
            "How many numbers: 5\n",
            "Enter number: 1\n",
            "Enter number: 2\n",
            "Enter number: 3\n",
            "Enter number: 4\n",
            "Enter number: 5\n",
            "\n",
            "Smallest Number is: \n",
            "1\n"
          ]
        }
      ]
    },
    {
      "cell_type": "markdown",
      "source": [
        "4. Write a Python program to find largest number in a list?"
      ],
      "metadata": {
        "id": "-6UvmBBXWetC"
      }
    },
    {
      "cell_type": "code",
      "source": [
        "list = []\n",
        "L= int(input('How many numbers: '))\n",
        "for i in range(L):\n",
        "    L = int(input('Enter number: '))\n",
        "    list.append(L)\n",
        "    big = list[0]\n",
        "if big < list[i]:\n",
        "   big = list[i]\n",
        "print(\"\\nLargest Number is: \")\n",
        "print(big)       \n"
      ],
      "metadata": {
        "colab": {
          "base_uri": "https://localhost:8080/"
        },
        "id": "4-OLEGTXPxRn",
        "outputId": "087de46d-77c3-4b18-969e-f67e893c46de"
      },
      "execution_count": 9,
      "outputs": [
        {
          "output_type": "stream",
          "name": "stdout",
          "text": [
            "How many numbers: 5\n",
            "Enter number: 1\n",
            "Enter number: 2\n",
            "Enter number: 3\n",
            "Enter number: 4\n",
            "Enter number: 5\n",
            "\n",
            "Largest Number is: \n",
            "5\n"
          ]
        }
      ]
    },
    {
      "cell_type": "markdown",
      "source": [
        "5. Write a Python program to find second largest number in a list?"
      ],
      "metadata": {
        "id": "He-WlNFLW2kM"
      }
    },
    {
      "cell_type": "code",
      "execution_count": 10,
      "metadata": {
        "colab": {
          "base_uri": "https://localhost:8080/"
        },
        "id": "_htt7RLCPqYO",
        "outputId": "ffc52c44-2c20-44b8-8d3c-5d530d7fafec"
      },
      "outputs": [
        {
          "output_type": "stream",
          "name": "stdout",
          "text": [
            "How many numbers: 5\n",
            "Enter number: 1\n",
            "Enter number: 2\n",
            "Enter number: 3\n",
            "Enter number: 4\n",
            "Enter number: 5\n",
            "\n",
            "Second Largest Number is: \n",
            "4\n"
          ]
        }
      ],
      "source": [
        "list = []\n",
        "L= int(input('How many numbers: '))\n",
        "for i in range(L):\n",
        "    L = int(input('Enter number: '))\n",
        "    list.append(L)\n",
        "    big = list[0]\n",
        "if big < list[i]:\n",
        "   big = list[i]\n",
        "secondLarge = list[0]\n",
        "for i in range(L):\n",
        "  if secondLarge<list[i]:\n",
        "    if list[i]!=big:\n",
        "      secondLarge=list[i]\n",
        "print(\"\\nSecond Largest Number is: \")\n",
        "print(secondLarge)       \n"
      ]
    },
    {
      "cell_type": "markdown",
      "source": [
        "6. Write a Python program to find N largest elements from a list?"
      ],
      "metadata": {
        "id": "YbiE0siPcwaD"
      }
    },
    {
      "cell_type": "code",
      "source": [
        "def Nmaxelements(list1, N):\n",
        "    final_list = []\n",
        " \n",
        "    for i in range(0, N):\n",
        "        max1 = 0\n",
        "         \n",
        "        for j in range(len(list1)):    \n",
        "            if list1[j] > max1:\n",
        "                max1 = list1[j];\n",
        "                 \n",
        "        list1.remove(max1);\n",
        "        final_list.append(max1)\n",
        "         \n",
        "    print(final_list)\n",
        " \n",
        "list1 = [2, 6, 41, 85, 0, 3, 7, 6, 10]\n",
        "N = 2\n",
        "Nmaxelements(list1,N)"
      ],
      "metadata": {
        "colab": {
          "base_uri": "https://localhost:8080/"
        },
        "id": "HGKAo7IMPrL5",
        "outputId": "b9df9b45-a7d0-4fae-8fc4-1f9f702d9d50"
      },
      "execution_count": 21,
      "outputs": [
        {
          "output_type": "stream",
          "name": "stdout",
          "text": [
            "[85, 41]\n"
          ]
        }
      ]
    },
    {
      "cell_type": "markdown",
      "source": [
        "7. Write a Python program to print even numbers in a list?"
      ],
      "metadata": {
        "id": "jHodAqvWe9zd"
      }
    },
    {
      "cell_type": "code",
      "source": [
        "def even(list):\n",
        "    new_list=[]\n",
        "    for i in list:\n",
        "        if i%2==0:               \n",
        "            new_list.append(i)\n",
        "    return new_list\n",
        "\n",
        "#input\n",
        "li=[]\n",
        "n=int(input(\"Enter size of list \"))\n",
        "for i in range(0,n):\n",
        "    e=int(input(\"Enter element of list \"))\n",
        "    li.append(e)\n",
        "\n",
        "print(\"Even numbers in \",li)\n",
        "print(even(li))"
      ],
      "metadata": {
        "colab": {
          "base_uri": "https://localhost:8080/"
        },
        "id": "L6Xwgh50PrPe",
        "outputId": "d8f7f4a7-2558-47f0-cd03-a4c454ab1827"
      },
      "execution_count": 22,
      "outputs": [
        {
          "output_type": "stream",
          "name": "stdout",
          "text": [
            "Enter size of list 5\n",
            "Enter element of list 1\n",
            "Enter element of list 2\n",
            "Enter element of list 3\n",
            "Enter element of list 4\n",
            "Enter element of list 5\n",
            "Even numbers in  [1, 2, 3, 4, 5]\n",
            "[2, 4]\n"
          ]
        }
      ]
    },
    {
      "cell_type": "markdown",
      "source": [
        "8. Write a Python program to print odd numbers in a List?"
      ],
      "metadata": {
        "id": "PgHspLp2iDAF"
      }
    },
    {
      "cell_type": "code",
      "source": [
        "list1 = [10, 21, 4, 45, 66, 93]\n",
        " \n",
        "\n",
        "for num in list1:\n",
        " \n",
        "    \n",
        "    if num % 2 != 0:\n",
        "      print(num, end=\" \")"
      ],
      "metadata": {
        "colab": {
          "base_uri": "https://localhost:8080/"
        },
        "id": "FdQCU_bOPrSK",
        "outputId": "1d9f50a1-a9d8-4815-87d6-9b07dfd6e62c"
      },
      "execution_count": 27,
      "outputs": [
        {
          "output_type": "stream",
          "name": "stdout",
          "text": [
            "21 45 93 "
          ]
        }
      ]
    },
    {
      "cell_type": "markdown",
      "source": [
        "9. Write a Python program to Remove empty List from List?"
      ],
      "metadata": {
        "id": "h4Sdx6FqiGNg"
      }
    },
    {
      "cell_type": "code",
      "source": [
        "test_list = [5, 6, [], 3, [], [], 9]\n",
        "print(\"The original list is : \" + str(test_list))\n",
        "while [] in test_list :\n",
        "    test_list.remove([])\n",
        "print(\"List after empty list removal : \" + str(test_list))"
      ],
      "metadata": {
        "colab": {
          "base_uri": "https://localhost:8080/"
        },
        "id": "5-367fyTPrVM",
        "outputId": "f45e2a9d-c711-4f96-d691-b0890b6f96cc"
      },
      "execution_count": 28,
      "outputs": [
        {
          "output_type": "stream",
          "name": "stdout",
          "text": [
            "The original list is : [5, 6, [], 3, [], [], 9]\n",
            "List after empty list removal : [5, 6, 3, 9]\n"
          ]
        }
      ]
    },
    {
      "cell_type": "markdown",
      "source": [
        "10. Write a Python program to Cloning or Copying a list?"
      ],
      "metadata": {
        "id": "IlKuy3i8iJd1"
      }
    },
    {
      "cell_type": "code",
      "source": [
        "import copy\n",
        "\n",
        "li1 = [1,2,[3,5],4]\n",
        "li2 = copy.copy(li1)\n",
        "\n",
        "print(li2)"
      ],
      "metadata": {
        "colab": {
          "base_uri": "https://localhost:8080/"
        },
        "id": "VVj2Tdj1PrYM",
        "outputId": "5fc86d7a-ab00-4ee4-8fc1-a8274b4de4ec"
      },
      "execution_count": 29,
      "outputs": [
        {
          "output_type": "stream",
          "name": "stdout",
          "text": [
            "[1, 2, [3, 5], 4]\n"
          ]
        }
      ]
    },
    {
      "cell_type": "markdown",
      "source": [
        "11. Write a Python program to Count occurrences of an element in a list?"
      ],
      "metadata": {
        "id": "eTjAfkp5iNH5"
      }
    },
    {
      "cell_type": "code",
      "source": [
        "def countocerance(list,y):\n",
        "    count = 0\n",
        "    for element in list:\n",
        "      if(element == y):\n",
        "        count = count + 1\n",
        "    return count\n",
        "list = [ 1,2,3,4,5,6,1,7,8,9]          \n",
        "y = 1\n",
        "print('{} has occured {} times'.format(y,countocerance(list, y)))"
      ],
      "metadata": {
        "colab": {
          "base_uri": "https://localhost:8080/"
        },
        "id": "4FyQc0OYPray",
        "outputId": "a9b3943c-db67-42a9-fbac-989b9fbfa592"
      },
      "execution_count": 32,
      "outputs": [
        {
          "output_type": "stream",
          "name": "stdout",
          "text": [
            "1 has occured 2 times\n"
          ]
        }
      ]
    },
    {
      "cell_type": "code",
      "source": [],
      "metadata": {
        "id": "k6r5CSkzPrdX"
      },
      "execution_count": null,
      "outputs": []
    },
    {
      "cell_type": "code",
      "source": [],
      "metadata": {
        "id": "Nm_BHkzbPrgQ"
      },
      "execution_count": null,
      "outputs": []
    },
    {
      "cell_type": "code",
      "source": [],
      "metadata": {
        "id": "M1QAtPA_PrkA"
      },
      "execution_count": null,
      "outputs": []
    }
  ]
}