{
  "nbformat": 4,
  "nbformat_minor": 0,
  "metadata": {
    "colab": {
      "provenance": [],
      "collapsed_sections": [],
      "authorship_tag": "ABX9TyPVnkKSnyIEVSXGZXAcOU4X",
      "include_colab_link": true
    },
    "kernelspec": {
      "name": "python3",
      "display_name": "Python 3"
    },
    "language_info": {
      "name": "python"
    }
  },
  "cells": [
    {
      "cell_type": "markdown",
      "metadata": {
        "id": "view-in-github",
        "colab_type": "text"
      },
      "source": [
        "<a href=\"https://colab.research.google.com/github/Reeshab/Ineuron-Python-Assignment/blob/main/Assignment_13.ipynb\" target=\"_parent\"><img src=\"https://colab.research.google.com/assets/colab-badge.svg\" alt=\"Open In Colab\"/></a>"
      ]
    },
    {
      "cell_type": "markdown",
      "source": [
        "1. What advantages do Excel spreadsheets have over CSV spreadsheets?"
      ],
      "metadata": {
        "id": "OYS6XM9QwM2r"
      }
    },
    {
      "cell_type": "markdown",
      "source": [
        "The Advantages of Excel over CSV are:\n",
        "\n",
        "Excel (XLS and XLSX) file formats are better for storing and analysing complex data.\n",
        "\n",
        "An Excel not only stores data but can also do operations on the data using macros, formulas etc\n",
        "\n",
        "CSV files are plain-text files, Does not contain formatting, formulas, macros, etc. It is also known as flat files"
      ],
      "metadata": {
        "id": "LxA6vYcN0LNZ"
      }
    },
    {
      "cell_type": "markdown",
      "source": [
        "2.What do you pass to csv.reader() and csv.writer() to create reader and writer objects?"
      ],
      "metadata": {
        "id": "1wPmHtksw1pZ"
      }
    },
    {
      "cell_type": "markdown",
      "source": [
        "import csv\n",
        "with open('text.csv','r') as file:\n",
        "    csv_file = csv.reader(file,delimiter=',')\n",
        "    for ele in csv_file:\n",
        "        print(ele)"
      ],
      "metadata": {
        "id": "rH7KRzXud2ex"
      }
    },
    {
      "cell_type": "markdown",
      "source": [
        "3. What modes do File objects for reader and writer objects need to be opened in?"
      ],
      "metadata": {
        "id": "jDlB_DAiw4tq"
      }
    },
    {
      "cell_type": "markdown",
      "source": [
        "For csv.reader(iterable_file_object), the file objects needed to be opened in read mode mode='r' Whereas for csv.writer(iterable_file_object) the file objects needed to be opened in write mode mode='w'"
      ],
      "metadata": {
        "id": "jqDCGkYSf6qK"
      }
    },
    {
      "cell_type": "markdown",
      "source": [
        "4. What method takes a list argument and writes it to a CSV file?"
      ],
      "metadata": {
        "id": "9QCGGUURw85c"
      }
    },
    {
      "cell_type": "markdown",
      "source": [
        "csv.writer class provides two methods for writing to CSV. They are writerow() and writerows(). writerow() method writes a single row at a time. Whereas writerows() method is used to write multiple rows at a time."
      ],
      "metadata": {
        "id": "3iPt5QT_gGcj"
      }
    },
    {
      "cell_type": "code",
      "source": [
        "# Example Program\n",
        "import csv      \n",
        "fields = ['Name', 'Branch', 'Year', 'CGPA'] #column names \n",
        "rows = [ \n",
        "            ['Nikhil', 'COE', '2', '9.0'],  # data rows of csv file \n",
        "            ['Sanchit', 'COE', '2', '9.1'], \n",
        "            ['Ravi', 'IT', '2', '9.3']\n",
        "       ] \n",
        "with open(\"university_records.csv\", 'w') as csvfile: \n",
        "    csvwriter = csv.writer(csvfile) # creating a csv writer object \n",
        "    csvwriter.writerow(fields) # writing the fields \n",
        "    csvwriter.writerows(rows) # writing the data rows "
      ],
      "metadata": {
        "id": "fpprdtLYwGw8"
      },
      "execution_count": null,
      "outputs": []
    },
    {
      "cell_type": "markdown",
      "source": [
        "5. What do the keyword arguments delimiter and line terminator do?"
      ],
      "metadata": {
        "id": "Mvl2srPAw_hx"
      }
    },
    {
      "cell_type": "markdown",
      "source": [
        "we use ',' is Delimeter. we can use any character as per our needs if required. Similarly Line Terminator comes at the end of line by default it is newline & can be changed according to requirement."
      ],
      "metadata": {
        "id": "jTYCMfJ6gSbU"
      }
    },
    {
      "cell_type": "markdown",
      "source": [
        "6. What function takes a string of JSON data and returns a Python data structure?"
      ],
      "metadata": {
        "id": "ipkSGQe4xClx"
      }
    },
    {
      "cell_type": "code",
      "source": [
        "# Example of json.loads() method\n",
        "import json\n",
        "my_details_json ='''{\n",
        "    \"Name\": \"Mano Vishnu\",\n",
        "    \"Qualification\": \"Bachelor of Technology\",\n",
        "    \"Stream\": \"Computer Science and Engineering\"\n",
        "}'''\n",
        "print(my_details_json)\n",
        "print(f'Type of my_details_json is {type(my_details_json)}')\n",
        "my_details = json.loads(my_details_json)\n",
        "print(my_details)\n",
        "print(f'Type of my_details is {type(my_details)}')"
      ],
      "metadata": {
        "colab": {
          "base_uri": "https://localhost:8080/"
        },
        "id": "qock1EwIwG2h",
        "outputId": "c25bb4e4-ba0b-4176-be78-1decc4d45d22"
      },
      "execution_count": 2,
      "outputs": [
        {
          "output_type": "stream",
          "name": "stdout",
          "text": [
            "{\n",
            "    \"Name\": \"Mano Vishnu\",\n",
            "    \"Qualification\": \"Bachelor of Technology\",\n",
            "    \"Stream\": \"Computer Science and Engineering\"\n",
            "}\n",
            "Type of my_details_json is <class 'str'>\n",
            "{'Name': 'Mano Vishnu', 'Qualification': 'Bachelor of Technology', 'Stream': 'Computer Science and Engineering'}\n",
            "Type of my_details is <class 'dict'>\n"
          ]
        }
      ]
    },
    {
      "cell_type": "markdown",
      "source": [
        "7. What function takes a Python data structure and returns a string of JSON data?"
      ],
      "metadata": {
        "id": "K7t_nZyTxFbV"
      }
    },
    {
      "cell_type": "markdown",
      "source": [
        "Ans: dumps() method takes a python data structure and returns a string of JSON data"
      ],
      "metadata": {
        "id": "VoDtoujJhYtl"
      }
    },
    {
      "cell_type": "code",
      "source": [
        "# Example of json.dumps() method\n",
        "import json\n",
        "my_details = {\n",
        "    'Name':'Mano Vishnu',\n",
        "    'Stream':'Computer Science and Engineering',\n",
        "    'Qualification':'Bachelor of Technology'\n",
        "}\n",
        "print(my_details)\n",
        "print(f'Type of my_details is {type(my_details)}')\n",
        "my_details_json = json.dumps(my_details, indent=4, sort_keys=True)\n",
        "print(my_details_json)\n",
        "print(f'Type of my_details_json is {type(my_details_json)}')"
      ],
      "metadata": {
        "colab": {
          "base_uri": "https://localhost:8080/"
        },
        "id": "O7p0Tnb3wG5j",
        "outputId": "8c4cd483-77fa-40f1-884f-a753af13b0fa"
      },
      "execution_count": 3,
      "outputs": [
        {
          "output_type": "stream",
          "name": "stdout",
          "text": [
            "{'Name': 'Mano Vishnu', 'Stream': 'Computer Science and Engineering', 'Qualification': 'Bachelor of Technology'}\n",
            "Type of my_details is <class 'dict'>\n",
            "{\n",
            "    \"Name\": \"Mano Vishnu\",\n",
            "    \"Qualification\": \"Bachelor of Technology\",\n",
            "    \"Stream\": \"Computer Science and Engineering\"\n",
            "}\n",
            "Type of my_details_json is <class 'str'>\n"
          ]
        }
      ]
    },
    {
      "cell_type": "code",
      "source": [],
      "metadata": {
        "id": "mC-ARS2HwG8a"
      },
      "execution_count": null,
      "outputs": []
    },
    {
      "cell_type": "code",
      "source": [],
      "metadata": {
        "id": "pZlNaXQLwG_J"
      },
      "execution_count": null,
      "outputs": []
    },
    {
      "cell_type": "code",
      "source": [],
      "metadata": {
        "id": "VaWC1ai_wHCB"
      },
      "execution_count": null,
      "outputs": []
    }
  ]
}