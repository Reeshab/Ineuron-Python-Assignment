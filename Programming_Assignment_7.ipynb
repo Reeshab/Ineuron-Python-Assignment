{
  "nbformat": 4,
  "nbformat_minor": 0,
  "metadata": {
    "colab": {
      "provenance": [],
      "collapsed_sections": [],
      "authorship_tag": "ABX9TyMQz8lU23Cli0jZ2enNsOgg",
      "include_colab_link": true
    },
    "kernelspec": {
      "name": "python3",
      "display_name": "Python 3"
    },
    "language_info": {
      "name": "python"
    }
  },
  "cells": [
    {
      "cell_type": "markdown",
      "metadata": {
        "id": "view-in-github",
        "colab_type": "text"
      },
      "source": [
        "<a href=\"https://colab.research.google.com/github/Reeshab/Ineuron-Python-Assignment/blob/main/Programming_Assignment_7.ipynb\" target=\"_parent\"><img src=\"https://colab.research.google.com/assets/colab-badge.svg\" alt=\"Open In Colab\"/></a>"
      ]
    },
    {
      "cell_type": "markdown",
      "source": [
        "**1.What is the name of the feature responsible for generating Regex objects?**"
      ],
      "metadata": {
        "id": "FUFQY06obSYm"
      }
    },
    {
      "cell_type": "markdown",
      "source": [
        "The re.compile() function returns Regex objects. syntax: re.compile(pattern, flags=0) pattern: regex pattern in string format, which you are trying to match inside the target string. flags: The expression’s behavior can be modified by specifying regex flag values. This is an optional parameter"
      ],
      "metadata": {
        "id": "WQv1nNEQbcbf"
      }
    },
    {
      "cell_type": "markdown",
      "source": [
        "**2.Why do raw strings often appear in Regex objects?**"
      ],
      "metadata": {
        "id": "7yvBkmvEbd79"
      }
    },
    {
      "cell_type": "markdown",
      "source": [
        "Raw strings are used so that backslashes do not have to be escaped."
      ],
      "metadata": {
        "id": "TAiQeKzCbll2"
      }
    },
    {
      "cell_type": "markdown",
      "source": [
        "**3. What is the return value of the search() method?**"
      ],
      "metadata": {
        "id": "_Yv9op7wbs6G"
      }
    },
    {
      "cell_type": "markdown",
      "source": [
        "The return value of the search() method is giving Match objects as per the requirement."
      ],
      "metadata": {
        "id": "UtjirHU-by7N"
      }
    },
    {
      "cell_type": "markdown",
      "source": [
        "**4.From a Match item, how do you get the actual strings that match the pattern?**"
      ],
      "metadata": {
        "id": "dnuvgQ5JcNNV"
      }
    },
    {
      "cell_type": "markdown",
      "source": [
        "The group() method returns strings of the matched text."
      ],
      "metadata": {
        "id": "HgTuLBO-cSbm"
      }
    },
    {
      "cell_type": "markdown",
      "source": [
        "**5. In the regex which created from the r'(\\d\\d\\d)-(\\d\\d\\d-\\d\\d\\d\\d)', what does group zero cover? Group 2? Group 1?**"
      ],
      "metadata": {
        "id": "7CuaVNrPcVF0"
      }
    },
    {
      "cell_type": "markdown",
      "source": [
        "Group 0 is the entire match, group 1 covers the first set of parentheses, and group 2 covers the second set of parentheses"
      ],
      "metadata": {
        "id": "xU4o-7qFcv-m"
      }
    },
    {
      "cell_type": "markdown",
      "source": [
        "**6. In standard expression syntax, parentheses and intervals have distinct meanings. How can you tell a regex that you want it to fit real parentheses and periods?**"
      ],
      "metadata": {
        "id": "YRqunbcqc0M2"
      }
    },
    {
      "cell_type": "markdown",
      "source": [
        "Periods and parentheses can be escaped with a backslash: ., (, and )."
      ],
      "metadata": {
        "id": "tEgTIXtneC8X"
      }
    },
    {
      "cell_type": "markdown",
      "source": [
        "7**. The findall() method returns a string list or a list of string tuples. What causes it to return one of the two options?**"
      ],
      "metadata": {
        "id": "0jngEZZweIVV"
      }
    },
    {
      "cell_type": "markdown",
      "source": [
        "If the regex has no groups, a list of strings is returned. If the regex has groups, a list of tuples of strings is returned."
      ],
      "metadata": {
        "id": "v0Fj4Bh-ej5n"
      }
    },
    {
      "cell_type": "markdown",
      "source": [
        "**8.In standard expressions, what does the | character mean?**"
      ],
      "metadata": {
        "id": "V-Gotbw2elN1"
      }
    },
    {
      "cell_type": "markdown",
      "source": [
        "In standard expressions,The | character signifies matching “either, or” between two groups."
      ],
      "metadata": {
        "id": "D0zEq7lefhlQ"
      }
    },
    {
      "cell_type": "markdown",
      "source": [
        "**9. In regular expressions, what does the character stand for?**"
      ],
      "metadata": {
        "id": "eO-MuZezfuq0"
      }
    },
    {
      "cell_type": "markdown",
      "source": [
        "The ? character can either mean “match zero or one of the preceding group” or be used to signify nongreedy matching."
      ],
      "metadata": {
        "id": "mZ3UdDwwfzN9"
      }
    },
    {
      "cell_type": "markdown",
      "source": [
        "10.In regular expressions, what is the difference between the + and * characters?"
      ],
      "metadata": {
        "id": "07_El_iyf24V"
      }
    },
    {
      "cell_type": "markdown",
      "source": [
        "The + matches one or more. The * matches zero or more"
      ],
      "metadata": {
        "id": "vMDrb7evgDt6"
      }
    },
    {
      "cell_type": "markdown",
      "source": [
        "11. What is the difference between {4} and {4,5} in regular expression?"
      ],
      "metadata": {
        "id": "hML5PHXLgcZ_"
      }
    },
    {
      "cell_type": "markdown",
      "source": [
        "The {4} matches exactly four instances of the preceding group. The {4,5} matches between four and five instances"
      ],
      "metadata": {
        "id": "mgViJQ6WglQN"
      }
    },
    {
      "cell_type": "markdown",
      "source": [
        "12. What do you mean by the \\d, \\w, and \\s shorthand character classes signify in regular\n",
        "expressions? "
      ],
      "metadata": {
        "id": "D7LpOzSxgpYE"
      }
    },
    {
      "cell_type": "markdown",
      "source": [
        "The \\d, \\w, and \\s shorthand character classes match a single digit, word, or space character, respectively."
      ],
      "metadata": {
        "id": "ojvaRpFxkU7L"
      }
    },
    {
      "cell_type": "markdown",
      "source": [
        "**13. What do means by \\D, \\W, and \\S shorthand character classes signify in regular expressions?**"
      ],
      "metadata": {
        "id": "p2G5JPuOkzCW"
      }
    },
    {
      "cell_type": "markdown",
      "source": [
        "The \\D, \\W, and \\S shorthand character classes match a single character that is not a digit, word, or space character, respectively"
      ],
      "metadata": {
        "id": "0ZyVqbWTlDVC"
      }
    },
    {
      "cell_type": "markdown",
      "source": [
        "**14. What is the difference between .? and . ?**"
      ],
      "metadata": {
        "id": "K_867HwLlHb6"
      }
    },
    {
      "cell_type": "markdown",
      "source": [
        "The . performs a greedy match, and the .? performs a nongreedy match."
      ],
      "metadata": {
        "id": "dRGoSHrolOzf"
      }
    },
    {
      "cell_type": "markdown",
      "source": [
        "**15. What is the syntax for matching both numbers and lowercase letters with a character class?**"
      ],
      "metadata": {
        "id": "Js8DwtvGlT5d"
      }
    },
    {
      "cell_type": "markdown",
      "source": [
        "The character class [a-zA-Z0-9] will match all lowercase letters, uppercase letters, and numbers."
      ],
      "metadata": {
        "id": "FQ6VCDXDlyr1"
      }
    },
    {
      "cell_type": "markdown",
      "source": [
        "16. What is the procedure for making a normal expression in regax case insensitive?"
      ],
      "metadata": {
        "id": "Jx2rUqKLoK39"
      }
    },
    {
      "cell_type": "markdown",
      "source": [
        "Passing re.I or re.IGNORECASE as the second argument to re.compile() will make the matching case insensitive."
      ],
      "metadata": {
        "id": "ZzFKoS6RtFVV"
      }
    },
    {
      "cell_type": "markdown",
      "source": [
        "17. What does the . character normally match? What does it match if re.DOTALL is passed as 2nd\n",
        "argument in re.compile()?"
      ],
      "metadata": {
        "id": "ItZbY0iMxD5o"
      }
    },
    {
      "cell_type": "markdown",
      "source": [
        "The '.' character normally matches any character except the newline character. If re.DOTALL is passed as the second argument to re.compile(), then the dot will also match newline characters."
      ],
      "metadata": {
        "id": "ryQJBsAXJjG3"
      }
    },
    {
      "cell_type": "markdown",
      "source": [
        "18. If numReg = re.compile(r&#39;\\d+&#39;), what will numRegex.sub(&#39;X&#39;, &#39;11 drummers, 10 pipers, five rings, 4\n",
        "hen&#39;) return?"
      ],
      "metadata": {
        "id": "kfwLTUO3JmjK"
      }
    },
    {
      "cell_type": "code",
      "source": [
        "import re\n",
        "numReg = re.compile(r'\\d+')\n",
        "print(numReg.sub('X', '11 drummers, 10 pipers, five rings, 4 hen'))"
      ],
      "metadata": {
        "colab": {
          "base_uri": "https://localhost:8080/"
        },
        "id": "XZVUwd7FXEsN",
        "outputId": "86300e84-0ed4-4443-b065-fe9e5bca4826"
      },
      "execution_count": 1,
      "outputs": [
        {
          "output_type": "stream",
          "name": "stdout",
          "text": [
            "X drummers, X pipers, five rings, X hen\n"
          ]
        }
      ]
    },
    {
      "cell_type": "markdown",
      "source": [
        "**19. What does passing re.VERBOSE as the 2nd argument to re.compile() allow to do?**"
      ],
      "metadata": {
        "id": "f3F4AlNGKyWO"
      }
    },
    {
      "cell_type": "markdown",
      "source": [
        "The re.VERBOSE argument allows you to add whitespace and comments to the string passed to re.compile()"
      ],
      "metadata": {
        "id": "BP4_UpxKMT7e"
      }
    },
    {
      "cell_type": "markdown",
      "source": [
        "20.How would you write a regex that match a number with comma for every three digits? It must match the given following:\n",
        "'42'\n",
        "'1,234'\n",
        "'6,368,745'\n",
        "but not the following:\n",
        "'12,34,567' (which has only two digits between the commas)\n",
        "'1234' (which lacks commas)\n",
        "\n",
        "1.   List item\n",
        "2.   List item \n",
        "\n"
      ],
      "metadata": {
        "id": "mDbedJnTMbYe"
      }
    },
    {
      "cell_type": "markdown",
      "source": [
        "re.compile(r'^\\d{1,3}(,\\d{1,3})*') will create this regex, but other regex strings can produce a similar regular expression."
      ],
      "metadata": {
        "id": "R2uSdQR3No_M"
      }
    },
    {
      "cell_type": "code",
      "source": [
        "print('number taken as a number with commas')\n",
        "\n",
        "import re\n",
        "def Match(sentence):\n",
        "\n",
        "        pattern = re.compile(r'\\d{1,3}(,\\d{3})*')\n",
        "\n",
        "        matches = pattern.match(sentence)\n",
        "        if matches.group(0) != sentence:\n",
        "            #Checks to see if the input value\n",
        "            #does NOT match the pattern.\n",
        "            print (sentence,'Does Not Match the Regular Expression!')\n",
        "\n",
        "        else:\n",
        "            print(matches.group(0)+ ' matches the pattern.')\n",
        "            #If the values match it will state verification.\n",
        "\n",
        "Match('42')\n",
        "Match('1,234')\n",
        "Match('6,368,745')\n",
        "Match('12,34,567') \n",
        "Match('1234')"
      ],
      "metadata": {
        "colab": {
          "base_uri": "https://localhost:8080/"
        },
        "id": "NNiEbJp-XEu8",
        "outputId": "6378f835-8dba-48d2-f87b-dd7c999703a4"
      },
      "execution_count": 2,
      "outputs": [
        {
          "output_type": "stream",
          "name": "stdout",
          "text": [
            "number taken as a number with commas\n",
            "42 matches the pattern.\n",
            "1,234 matches the pattern.\n",
            "6,368,745 matches the pattern.\n",
            "12,34,567 Does Not Match the Regular Expression!\n",
            "1234 Does Not Match the Regular Expression!\n"
          ]
        }
      ]
    },
    {
      "cell_type": "markdown",
      "source": [
        "21. How would you write a regex that matches the full name of someone whose last name is\n",
        "Watanabe? You can assume that the first name that comes before it will always be one word that\n",
        "begins with a capital letter. The regex must match the following:\n",
        "&#39;Haruto Watanabe&#39;\n",
        "&#39;Alice Watanabe&#39;\n",
        "&#39;RoboCop Watanabe&#39;\n",
        "but not the following:\n",
        "&#39;haruto Watanabe&#39; (where the first name is not capitalized)\n",
        "&#39;Mr. Watanabe&#39; (where the preceding word has a nonletter character)\n",
        "&#39;Watanabe&#39; (which has no first name)\n",
        "&#39;Haruto watanabe&#39; (where Watanabe is not capitalized)\n",
        "\n",
        "*   List item\n",
        "*   List item\n",
        "\n"
      ],
      "metadata": {
        "id": "q6P8QGmDN7vP"
      }
    },
    {
      "cell_type": "markdown",
      "source": [
        "this regex re.compile(r'\\b[A-Z][a-zA-Z]+ Watanabe') help to find the match the full name someone whose last name is Watanabe and the first name that comes before it will always be one word that begins with a capital letter."
      ],
      "metadata": {
        "id": "jPPqD7B9OU6g"
      }
    },
    {
      "cell_type": "code",
      "source": [
        "import re\n",
        "\n",
        "def printMatch(name):\n",
        "    pat = re.compile(r'\\b[A-Z][a-zA-Z]+ Watanabe')\n",
        "    if pat.search(name):\n",
        "        print(' \"'+name+'\" matches')\n",
        "    else:\n",
        "        print ('\"'+name+'\" does not match')\n",
        "\n",
        "printMatch('Alice Watanabe')\n",
        "printMatch('RoboCop Watanabe')\n",
        "printMatch('haruto Watanabe')\n",
        "printMatch('Mr. Watanabe')\n",
        "printMatch('Haruto watanabe')"
      ],
      "metadata": {
        "colab": {
          "base_uri": "https://localhost:8080/"
        },
        "id": "uyvN14JnXEx4",
        "outputId": "99a38967-63fd-49bb-f7df-91c1b4c14cc2"
      },
      "execution_count": 3,
      "outputs": [
        {
          "output_type": "stream",
          "name": "stdout",
          "text": [
            " \"Alice Watanabe\" matches\n",
            " \"RoboCop Watanabe\" matches\n",
            "\"haruto Watanabe\" does not match\n",
            "\"Mr. Watanabe\" does not match\n",
            "\"Haruto watanabe\" does not match\n"
          ]
        }
      ]
    },
    {
      "cell_type": "markdown",
      "source": [
        "22. How would you write a regex that matches a sentence where the first word is either Alice, Bob,\n",
        "or Carol; the second word is either eats, pets, or throws; the third word is apples, cats, or baseballs;\n",
        "and the sentence ends with a period? This regex should be case-insensitive. It must match the\n",
        "following:\n",
        "&#39;Alice eats apples.&#39;\n",
        "&#39;Bob pets cats.&#39;\n",
        "&#39;Carol throws baseballs.&#39;\n",
        "&#39;Alice throws Apples.&#39;\n",
        "&#39;BOB EATS CATS.&#39;\n",
        "but not the following:\n",
        "&#39;RoboCop eats apples.&#39;\n",
        "&#39;ALICE THROWS FOOTBALLS.&#39;\n",
        "&#39;Carol eats 7 cats.&#39;"
      ],
      "metadata": {
        "id": "1tA9xhykQCau"
      }
    },
    {
      "cell_type": "markdown",
      "source": [
        "this regex re.compile(r'(Alice|Bob|Carol)\\s(eats|pets|throws)\\s(apples|cats|baseballs).', re.I|re.DOTALL) find the that matches a sentence where the first word is either Alice, Bob, or Carol; the second word is either eats, pets, or throws; the third word is apples, cats, or baseballs; and the sentence ends with a period."
      ],
      "metadata": {
        "id": "8VCAQpeMRG-_"
      }
    },
    {
      "cell_type": "code",
      "source": [
        "import re\n",
        "\n",
        "def printMatch(name):\n",
        "    pat =re.compile(r'(Alice|Bob|Carol)\\s(eats|pets|throws)\\s(apples|cats|baseballs).', re.I|re.DOTALL)\n",
        "    if pat.search(name):\n",
        "        print(' \"'+name+'\" matches')\n",
        "    else:\n",
        "        print ('\"'+name+'\" does not match')\n",
        "\n",
        "printMatch('Alice eats apples.')\n",
        "printMatch('Bob pets cats.')\n",
        "printMatch('Carol throws baseballs.')\n",
        "printMatch('Alice throws Apples.')\n",
        "printMatch('BOB EATS CATS.')\n",
        "printMatch('Robocop eats apples.')\n",
        "printMatch('ALICE THROWS FOOTBALLS.')\n",
        "printMatch('Carol eats 7 cats.')"
      ],
      "metadata": {
        "colab": {
          "base_uri": "https://localhost:8080/"
        },
        "id": "wHbB--eJXE0V",
        "outputId": "d051a10d-e64e-4840-b641-6aef09308f70"
      },
      "execution_count": 4,
      "outputs": [
        {
          "output_type": "stream",
          "name": "stdout",
          "text": [
            " \"Alice eats apples.\" matches\n",
            " \"Bob pets cats.\" matches\n",
            " \"Carol throws baseballs.\" matches\n",
            " \"Alice throws Apples.\" matches\n",
            " \"BOB EATS CATS.\" matches\n",
            "\"Robocop eats apples.\" does not match\n",
            "\"ALICE THROWS FOOTBALLS.\" does not match\n",
            "\"Carol eats 7 cats.\" does not match\n"
          ]
        }
      ]
    },
    {
      "cell_type": "code",
      "source": [],
      "metadata": {
        "id": "5u8_Grp0XE29"
      },
      "execution_count": null,
      "outputs": []
    },
    {
      "cell_type": "code",
      "source": [],
      "metadata": {
        "id": "HZZDLregXE5l"
      },
      "execution_count": null,
      "outputs": []
    },
    {
      "cell_type": "code",
      "source": [],
      "metadata": {
        "id": "OWlfGNFaXE8V"
      },
      "execution_count": null,
      "outputs": []
    },
    {
      "cell_type": "code",
      "source": [],
      "metadata": {
        "id": "25J10MxPXE-8"
      },
      "execution_count": null,
      "outputs": []
    }
  ]
}