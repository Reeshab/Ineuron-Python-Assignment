{
  "nbformat": 4,
  "nbformat_minor": 0,
  "metadata": {
    "colab": {
      "provenance": [],
      "collapsed_sections": [],
      "authorship_tag": "ABX9TyNVua37ykqkg/aI7qrlkaNQ",
      "include_colab_link": true
    },
    "kernelspec": {
      "name": "python3",
      "display_name": "Python 3"
    },
    "language_info": {
      "name": "python"
    }
  },
  "cells": [
    {
      "cell_type": "markdown",
      "metadata": {
        "id": "view-in-github",
        "colab_type": "text"
      },
      "source": [
        "<a href=\"https://colab.research.google.com/github/Reeshab/Ineuron-Python-Assignment/blob/main/Programming_Assignment8.ipynb\" target=\"_parent\"><img src=\"https://colab.research.google.com/assets/colab-badge.svg\" alt=\"Open In Colab\"/></a>"
      ]
    },
    {
      "cell_type": "markdown",
      "source": [
        "Write a Python Program to Add Two Matrices?"
      ],
      "metadata": {
        "id": "xmQktA72y19M"
      }
    },
    {
      "cell_type": "code",
      "execution_count": 14,
      "metadata": {
        "colab": {
          "base_uri": "https://localhost:8080/"
        },
        "id": "6jMxppBFykkg",
        "outputId": "7b5732ff-68f8-47c9-cb0d-d72197ec7335"
      },
      "outputs": [
        {
          "output_type": "stream",
          "name": "stdout",
          "text": [
            "Enter Row and Column Size of First Matrix: 2\n",
            "3\n",
            "Enter Row and Column Size of Second Matrix: 2\n",
            "3\n",
            "\n",
            "Enter 6 Elements for First Matrix: \n",
            "1\n",
            "2\n",
            "3\n",
            "4\n",
            "5\n",
            "6\n",
            "\n",
            "Enter 6 Elements for Second Matrix: \n",
            "7\n",
            "8\n",
            "9\n",
            "1\n",
            "2\n",
            "3\n",
            "\n",
            "Addition Result:\n",
            "8 10 12 \n",
            "5 7 9 \n"
          ]
        }
      ],
      "source": [
        "\n",
        "print(\"Enter Row and Column Size of First Matrix: \", end=\"\")\n",
        "rowOne = int(input())\n",
        "colOne = int(input())\n",
        "print(\"Enter Row and Column Size of Second Matrix: \", end=\"\")\n",
        "rowTwo = int(input())\n",
        "colTwo = int(input())\n",
        "\n",
        "if rowOne==rowTwo and colOne==colTwo:\n",
        "    matOne = []\n",
        "    print(\"\\nEnter \" +str(rowOne*colOne)+ \" Elements for First Matrix: \")\n",
        "    for i in range(rowOne):\n",
        "        matOne.append([])\n",
        "        for j in range(colOne):\n",
        "            num = int(input())\n",
        "            matOne[i].append(num)\n",
        "\n",
        "    matTwo = []\n",
        "    print(\"\\nEnter \" +str(rowTwo*colTwo)+ \" Elements for Second Matrix: \")\n",
        "    for i in range(rowTwo):\n",
        "        matTwo.append([])\n",
        "        for j in range(colTwo):\n",
        "            num = int(input())\n",
        "            matTwo[i].append(num)\n",
        "\n",
        "    matThree = []\n",
        "    for i in range(rowOne):\n",
        "        matThree.append([])\n",
        "        for j in range(colTwo):\n",
        "            matThree[i].append(matOne[i][j]+matTwo[i][j])\n",
        "\n",
        "    print(\"\\nAddition Result:\")\n",
        "    for i in range(rowOne):\n",
        "        for j in range(colOne):\n",
        "            print(matThree[i][j], end=\" \")\n",
        "        print()\n",
        "else:\n",
        "    print(\"\\nDimension Mismatched!\")"
      ]
    },
    {
      "cell_type": "markdown",
      "source": [
        "Write a Python Program to Multiply Two Matrices?"
      ],
      "metadata": {
        "id": "xrbZYBaczq7z"
      }
    },
    {
      "cell_type": "code",
      "source": [
        "print(\"Enter the Row and Column Size of First Matrix: \", end=\" \")\n",
        "rOne = int(input())\n",
        "cOne = int(input())\n",
        "print(\"Enter \" +str(rOne * cOne)+ \"Elements: \",end=\" \")\n",
        "mOne=[]\n",
        "for i in range(rOne):\n",
        "    mOne.append([])\n",
        "    for j4 in range(cOne):\n",
        "        num = int(input())\n",
        "        mOne[i].append(num)\n",
        "\n",
        "print(\"\\nEnter Row and Column Size of Second Matrix: \", end=\"\")\n",
        "rTwo = int(input())\n",
        "if cOne  != rTwo:\n",
        "   print(\"\\n multiplication is not possible due to miss match \")\n",
        "   exit()\n",
        "else:   \n",
        "   cTwo = int(input())\n",
        "   print(\"Enter \" +str(rTwo * cTwo)+ \" Elements: \", end=\"\")\n",
        "   mTwo = []\n",
        "   for i in range(rTwo):\n",
        "        mTwo.append([])\n",
        "        for j in range(cTwo):\n",
        "            num = int(input())\n",
        "            mTwo[i].append(num)\n",
        "\n",
        "   mThree = []\n",
        "   23\n",
        "   for i in range(rOne):\n",
        "        mThree.append([])\n",
        "        for j in range(cTwo):\n",
        "            sum = 0\n",
        "            for k in range(cOne):\n",
        "                sum = sum + (mOne[i][k] * mTwo[k][j])\n",
        "            mThree[i].append(sum)\n",
        "   print(\"\\nMultiplication Result of Two Given Matrix is:\")\n",
        "   for i in range(rOne):\n",
        "        for j in range(cTwo):\n",
        "            print(mThree[i][j], end=\" \")\n",
        "        print()    "
      ],
      "metadata": {
        "colab": {
          "base_uri": "https://localhost:8080/"
        },
        "id": "NZQJnQnjyt8j",
        "outputId": "de116fbf-42e3-463c-a1ab-72cd4917093b"
      },
      "execution_count": 1,
      "outputs": [
        {
          "output_type": "stream",
          "name": "stdout",
          "text": [
            "Enter the Row and Column Size of First Matrix:  2\n",
            "3\n",
            "Enter 6Elements:  1\n",
            "2\n",
            "3\n",
            "4\n",
            "5\n",
            "6\n",
            "\n",
            "Enter Row and Column Size of Second Matrix: 3\n",
            "2\n",
            "Enter 6 Elements: 7\n",
            "8\n",
            "9\n",
            "10\n",
            "11\n",
            "12\n",
            "\n",
            "Multiplication Result of Two Given Matrix is:\n",
            "58 64 \n",
            "139 154 \n"
          ]
        }
      ]
    },
    {
      "cell_type": "markdown",
      "source": [
        "Write a Python Program to transpose a Matrix?"
      ],
      "metadata": {
        "id": "DAKciTHDz_NB"
      }
    },
    {
      "cell_type": "code",
      "source": [
        "print(\"Enter 9 elements of the matrix: \", end=\" \")\n",
        "matrix = []\n",
        "for i in range(3):\n",
        "    matrix.append([])\n",
        "    for j in range(3):\n",
        "        val = int(input())\n",
        "        matrix[i].append(val)\n",
        "\n",
        "print(\"\\nOriginal Matrix:\")\n",
        "for i in range(3):\n",
        "    for j in range(3):\n",
        "        print(matrix[i][j], end=\" \")\n",
        "    print()\n",
        "\n",
        "for i in range(3):\n",
        "    for j in range(i):\n",
        "        temp = matrix[i][j]\n",
        "        matrix[i][j] = matrix[j][i]\n",
        "        matrix[j][i] = temp\n",
        "\n",
        "print(\"\\nTranspose of Matrix:\")\n",
        "for i in range(3):\n",
        "    for j in range(3):\n",
        "        print(matrix[i][j], end=\" \")\n",
        "    print()"
      ],
      "metadata": {
        "colab": {
          "base_uri": "https://localhost:8080/"
        },
        "id": "PU_PQRndyt_j",
        "outputId": "8608a86a-7038-4c30-8596-37ef58ee3cb3"
      },
      "execution_count": 17,
      "outputs": [
        {
          "output_type": "stream",
          "name": "stdout",
          "text": [
            "Enter 9 elements of the matrix:  1\n",
            "2\n",
            "3\n",
            "4\n",
            "5\n",
            "6\n",
            "7\n",
            "8\n",
            "9\n",
            "\n",
            "Original Matrix:\n",
            "1 2 3 \n",
            "4 5 6 \n",
            "7 8 9 \n",
            "\n",
            "Transpose of Matrix:\n",
            "1 4 7 \n",
            "2 5 8 \n",
            "3 6 9 \n"
          ]
        }
      ]
    },
    {
      "cell_type": "markdown",
      "source": [
        "Write a Python Program to Sort Words in Alphabetic Order?"
      ],
      "metadata": {
        "id": "rpxSwV6_0HQq"
      }
    },
    {
      "cell_type": "code",
      "source": [
        "print(\"Enter the String: \")\n",
        "str = input()\n",
        "\n",
        "words = str.split()\n",
        "words.sort()\n",
        "\n",
        "sortedwords = \" \"\n",
        "for word in words:\n",
        "    sortedwords = sortedwords + word +\" \"\n",
        "print(sortedwords)    \n",
        "\n"
      ],
      "metadata": {
        "colab": {
          "base_uri": "https://localhost:8080/"
        },
        "id": "jBr0Dp1syuCV",
        "outputId": "cd2c9dfd-7e05-435b-a8dd-3a3fb0ef64a6"
      },
      "execution_count": 8,
      "outputs": [
        {
          "output_type": "stream",
          "name": "stdout",
          "text": [
            "Enter the String: \n",
            "Helo I am Fine\n",
            " Fine Helo I am \n"
          ]
        }
      ]
    },
    {
      "cell_type": "markdown",
      "source": [
        "Write a Python Program to Remove Punctuation From String?"
      ],
      "metadata": {
        "id": "sjE9o7KX0SZ3"
      }
    },
    {
      "cell_type": "code",
      "source": [
        "enter_str = input(\"Enter a string: \")\n",
        "punctuation = '''''!()-[]{};:'\"\\,<>./?@#$%^&*_~'''  \n",
        "\n",
        "without_punct=\" \"\n",
        "\n",
        "for char in enter_str:\n",
        "   if char not in punctuation:\n",
        "      without_punct= without_punct+char\n",
        "print(without_punct)      "
      ],
      "metadata": {
        "colab": {
          "base_uri": "https://localhost:8080/"
        },
        "id": "XUsmycDNyuFG",
        "outputId": "1058c730-8892-445c-9df8-a95dcca8cde3"
      },
      "execution_count": 14,
      "outputs": [
        {
          "output_type": "stream",
          "name": "stdout",
          "text": [
            "Enter a string: I'am singe\n",
            " Iam singe\n"
          ]
        }
      ]
    },
    {
      "cell_type": "code",
      "source": [],
      "metadata": {
        "id": "kmKhABRzyuHy"
      },
      "execution_count": null,
      "outputs": []
    },
    {
      "cell_type": "code",
      "source": [],
      "metadata": {
        "id": "rRWy0UVkyuKV"
      },
      "execution_count": null,
      "outputs": []
    },
    {
      "cell_type": "code",
      "source": [],
      "metadata": {
        "id": "gbmNgtOkyuNH"
      },
      "execution_count": null,
      "outputs": []
    },
    {
      "cell_type": "code",
      "source": [],
      "metadata": {
        "id": "LnqHilnkyuPz"
      },
      "execution_count": null,
      "outputs": []
    },
    {
      "cell_type": "code",
      "source": [],
      "metadata": {
        "id": "MWCqsc_ayuSy"
      },
      "execution_count": null,
      "outputs": []
    },
    {
      "cell_type": "code",
      "source": [],
      "metadata": {
        "id": "FkAEjUveyuVQ"
      },
      "execution_count": null,
      "outputs": []
    },
    {
      "cell_type": "code",
      "source": [],
      "metadata": {
        "id": "nZ5MWTzvyuY0"
      },
      "execution_count": null,
      "outputs": []
    }
  ]
}