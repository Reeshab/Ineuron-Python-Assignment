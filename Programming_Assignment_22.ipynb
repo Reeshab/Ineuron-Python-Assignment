{
  "nbformat": 4,
  "nbformat_minor": 0,
  "metadata": {
    "colab": {
      "provenance": [],
      "collapsed_sections": [],
      "authorship_tag": "ABX9TyMcMnBZPkfALyBff20jU3XF",
      "include_colab_link": true
    },
    "kernelspec": {
      "name": "python3",
      "display_name": "Python 3"
    },
    "language_info": {
      "name": "python"
    }
  },
  "cells": [
    {
      "cell_type": "markdown",
      "metadata": {
        "id": "view-in-github",
        "colab_type": "text"
      },
      "source": [
        "<a href=\"https://colab.research.google.com/github/Reeshab/Ineuron-Python-Assignment/blob/main/Programming_Assignment_22.ipynb\" target=\"_parent\"><img src=\"https://colab.research.google.com/assets/colab-badge.svg\" alt=\"Open In Colab\"/></a>"
      ]
    },
    {
      "cell_type": "markdown",
      "source": [
        "Question1\n",
        "Create a function that takes three parameters where:\n",
        " x is the start of the range (inclusive).\n",
        " y is the end of the range (inclusive).\n",
        " n is the divisor to be checked against.\n",
        "Return an ordered list with numbers in the range that are divisible by the third parameter n.\n",
        "Return an empty list if there are no numbers that are divisible by n.\n",
        "Examples\n",
        "list_operation(1, 10, 3) ➞ [3, 6, 9]\n",
        "list_operation(7, 9, 2) ➞ [8]\n",
        "list_operation(15, 20, 7) ➞ []"
      ],
      "metadata": {
        "id": "P8YKPkk0QMHt"
      }
    },
    {
      "cell_type": "code",
      "execution_count": 3,
      "metadata": {
        "colab": {
          "base_uri": "https://localhost:8080/"
        },
        "id": "qoY8QQMZP5xm",
        "outputId": "6a56ac9e-9845-4cc1-f2a3-0f7194265931"
      },
      "outputs": [
        {
          "output_type": "stream",
          "name": "stdout",
          "text": [
            "Output: -> [3, 6, 9]\n",
            "Output: -> [8]\n",
            "Output: -> []\n"
          ]
        }
      ],
      "source": [
        "def list_operation(start,end,divisor):\n",
        "    output_list = []\n",
        "    for element in range(start,end+1):\n",
        "        if element % divisor == 0:\n",
        "            output_list.append(element)\n",
        "    print(f'Output: -> {output_list}')\n",
        "\n",
        "list_operation(1, 10, 3)\n",
        "list_operation(7, 9, 2)\n",
        "list_operation(15, 20, 7)           "
      ]
    },
    {
      "cell_type": "markdown",
      "source": [
        "Question2\n",
        "Create a function that takes in two lists and returns True if the second list follows the first list\n",
        "by one element, and False otherwise. In other words, determine if the second list is the first\n",
        "list shifted to the right by 1.\n",
        "Examples\n",
        "simon_says([1, 2], [5, 1]) ➞ True\n",
        "simon_says([1, 2], [5, 5]) ➞ False\n",
        "simon_says([1, 2, 3, 4, 5], [0, 1, 2, 3, 4]) ➞ True\n",
        "simon_says([1, 2, 3, 4, 5], [5, 5, 1, 2, 3]) ➞ False\n",
        "Notes\n",
        " Both input lists will be of the same length, and will have a minimum length of 2.\n",
        " The values of the 0-indexed element in the second list and the n-1th indexed element\n",
        "in the first list do not matter."
      ],
      "metadata": {
        "id": "m3kvTD9WQOre"
      }
    },
    {
      "cell_type": "code",
      "source": [
        "def simon_says(input_list1,input_list2):\n",
        "     if len(input_list1) == len(input_list1) and len(input_list1) >=2 and len(input_list1) >=2:\n",
        "         if(input_list1[:-1] == input_list2[1:]):\n",
        "           print(f'{input_list1,input_list2} -> {True}')\n",
        "         else:\n",
        "           print(f'{input_list1, input_list2} -> {False}')\n",
        "simon_says([1, 2], [5, 1])\n",
        "simon_says([1, 2], [5, 5])\n",
        "simon_says([1, 2, 3, 4, 5], [0, 1, 2, 3, 4])\n",
        "simon_says([1, 2, 3, 4, 5], [5, 5, 1, 2, 3])\n"
      ],
      "metadata": {
        "colab": {
          "base_uri": "https://localhost:8080/"
        },
        "id": "xY-o9pk2P6n0",
        "outputId": "0c33b16a-1f4f-45fd-c03c-b5a62c456e87"
      },
      "execution_count": 5,
      "outputs": [
        {
          "output_type": "stream",
          "name": "stdout",
          "text": [
            "([1, 2], [5, 1]) -> True\n",
            "([1, 2], [5, 5]) -> False\n",
            "([1, 2, 3, 4, 5], [0, 1, 2, 3, 4]) -> True\n",
            "([1, 2, 3, 4, 5], [5, 5, 1, 2, 3]) -> False\n"
          ]
        }
      ]
    },
    {
      "cell_type": "markdown",
      "source": [
        "Question3\n",
        "A group of friends have decided to start a secret society. The name will be the first letter of\n",
        "each of their names, sorted in alphabetical order.\n",
        "Create a function that takes in a list of names and returns the name of the secret society.\n",
        "\n",
        "Examples\n",
        "society_name([&quot;Adam&quot;, &quot;Sarah&quot;, &quot;Malcolm&quot;]) ➞ &quot;AMS&quot;\n",
        "society_name([&quot;Harry&quot;, &quot;Newt&quot;, &quot;Luna&quot;, &quot;Cho&quot;]) ➞ &quot;CHLN&quot;\n",
        "society_name([&quot;Phoebe&quot;, &quot;Chandler&quot;, &quot;Rachel&quot;, &quot;Ross&quot;, &quot;Monica&quot;, &quot;Joey&quot;])"
      ],
      "metadata": {
        "id": "hrK8kQbZQcS8"
      }
    },
    {
      "cell_type": "code",
      "source": [
        "def Society_name(input_list):\n",
        "    output_string = []\n",
        "    for element in input_list:\n",
        "        output_string.append(element[0])\n",
        "    output = ''.join(sorted(output_string))\n",
        "    print(f'{input_list} -> {output}')    \n",
        "\n",
        "Society_name([\"Adam\", \"Sarah\", \"Malcolm\"])\n",
        "Society_name([\"Harry\", \"Newt\", \"Luna\", \"Cho\"])\n",
        "Society_name([\"Phoebe\", \"Chandler\", \"Rachel\", \"Ross\", \"Monica\", \"Joey\"])    "
      ],
      "metadata": {
        "colab": {
          "base_uri": "https://localhost:8080/"
        },
        "id": "fR4PMpT_P6qk",
        "outputId": "dd2be5a6-330a-4ef0-c53c-f11d1c0537df"
      },
      "execution_count": 7,
      "outputs": [
        {
          "output_type": "stream",
          "name": "stdout",
          "text": [
            "['Adam', 'Sarah', 'Malcolm'] -> AMS\n",
            "['Harry', 'Newt', 'Luna', 'Cho'] -> CHLN\n",
            "['Phoebe', 'Chandler', 'Rachel', 'Ross', 'Monica', 'Joey'] -> CJMPRR\n"
          ]
        }
      ]
    },
    {
      "cell_type": "markdown",
      "source": [
        "Question4\n",
        "An isogram is a word that has no duplicate letters. Create a function that takes a string and\n",
        "returns either True or False depending on whether or not it&#39;s an &quot;isogram&quot;.\n",
        "Examples\n",
        "is_isogram(&quot;Algorism&quot;) ➞ True\n",
        "is_isogram(&quot;PasSword&quot;) ➞ False\n",
        "# Not case sensitive.\n",
        "is_isogram(&quot;Consecutive&quot;) ➞ False\n",
        "Notes\n",
        " Ignore letter case (should not be case sensitive).\n",
        " All test cases contain valid one word strings."
      ],
      "metadata": {
        "id": "MbDPQcWLQjPO"
      }
    },
    {
      "cell_type": "code",
      "source": [
        "def is_isogram(input_string):\n",
        "    lower_input_string = input_string.lower()\n",
        "    if len(lower_input_string) == len(set(lower_input_string)):\n",
        "        print(f'{input_string} -> {True}')\n",
        "    else:\n",
        "        print(f'{input_string} -> {False}')\n",
        "\n",
        "is_isogram(\"Algorism\")\n",
        "is_isogram(\"PasSword\")\n",
        "is_isogram(\"Consecutive\")\n"
      ],
      "metadata": {
        "colab": {
          "base_uri": "https://localhost:8080/"
        },
        "id": "uIkfmlJwP6tS",
        "outputId": "4d1657da-3076-4828-dda0-15ef04b6f048"
      },
      "execution_count": 8,
      "outputs": [
        {
          "output_type": "stream",
          "name": "stdout",
          "text": [
            "Algorism -> True\n",
            "PasSword -> False\n",
            "Consecutive -> False\n"
          ]
        }
      ]
    },
    {
      "cell_type": "markdown",
      "source": [
        "Question5\n",
        "Create a function that takes a string and returns True or False, depending on whether the\n",
        "characters are in order or not.\n",
        "Examples\n",
        "is_in_order(&quot;abc&quot;) ➞ True\n",
        "is_in_order(&quot;edabit&quot;) ➞ False\n",
        "is_in_order(&quot;123&quot;) ➞ True\n",
        "is_in_order(&quot;xyzz&quot;) ➞ True\n",
        "Notes\n",
        "You don&#39;t have to handle empty strings."
      ],
      "metadata": {
        "id": "ML-WojrkQqJ1"
      }
    },
    {
      "cell_type": "code",
      "source": [
        "def is_in_order(input_string):\n",
        "    input_string_sorted = ''.join(sorted(input_string))\n",
        "    if input_string == input_string_sorted:\n",
        "       print(f'{input_string} -> {True}')\n",
        "    else:\n",
        "       print(f'{input_string} -> {False}')\n",
        "\n",
        "is_in_order(\"abc\")\n",
        "is_in_order(\"edabit\")\n",
        "is_in_order(\"123\")\n",
        "is_in_order(\"xyzz\")          "
      ],
      "metadata": {
        "colab": {
          "base_uri": "https://localhost:8080/"
        },
        "id": "L3A8ago-P6v7",
        "outputId": "f1ba44c7-42a5-4417-92ec-46c7f64df940"
      },
      "execution_count": 1,
      "outputs": [
        {
          "output_type": "stream",
          "name": "stdout",
          "text": [
            "abc -> True\n",
            "edabit -> False\n",
            "123 -> True\n",
            "xyzz -> True\n"
          ]
        }
      ]
    },
    {
      "cell_type": "code",
      "source": [],
      "metadata": {
        "id": "7JldhW4OP6y0"
      },
      "execution_count": null,
      "outputs": []
    },
    {
      "cell_type": "code",
      "source": [],
      "metadata": {
        "id": "s5pQVRj0P61Z"
      },
      "execution_count": null,
      "outputs": []
    },
    {
      "cell_type": "code",
      "source": [],
      "metadata": {
        "id": "nAeTfvtcP64n"
      },
      "execution_count": null,
      "outputs": []
    },
    {
      "cell_type": "code",
      "source": [],
      "metadata": {
        "id": "xAt2_amIP68M"
      },
      "execution_count": null,
      "outputs": []
    }
  ]
}