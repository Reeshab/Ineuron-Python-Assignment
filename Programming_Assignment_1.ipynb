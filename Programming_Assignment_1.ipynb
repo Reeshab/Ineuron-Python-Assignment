{
  "nbformat": 4,
  "nbformat_minor": 0,
  "metadata": {
    "colab": {
      "provenance": [],
      "collapsed_sections": [],
      "authorship_tag": "ABX9TyNIp1+5yBrGgrCW/7VZGFWP",
      "include_colab_link": true
    },
    "kernelspec": {
      "name": "python3",
      "display_name": "Python 3"
    },
    "language_info": {
      "name": "python"
    }
  },
  "cells": [
    {
      "cell_type": "markdown",
      "metadata": {
        "id": "view-in-github",
        "colab_type": "text"
      },
      "source": [
        "<a href=\"https://colab.research.google.com/github/Reeshab/Ineuron-Python-Assignment/blob/main/Programming_Assignment_1.ipynb\" target=\"_parent\"><img src=\"https://colab.research.google.com/assets/colab-badge.svg\" alt=\"Open In Colab\"/></a>"
      ]
    },
    {
      "cell_type": "code",
      "execution_count": 2,
      "metadata": {
        "colab": {
          "base_uri": "https://localhost:8080/"
        },
        "id": "paUi63JP2-Hl",
        "outputId": "39b79811-2b7a-47d0-9a88-8e918ecc969e"
      },
      "outputs": [
        {
          "output_type": "stream",
          "name": "stdout",
          "text": [
            "Hello Python\n"
          ]
        }
      ],
      "source": [
        "print(\"Hello Python\")"
      ]
    },
    {
      "cell_type": "markdown",
      "source": [
        "Question 1"
      ],
      "metadata": {
        "id": "jf7z8Vmk3PiU"
      }
    },
    {
      "cell_type": "code",
      "source": [
        "num1 = 15\n",
        "num2 = 12\n",
        "sum = num1 + num2\n",
        "division= num1/ num2\n",
        "print(\"Sum of {0} and {1} is {2} \". format(num1 , num2, sum))\n",
        "print(\"Divison of {0} and {1} is {2}\" . format(num1 , num2 , division))"
      ],
      "metadata": {
        "colab": {
          "base_uri": "https://localhost:8080/"
        },
        "id": "P__71iu25plD",
        "outputId": "9d9c57d0-0200-4d8a-a27f-70c2ed9df487"
      },
      "execution_count": 6,
      "outputs": [
        {
          "output_type": "stream",
          "name": "stdout",
          "text": [
            "Sum of 15 and 12 is 27 \n",
            "Divison of 15 and 12 is 1.25\n"
          ]
        }
      ]
    },
    {
      "cell_type": "markdown",
      "source": [
        "Question 2"
      ],
      "metadata": {
        "id": "N0wCERiv5m5D"
      }
    },
    {
      "cell_type": "code",
      "source": [
        "a = float(input('Enter first side:'))\n",
        "b = float(input('Enter second side:'))\n",
        "c = float(input('Enter third side:'))\n",
        "s = (a+b+c)/2\n",
        "area = (s*(s-a)*(s-b)*(s-c))** 0.5\n",
        "print('The area of the triangle is %0.2f' %area)"
      ],
      "metadata": {
        "colab": {
          "base_uri": "https://localhost:8080/"
        },
        "id": "lq3Z0Z1h7WGx",
        "outputId": "2acb3c0f-2099-4559-def4-289ef7a10178"
      },
      "execution_count": 9,
      "outputs": [
        {
          "output_type": "stream",
          "name": "stdout",
          "text": [
            "Enter first side:12.3\n",
            "Enter second side:13.4\n",
            "Enter third side:14.5\n",
            "The area of the triangle is 76.70\n"
          ]
        }
      ]
    },
    {
      "cell_type": "markdown",
      "source": [
        "Question 3"
      ],
      "metadata": {
        "id": "s7g7okKe7QSf"
      }
    },
    {
      "cell_type": "code",
      "source": [
        "x = input('Enter the value of x:')\n",
        "y = input('Enter the value of y:')\n",
        "\n",
        "temp = x\n",
        "x=y\n",
        "y=temp\n",
        "\n",
        "print('The value of x after swaping: {}'.format(x))\n",
        "print('The value of y after swaping: {}'.format(y))"
      ],
      "metadata": {
        "colab": {
          "base_uri": "https://localhost:8080/"
        },
        "id": "5FX-sEcE9J4T",
        "outputId": "2b430ec3-1b0f-4d51-b7c8-4a30a93dfbc8"
      },
      "execution_count": 10,
      "outputs": [
        {
          "output_type": "stream",
          "name": "stdout",
          "text": [
            "Enter the value of x:9\n",
            "Enter the value of y:7\n",
            "The value of x after swaping: 7\n",
            "The value of y after swaping: 9\n"
          ]
        }
      ]
    },
    {
      "cell_type": "markdown",
      "source": [
        "Question 4"
      ],
      "metadata": {
        "id": "wOaXSjbI9F9b"
      }
    },
    {
      "cell_type": "code",
      "source": [
        "import random\n",
        "\n",
        "print(random.randint(0,9))"
      ],
      "metadata": {
        "colab": {
          "base_uri": "https://localhost:8080/"
        },
        "id": "Ml9M1YAh9IEz",
        "outputId": "b7ce4efb-b032-4004-8713-1c83e21b14fd"
      },
      "execution_count": 11,
      "outputs": [
        {
          "output_type": "stream",
          "name": "stdout",
          "text": [
            "3\n"
          ]
        }
      ]
    },
    {
      "cell_type": "markdown",
      "source": [
        "Question 5"
      ],
      "metadata": {
        "id": "grP7c7DW9-Tm"
      }
    },
    {
      "cell_type": "code",
      "source": [],
      "metadata": {
        "id": "0z32vMRd3F0U"
      },
      "execution_count": null,
      "outputs": []
    },
    {
      "cell_type": "code",
      "source": [],
      "metadata": {
        "id": "C7WyP4Aq3F3T"
      },
      "execution_count": null,
      "outputs": []
    },
    {
      "cell_type": "code",
      "source": [],
      "metadata": {
        "id": "lAawtQLf3F6K"
      },
      "execution_count": null,
      "outputs": []
    },
    {
      "cell_type": "code",
      "source": [],
      "metadata": {
        "id": "41WksfQ33F87"
      },
      "execution_count": null,
      "outputs": []
    },
    {
      "cell_type": "code",
      "source": [],
      "metadata": {
        "id": "a7lYi5KA3F_i"
      },
      "execution_count": null,
      "outputs": []
    },
    {
      "cell_type": "code",
      "source": [],
      "metadata": {
        "id": "_YMcq-cy3GCb"
      },
      "execution_count": null,
      "outputs": []
    },
    {
      "cell_type": "code",
      "source": [],
      "metadata": {
        "id": "0VkiGC6M3GFN"
      },
      "execution_count": null,
      "outputs": []
    }
  ]
}