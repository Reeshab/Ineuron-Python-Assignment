{
  "nbformat": 4,
  "nbformat_minor": 0,
  "metadata": {
    "colab": {
      "provenance": [],
      "collapsed_sections": [],
      "authorship_tag": "ABX9TyOw2nvlioPJpwDjtwCtY0cb",
      "include_colab_link": true
    },
    "kernelspec": {
      "name": "python3",
      "display_name": "Python 3"
    },
    "language_info": {
      "name": "python"
    }
  },
  "cells": [
    {
      "cell_type": "markdown",
      "metadata": {
        "id": "view-in-github",
        "colab_type": "text"
      },
      "source": [
        "<a href=\"https://colab.research.google.com/github/Reeshab/Ineuron-Python-Assignment/blob/main/Programming_Assignment9.ipynb\" target=\"_parent\"><img src=\"https://colab.research.google.com/assets/colab-badge.svg\" alt=\"Open In Colab\"/></a>"
      ]
    },
    {
      "cell_type": "markdown",
      "source": [
        "1. Write a Python program to check if the given number is a Disarium Number?"
      ],
      "metadata": {
        "id": "JlOGfJvriiKP"
      }
    },
    {
      "cell_type": "code",
      "source": [
        "\n",
        "a= int(input(\"enter the number:\"))\n",
        "b =str(a)\n",
        "#print(b,type(b))\n",
        "s=0\n",
        "\n",
        "for i in range(len(b)):\n",
        "    #print(i)\n",
        "    #print(\"B=\",b[i])\n",
        "    s=s+int(b[i])**(i+1)\n",
        "#print(s)\n",
        "if(a == s):\n",
        "    print(f\"given number {a} is a Disarium Number\")\n",
        "else:\n",
        "     print(f\"given number{a} not a Disarium Number\")\n",
        "    "
      ],
      "metadata": {
        "colab": {
          "base_uri": "https://localhost:8080/"
        },
        "id": "5eRhtABriht0",
        "outputId": "19d1c62d-8142-4e0c-83c4-81560dea17c5"
      },
      "execution_count": 2,
      "outputs": [
        {
          "output_type": "stream",
          "name": "stdout",
          "text": [
            "enter the number:89\n",
            "given number 89 is a Disarium Number\n"
          ]
        }
      ]
    },
    {
      "cell_type": "markdown",
      "source": [
        "2. Write a Python program to print all disarium numbers between 1 to 100?"
      ],
      "metadata": {
        "id": "CdsBBPj1k1ZS"
      }
    },
    {
      "cell_type": "code",
      "source": [
        "a= int(input(\"enter the number:\"))\n",
        "s=0\n",
        "j=1\n",
        "print(\"all disarium numbers between 1 to 100 are :\")\n",
        "while(j<=a):\n",
        "    b =str(j)\n",
        "    #print(\"b\",b)\n",
        "    for i in range(len(b)):\n",
        "        #print(\"i\",i)\n",
        "        #print(f\"B[{i}]=\",b[i])\n",
        "        s=s+int(b[i])**(i+1)\n",
        "    if(j == s):\n",
        "        print(j,end=\" \")\n",
        "    \n",
        "    s=0\n",
        "    j=j+1\n",
        "   "
      ],
      "metadata": {
        "colab": {
          "base_uri": "https://localhost:8080/"
        },
        "id": "SDpraiBjihnz",
        "outputId": "9e2b09b0-b3a8-43f4-e190-57079b554cfb"
      },
      "execution_count": 3,
      "outputs": [
        {
          "output_type": "stream",
          "name": "stdout",
          "text": [
            "enter the number:100\n",
            "all disarium numbers between 1 to 100 are :\n",
            "1 2 3 4 5 6 7 8 9 89 "
          ]
        }
      ]
    },
    {
      "cell_type": "markdown",
      "source": [
        "3. Write a Python program to check if the given number is Happy Number?"
      ],
      "metadata": {
        "id": "is--Tsr5zXbd"
      }
    },
    {
      "cell_type": "code",
      "source": [
        "\"\"\"\n",
        "If the number is greater than 0, then add the squares of the digits of that number. You will get another number as a result. Do the same until you get 1 as a result. Remember, if the result is 1 or 4, then stop the iteration. Finally, if you get 1 as a result, then it is called a happy number. To understand what is a happy number, let’s take an example.\n",
        "\n",
        "Suppose we take the number 28 as input\n",
        "\n",
        "2^2 + 8^2 = 4 + 64 = 68\n",
        "6^2 + 8^2 = 36 + 64 = 100\n",
        "1^2 + 0^2 + 0^2 = 1 + 0 + 0 = 1\n",
        "\"\"\"\n",
        "a= int(input(\"enter the number:\"))\n",
        "a1=a\n",
        "b =str(a)\n",
        "\n",
        "#print(b,type(b))\n",
        "s=0\n",
        "while(a1 >0):\n",
        "    for i in range(len(b)):\n",
        "        #print(i)\n",
        "        #print(f\"B[{i}]=\",b[i])\n",
        "        s=s+int(b[i])**(2) \n",
        "    #print(s)\n",
        "    b=str(s)\n",
        "    a1=s \n",
        "    if(s==1 or s==4):\n",
        "        break\n",
        "    s=0\n",
        "if(s==1 ):\n",
        "    print(f\"given number {a} is a Happy Number\")\n",
        "else:\n",
        "    print(f\"given number {a} not Happy Number\")       \n",
        "#print(s)"
      ],
      "metadata": {
        "colab": {
          "base_uri": "https://localhost:8080/"
        },
        "id": "wNrJplpYihk0",
        "outputId": "133373df-e9fb-4728-fa6e-8e3b4dddbb59"
      },
      "execution_count": 1,
      "outputs": [
        {
          "output_type": "stream",
          "name": "stdout",
          "text": [
            "enter the number:28\n",
            "given number 28 is a Happy Number\n"
          ]
        }
      ]
    },
    {
      "cell_type": "markdown",
      "source": [
        "4. Write a Python program to print all happy numbers between 1 and 100?"
      ],
      "metadata": {
        "id": "Gn-wR48aCRpe"
      }
    },
    {
      "cell_type": "code",
      "source": [
        "a= int(input(\"enter the range for to print all happy number with in :\"))\n",
        "print(\"all happy numbers between 1 to 100 are :\")\n",
        "for j in range(1,a):\n",
        "    a1=j\n",
        "    b =str(j)\n",
        "\n",
        "    #print(b,type(b))\n",
        "    s=0\n",
        "    while(a1 >0):\n",
        "        for i in range(len(b)):\n",
        "            #print(i)\n",
        "            #print(f\"B[{i}]=\",b[i])\n",
        "            s=s+int(b[i])**(2) \n",
        "        #print(s)\n",
        "        b=str(s)\n",
        "        a1=s \n",
        "        if(s==1 or s==4):\n",
        "            break\n",
        "        s=0\n",
        "    if(s==1 ):\n",
        "        print(j,end =\" \")\n",
        "          \n",
        "    #print(s)"
      ],
      "metadata": {
        "colab": {
          "base_uri": "https://localhost:8080/"
        },
        "id": "KUmdzyy_ihiJ",
        "outputId": "7d9e1d73-4d1f-44eb-f4da-a3eb75b02f96"
      },
      "execution_count": 2,
      "outputs": [
        {
          "output_type": "stream",
          "name": "stdout",
          "text": [
            "enter the range for to print all happy number with in :100\n",
            "all happy numbers between 1 to 100 are :\n",
            "1 7 10 13 19 23 28 31 32 44 49 68 70 79 82 86 91 94 97 "
          ]
        }
      ]
    },
    {
      "cell_type": "markdown",
      "source": [
        "5. Write a Python program to determine whether the given number is a Harshad Number?"
      ],
      "metadata": {
        "id": "Uvr4_NHwD22Z"
      }
    },
    {
      "cell_type": "code",
      "source": [
        "# Harshad Number means taken number divide by it sum of all digits get remainder is zero \n",
        "a=int(input(\"enter the number\"))\n",
        "b= str(a)\n",
        "s=0\n",
        "for i in b:\n",
        "    s=s+int(i)\n",
        "if(a % s == 0):\n",
        "    print(f\"Given number {a} is Harshad number\")\n",
        "else:\n",
        "    print(f\"Given number {a} not a Harshad number\")"
      ],
      "metadata": {
        "colab": {
          "base_uri": "https://localhost:8080/"
        },
        "id": "l4a9UQauihdX",
        "outputId": "a5a9a4f0-5f3e-4f9c-d3c9-97dcab25c8f0"
      },
      "execution_count": 3,
      "outputs": [
        {
          "output_type": "stream",
          "name": "stdout",
          "text": [
            "enter the number34\n",
            "Given number 34 not a Harshad number\n"
          ]
        }
      ]
    },
    {
      "cell_type": "markdown",
      "source": [
        "6. Write a Python program to print all pronic numbers between 1 and 100?"
      ],
      "metadata": {
        "id": "VStluvSBKVbQ"
      }
    },
    {
      "cell_type": "code",
      "source": [
        "\"\"\"\n",
        "The pronic number is a product of two consecutive integers of the form: n(n+1). Some pronic numbers are: 0, 2, 6, 12, 20, 30, 42, 56 etc.\n",
        "\"\"\"\n",
        "a=int(input(\"enter the Starting number  :\"))\n",
        "b=int(input(\"enter the maximum  number :\"))\n",
        "print(f\"pronic numbers between {a} to {b} are :\")\n",
        "for i in range(a,b):\n",
        "    print(i*(i+1),end=\" \")"
      ],
      "metadata": {
        "colab": {
          "base_uri": "https://localhost:8080/"
        },
        "id": "R7nc_8vBihZ_",
        "outputId": "e1a6ce06-d10f-434a-c779-001661cdf380"
      },
      "execution_count": 5,
      "outputs": [
        {
          "output_type": "stream",
          "name": "stdout",
          "text": [
            "enter the Starting number  :1\n",
            "enter the maximum  number :100\n",
            "pronic numbers between 1 to 100 are :\n",
            "2 6 12 20 30 42 56 72 90 110 132 156 182 210 240 272 306 342 380 420 462 506 552 600 650 702 756 812 870 930 992 1056 1122 1190 1260 1332 1406 1482 1560 1640 1722 1806 1892 1980 2070 2162 2256 2352 2450 2550 2652 2756 2862 2970 3080 3192 3306 3422 3540 3660 3782 3906 4032 4160 4290 4422 4556 4692 4830 4970 5112 5256 5402 5550 5700 5852 6006 6162 6320 6480 6642 6806 6972 7140 7310 7482 7656 7832 8010 8190 8372 8556 8742 8930 9120 9312 9506 9702 9900 "
          ]
        }
      ]
    },
    {
      "cell_type": "code",
      "source": [],
      "metadata": {
        "id": "MpueVSmEihXc"
      },
      "execution_count": null,
      "outputs": []
    },
    {
      "cell_type": "code",
      "source": [],
      "metadata": {
        "id": "BvrTe8UAihUf"
      },
      "execution_count": null,
      "outputs": []
    },
    {
      "cell_type": "code",
      "source": [],
      "metadata": {
        "id": "GjfqbtbYihRv"
      },
      "execution_count": null,
      "outputs": []
    },
    {
      "cell_type": "code",
      "source": [],
      "metadata": {
        "id": "z6lkY8NkihK4"
      },
      "execution_count": null,
      "outputs": []
    },
    {
      "cell_type": "code",
      "execution_count": null,
      "metadata": {
        "id": "3y6_pg6HiYmd"
      },
      "outputs": [],
      "source": []
    }
  ]
}