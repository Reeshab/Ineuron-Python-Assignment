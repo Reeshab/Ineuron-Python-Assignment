{
  "nbformat": 4,
  "nbformat_minor": 0,
  "metadata": {
    "colab": {
      "provenance": [],
      "collapsed_sections": [],
      "authorship_tag": "ABX9TyMH6Z+O4Jzkr0lfghpE89pu",
      "include_colab_link": true
    },
    "kernelspec": {
      "name": "python3",
      "display_name": "Python 3"
    },
    "language_info": {
      "name": "python"
    }
  },
  "cells": [
    {
      "cell_type": "markdown",
      "metadata": {
        "id": "view-in-github",
        "colab_type": "text"
      },
      "source": [
        "<a href=\"https://colab.research.google.com/github/Reeshab/Ineuron-Python-Assignment/blob/main/Assignment_14.ipynb\" target=\"_parent\"><img src=\"https://colab.research.google.com/assets/colab-badge.svg\" alt=\"Open In Colab\"/></a>"
      ]
    },
    {
      "cell_type": "markdown",
      "source": [
        "1. What does RGBA stand for?"
      ],
      "metadata": {
        "id": "stVs9IQGsFg8"
      }
    },
    {
      "cell_type": "markdown",
      "source": [
        "RGBA is a four-channel format containing data for Red, Green , Blue and an alpha value. Where Alpha Represents the Opacity."
      ],
      "metadata": {
        "id": "t4GUhrnnxPdM"
      }
    },
    {
      "cell_type": "markdown",
      "source": [
        "2. From the Pillow module, how do you get the RGBA value of any images?"
      ],
      "metadata": {
        "id": "kibIGIjksKDn"
      }
    },
    {
      "cell_type": "markdown",
      "source": [
        "ImageColor.getcolor() gives rgba value of the imgae."
      ],
      "metadata": {
        "id": "pQ0F91t1xiVM"
      }
    },
    {
      "cell_type": "markdown",
      "source": [
        "3. What is a box tuple, and how does it work?"
      ],
      "metadata": {
        "id": "FRYXwCgHsM3U"
      }
    },
    {
      "cell_type": "markdown",
      "source": [
        "A box tuple is a tuple value of four integers: the left-edge x-cordinate, the top edge y-cordinate , the width & the height respectively."
      ],
      "metadata": {
        "id": "UHrwVpJoxsVd"
      }
    },
    {
      "cell_type": "markdown",
      "source": [
        "4. Use your image and load in notebook then, How can you find out the width and height of an\n",
        "Image object?"
      ],
      "metadata": {
        "id": "3S0edoexsQWj"
      }
    },
    {
      "cell_type": "code",
      "source": [
        "from PIL import image\n",
        "pic = Image.open('Pic.jpg')\n",
        "print(f'Width, Height -> {pic.size}')\n",
        "print(f'Width, Height -> {pic.width},{pic.height}')\n",
        "width,height = pic.size\n",
        "print(f'Width, Height -> {width},{height}')"
      ],
      "metadata": {
        "id": "pwNyT5DHkouq"
      },
      "execution_count": null,
      "outputs": []
    },
    {
      "cell_type": "markdown",
      "source": [
        "5. What method would you call to get Image object for a 100×100 image, excluding the lower-left\n",
        "quarter of it?"
      ],
      "metadata": {
        "id": "1SuZaPGNsS7M"
      }
    },
    {
      "cell_type": "code",
      "source": [
        "from PIL import image\n",
        "img = Image.open('Pic.jpg')\n",
        "new_img = img.crop((0,50,50,50))"
      ],
      "metadata": {
        "id": "zRzz3TL1kox-"
      },
      "execution_count": null,
      "outputs": []
    },
    {
      "cell_type": "markdown",
      "source": [
        "6. After making changes to an Image object, how could you save it as an image file?"
      ],
      "metadata": {
        "id": "HJqvBKc4sW0t"
      }
    },
    {
      "cell_type": "code",
      "source": [
        "from PIL import Image\n",
        "pic = Image.open('pic.jpg')\n",
        "pic.save('pic2.jpg')"
      ],
      "metadata": {
        "id": "1yANAPaEko1f"
      },
      "execution_count": null,
      "outputs": []
    },
    {
      "cell_type": "markdown",
      "source": [
        "7. What module contains Pillow’s shape-drawing code?"
      ],
      "metadata": {
        "id": "iqiF3glSsZxU"
      }
    },
    {
      "cell_type": "markdown",
      "source": [
        "Ans: Pillows ImageDraw module contains Shape drawing methods"
      ],
      "metadata": {
        "id": "GTKqvvh2_a_V"
      }
    },
    {
      "cell_type": "markdown",
      "source": [
        "8. Image objects do not have drawing methods. What kind of object does? How do you get this kind\n",
        "of object?"
      ],
      "metadata": {
        "id": "iKHHMwCuscqk"
      }
    },
    {
      "cell_type": "markdown",
      "source": [
        "Ans: ImageDraw objects have shape-drawing methods such as point(), line(), or rectangle().They are returned by passing the Image object to the ImageDraw.Draw() function."
      ],
      "metadata": {
        "id": "VsJuOijIClTO"
      }
    },
    {
      "cell_type": "code",
      "source": [],
      "metadata": {
        "id": "_JuF7edDkpGr"
      },
      "execution_count": null,
      "outputs": []
    },
    {
      "cell_type": "code",
      "source": [],
      "metadata": {
        "id": "9H-_JRjskpNG"
      },
      "execution_count": null,
      "outputs": []
    },
    {
      "cell_type": "code",
      "source": [],
      "metadata": {
        "id": "S74UdjpskpQp"
      },
      "execution_count": null,
      "outputs": []
    },
    {
      "cell_type": "code",
      "source": [],
      "metadata": {
        "id": "7QnwzNGykpZH"
      },
      "execution_count": null,
      "outputs": []
    }
  ]
}