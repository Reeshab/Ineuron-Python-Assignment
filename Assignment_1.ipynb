{
  "nbformat": 4,
  "nbformat_minor": 0,
  "metadata": {
    "colab": {
      "provenance": [],
      "collapsed_sections": [],
      "authorship_tag": "ABX9TyPF2fr6mNMcTO3+4ceoNJ2u",
      "include_colab_link": true
    },
    "kernelspec": {
      "name": "python3",
      "display_name": "Python 3"
    },
    "language_info": {
      "name": "python"
    }
  },
  "cells": [
    {
      "cell_type": "markdown",
      "metadata": {
        "id": "view-in-github",
        "colab_type": "text"
      },
      "source": [
        "<a href=\"https://colab.research.google.com/github/Reeshab/Ineuron-Python-Assignment/blob/main/Assignment_1.ipynb\" target=\"_parent\"><img src=\"https://colab.research.google.com/assets/colab-badge.svg\" alt=\"Open In Colab\"/></a>"
      ]
    },
    {
      "cell_type": "markdown",
      "source": [
        "Question 1: 1. In the below elements which of them are values or an expression? eg:- values can be\n",
        "integer or string and expressions will be mathematical operators.\n",
        "*\n",
        "&#39;hello&#39;\n",
        "-87.8\n",
        "-\n",
        "/\n",
        "+\n",
        "6"
      ],
      "metadata": {
        "id": "XOOY7rSafIzJ"
      }
    },
    {
      "cell_type": "markdown",
      "source": [
        "1. In programming language , values are characters or values which assign to variable name i.e consider 'A is variable which store value 10 'which means in programming represents A =10. 2. In programming language, an expression is a combination operators and operand and operand which perform operations and produce some other values for example a=10, b =10, c=a+b here a,b are operand which have values to perform arithmatic operation by using '+' is operator and producer 20 as result.\n",
        "3. In given elements \"hello\", -87.9 and 6 are values similarility*,-,/,+ are operators . we can form expression as -87.9 + 6 , 6-(-87.9) etc."
      ],
      "metadata": {
        "id": "j9DU5o1Mgm37"
      }
    },
    {
      "cell_type": "markdown",
      "source": [
        "Question 2: What is the difference between string and variable?"
      ],
      "metadata": {
        "id": "j6Icn-BXitF3"
      }
    },
    {
      "cell_type": "markdown",
      "source": [
        "In python programming string is a collection of character, words number and symbols with in single , double and triple quote. Where as variable is a container which store the value and have different of variable such integer variable, string variable , floatin point and long integer variable for example."
      ],
      "metadata": {
        "id": "YpkM04EVjAuH"
      }
    },
    {
      "cell_type": "code",
      "source": [
        "# a is variable name which store multiple line text\n",
        "a = \"\"\"hello hi\n",
        "    how\n",
        "    are you\"\"\"\n",
        "# b is variable name which stores int value 10\n",
        "b = 10\n",
        "# c is variable name which stores string value\n",
        "c = \"10a!@$$\"\n",
        "# d is variable name which stores floating variable\n",
        "d = 10.00\n",
        "# e is variable name which stores string character value\n",
        "e = 'a'\n",
        "print(a)\n",
        "print(b)\n",
        "print(c)\n",
        "print(d)\n",
        "print(e)    "
      ],
      "metadata": {
        "colab": {
          "base_uri": "https://localhost:8080/"
        },
        "id": "730L9CFAjtTa",
        "outputId": "67781ee3-8e33-4716-a15d-d95f05712aee"
      },
      "execution_count": 2,
      "outputs": [
        {
          "output_type": "stream",
          "name": "stdout",
          "text": [
            "hello hi\n",
            "    how\n",
            "    are you\n",
            "10\n",
            "10a!@$$\n",
            "10.0\n",
            "a\n"
          ]
        }
      ]
    },
    {
      "cell_type": "markdown",
      "source": [],
      "metadata": {
        "id": "XBxJAHIQi-rT"
      }
    },
    {
      "cell_type": "markdown",
      "source": [
        "Question 3 : Describe three different data types.\n",
        "\n",
        "In python we have different data types which describe the characterstics of variable and we have different datatypes in python such as Numeric Types:Complex, float, int\n",
        "Text Type : str . Boolean Type : bool. Sequence Types: range,tuple,list\n",
        "Set Types : frozenset\n",
        "set: Mapping Type : dict. Bianary Types:memoryview, bytearray,bytes"
      ],
      "metadata": {
        "id": "beya5MRZlEhF"
      }
    },
    {
      "cell_type": "code",
      "source": [
        "#1. Number data types which stores data in three types such as integer, float and complex.\n",
        "# examples for numbers data type\n",
        "a = 10 # a is variable name which store integer type value\n",
        "print(a,\" is a type of\", type(a))\n",
        "\n",
        "b= 10.00 #b is variable name which store float type value\n",
        "print(b,\"is a type of\",type(b))\n",
        "\n",
        "c=5+3J# c is variable name which store complex type value\n",
        "print(c,\"is a type of\",type(c))"
      ],
      "metadata": {
        "colab": {
          "base_uri": "https://localhost:8080/"
        },
        "id": "aeWJgh08gV_g",
        "outputId": "9bbbf3ec-6105-4b14-8eb9-0fb342614b40"
      },
      "execution_count": 3,
      "outputs": [
        {
          "output_type": "stream",
          "name": "stdout",
          "text": [
            "10  is a type of <class 'int'>\n",
            "10.0 is a type of <class 'float'>\n",
            "(5+3j) is a type of <class 'complex'>\n"
          ]
        }
      ]
    },
    {
      "cell_type": "code",
      "source": [
        "#2. string is an sequence of characterstics with single, double and triple quotes.\n",
        "#a is variable name which store multiple line next\n",
        "a=\"\"\"hello hi\n",
        "how\n",
        "are you\"\"\"\n",
        "# b is variable name which stores single charcter\n",
        "b=\"A\"\n",
        "# c is variable name which string value\n",
        "c=\"Hello\"\n",
        "#d is variable name which stores numbers and symbol with in quotes\n",
        "d=\"123456!@#$%^\"\n",
        "print(a,\"is value of a and its type is \")\n",
        "print(type(a))\n",
        "print(b,\"is value of b and its type is \",type(b))\n",
        "print(c,\"is value of b and its type is \",type(c))\n",
        "print(d,\"is value of b and its type is \",type(d))"
      ],
      "metadata": {
        "colab": {
          "base_uri": "https://localhost:8080/"
        },
        "id": "Y0Q6ish7gV7_",
        "outputId": "695b8081-7583-475f-8388-781e8f853d9b"
      },
      "execution_count": 4,
      "outputs": [
        {
          "output_type": "stream",
          "name": "stdout",
          "text": [
            "hello hi\n",
            "how\n",
            "are you is value of a and its type is \n",
            "<class 'str'>\n",
            "A is value of b and its type is  <class 'str'>\n",
            "Hello is value of b and its type is  <class 'str'>\n",
            "123456!@#$%^ is value of b and its type is  <class 'str'>\n"
          ]
        }
      ]
    },
    {
      "cell_type": "code",
      "source": [
        "\"\"\"bolean data type have two values which is true or false.\n",
        "it use evaluation of any expression to get either true or false.\"\"\"\n",
        "a = True\n",
        "print(type(a))\n",
        "b= True\n",
        "print(type(b))\n",
        "\n",
        "print(10 > 7)\n",
        "print(7 > 10)"
      ],
      "metadata": {
        "colab": {
          "base_uri": "https://localhost:8080/"
        },
        "id": "dWfIlynZgV5C",
        "outputId": "507c70d9-46b7-4c9c-aba5-8055ceaa4821"
      },
      "execution_count": 5,
      "outputs": [
        {
          "output_type": "stream",
          "name": "stdout",
          "text": [
            "<class 'bool'>\n",
            "<class 'bool'>\n",
            "True\n",
            "False\n"
          ]
        }
      ]
    },
    {
      "cell_type": "markdown",
      "source": [
        "Question 4: What is an expression made up of? What do all expressions do?"
      ],
      "metadata": {
        "id": "lNBeH0W1p9zb"
      }
    },
    {
      "cell_type": "markdown",
      "source": [
        "1. An expression is a combination of values and operators. All expressions evaluate(that is , reduce) to single value. 2. Expression can do different expression can do operations such as arithematic expressions,boolean expression,conditional expression,bitwise expression, logical expression."
      ],
      "metadata": {
        "id": "GlIN7hQbqHPy"
      }
    },
    {
      "cell_type": "code",
      "source": [
        ", b2a_hex\n",
        "from binascii import b2a_base64\n",
        "#Arithematics expression which perform arithematic operations\n",
        "print(\"******Arithematic expression******\")\n",
        "a = 10\n",
        "b = 10\n",
        "c = a+b\n",
        "d = a-b\n",
        "e = a*b\n",
        "f = a/b\n",
        "g = a%b\n",
        "print(\"addition of a and b values is \",c)\n",
        "print('subscription of a and b values is \",d')\n",
        "print(\"multiplication of a and b values is \", e)\n",
        "print(\"divison of a and b values is \",f)\n",
        "print(\"modulo divison of a and b values is \", g)\n",
        "\n",
        "#boolean expression which perform boolean operations\n",
        "print(\"******Boolean expression******\")\n",
        "a = 10\n",
        "b = 10\n",
        "print(a>b)\n",
        "print(b>a)\n",
        "print(a==b)\n",
        "\n",
        "#conditional expression which perform conditional operation (<,>,!=,==)\n",
        "print(\"******Conditional expression******\")\n",
        "a = 10\n",
        "b = 10\n",
        "if(a==b):\n",
        "  print(\"a is equal to b\")\n",
        "elif(a >b):\n",
        "  print(\"a is greater than b\")\n",
        "elif(a<b):\n",
        "  print(\"a is lesser than b\")\n",
        "else :\n",
        "  print(\"a is not equal to b\")\n",
        "\n",
        "#Logical expression gives results based on one or more than conditions using Logical operators (and or not)\n",
        "print(\"******logical expression******\")\n",
        "a=(10 ==9)\n",
        "b=(20 > 10)\n",
        "c = a and b # if conditions are true then it return true if not return false.\n",
        "d = a or b # either of one conditions must true\n",
        "e = not(a) # not conditions return false when condition is true or else it return true when condition is flase i.e not(true) == false\n",
        "print(c,d,e)"
      ],
      "metadata": {
        "colab": {
          "base_uri": "https://localhost:8080/"
        },
        "id": "K3AqdpXvqufr",
        "outputId": "4bdcfffc-47d3-4635-edff-087e3af35685"
      },
      "execution_count": 6,
      "outputs": [
        {
          "output_type": "stream",
          "name": "stdout",
          "text": [
            "******Arithematic expression******\n",
            "addition of a and b values is  20\n",
            "subscription of a and b values is \",d\n",
            "multiplication of a and b values is  100\n",
            "divison of a and b values is  1.0\n",
            "modulo divison of a and b values is  0\n",
            "******Boolean expression******\n",
            "False\n",
            "False\n",
            "True\n",
            "******Conditional expression******\n",
            "a is equal to b\n",
            "******logical expression******\n",
            "False True True\n"
          ]
        }
      ]
    },
    {
      "cell_type": "code",
      "source": [
        "a = 10\n",
        "b = 20\n",
        "print(a and b > 15)"
      ],
      "metadata": {
        "colab": {
          "base_uri": "https://localhost:8080/"
        },
        "id": "u1FmOjTMpJZk",
        "outputId": "472a81af-e4b0-45b3-b213-62657b670513"
      },
      "execution_count": 7,
      "outputs": [
        {
          "output_type": "stream",
          "name": "stdout",
          "text": [
            "True\n"
          ]
        }
      ]
    },
    {
      "cell_type": "markdown",
      "source": [
        "Question 5 : This assignment statements, like spam = 10. What is the difference between an\n",
        "expression and a statement?"
      ],
      "metadata": {
        "id": "EvCmpHp_v24p"
      }
    },
    {
      "cell_type": "markdown",
      "source": [
        "In programming an \"Expression\" always evaluate the value and \"Statement\" is used to store the values in variable in variable,create the variable and display the variable.For example a = 10 is statement and a = 10 + 5 is an expression."
      ],
      "metadata": {
        "id": "s6ZoUc3twGN6"
      }
    },
    {
      "cell_type": "markdown",
      "source": [
        "Question 6 :After running the following code, what does the variable bacon contain?"
      ],
      "metadata": {
        "id": "EDbOdEgNwq99"
      }
    },
    {
      "cell_type": "code",
      "source": [
        "bacon = 22\n",
        "bacon + 1"
      ],
      "metadata": {
        "colab": {
          "base_uri": "https://localhost:8080/"
        },
        "id": "QW7lreaOpJcb",
        "outputId": "d28d9488-d850-427c-bff6-8578ce2f922f"
      },
      "execution_count": 8,
      "outputs": [
        {
          "output_type": "execute_result",
          "data": {
            "text/plain": [
              "23"
            ]
          },
          "metadata": {},
          "execution_count": 8
        }
      ]
    },
    {
      "cell_type": "markdown",
      "source": [
        "In the above statement executes bacon contains 23 because . The bacon variable is set to 23. The bacon + 1 expression doesnot reassiggn the value in bacon it behaves as assignment statement: bacon =  bacon +1. So it's increment + 1 and store 23 in bacon."
      ],
      "metadata": {
        "id": "dneZjNpiw3X8"
      }
    },
    {
      "cell_type": "markdown",
      "source": [
        "Question 7 : What should the values of the following two terms be?"
      ],
      "metadata": {
        "id": "wVVpgWKCxXF0"
      }
    },
    {
      "cell_type": "code",
      "source": [
        "'spam'+'spam'+'spam'"
      ],
      "metadata": {
        "colab": {
          "base_uri": "https://localhost:8080/",
          "height": 35
        },
        "id": "U4WyHJWZpJfc",
        "outputId": "f9660c3e-7725-49eb-a118-8891b3b0c264"
      },
      "execution_count": 9,
      "outputs": [
        {
          "output_type": "execute_result",
          "data": {
            "text/plain": [
              "'spamspamspam'"
            ],
            "application/vnd.google.colaboratory.intrinsic+json": {
              "type": "string"
            }
          },
          "metadata": {},
          "execution_count": 9
        }
      ]
    },
    {
      "cell_type": "code",
      "source": [
        "'spam'*3"
      ],
      "metadata": {
        "colab": {
          "base_uri": "https://localhost:8080/",
          "height": 35
        },
        "id": "x-rQXf56pJh4",
        "outputId": "9d7833cb-2a67-49e1-8f4e-667f70bc69af"
      },
      "execution_count": 10,
      "outputs": [
        {
          "output_type": "execute_result",
          "data": {
            "text/plain": [
              "'spamspamspam'"
            ],
            "application/vnd.google.colaboratory.intrinsic+json": {
              "type": "string"
            }
          },
          "metadata": {},
          "execution_count": 10
        }
      ]
    },
    {
      "cell_type": "markdown",
      "source": [
        "Above have same output"
      ],
      "metadata": {
        "id": "g4Q8b9LhxyML"
      }
    },
    {
      "cell_type": "markdown",
      "source": [
        "Question 8 : Why is eggs a valid variable name while 100 is invalid?"
      ],
      "metadata": {
        "id": "3ennccC0x60b"
      }
    },
    {
      "cell_type": "markdown",
      "source": [
        "Egg is a valid variable name variable name start with a letter or the under scorer character. 2 . A variable can not start with a number. 3 . Variable name only contain alpha numeric characters and underscorers (A-z,0-9, and _)\n",
        "4. Variable names are case sensitive (age, Age and AGE are three different variables) Due to this egg is valid & 100 is not valid variable name."
      ],
      "metadata": {
        "id": "DifYibP-x-wy"
      }
    },
    {
      "cell_type": "markdown",
      "source": [
        "Question 9 : What three functions can be used to get the integer, floating-point number, or string\n",
        "version of a value?"
      ],
      "metadata": {
        "id": "3nmKWD3My3dV"
      }
    },
    {
      "cell_type": "markdown",
      "source": [
        "The int(),float() and str() functions will evaluate to the integer, floating-point number and string versions of value passed to them."
      ],
      "metadata": {
        "id": "2sqjqGz8y-Sk"
      }
    },
    {
      "cell_type": "markdown",
      "source": [
        "Question 10 : Why does this expression cause an error? How can you fix it?"
      ],
      "metadata": {
        "id": "fQn_F7Adzyge"
      }
    },
    {
      "cell_type": "markdown",
      "source": [
        "The expression causes an error because 99 is an integer and only strings can be concatenated to other strings with the + operator. The correct way is 'I have eaten' + str(99) + 'burritos' or 'I have eaten' + '99' + 'burritos'"
      ],
      "metadata": {
        "id": "3T19OQzGz-7D"
      }
    },
    {
      "cell_type": "code",
      "source": [
        "'I have eaten' +  str(99)  +  'burritos'"
      ],
      "metadata": {
        "colab": {
          "base_uri": "https://localhost:8080/",
          "height": 35
        },
        "id": "wTXqrvS6pJlk",
        "outputId": "9aee41d8-72ce-4248-ea2c-f25606b42a17"
      },
      "execution_count": 13,
      "outputs": [
        {
          "output_type": "execute_result",
          "data": {
            "text/plain": [
              "'I have eaten99burritos'"
            ],
            "application/vnd.google.colaboratory.intrinsic+json": {
              "type": "string"
            }
          },
          "metadata": {},
          "execution_count": 13
        }
      ]
    },
    {
      "cell_type": "code",
      "source": [
        "'I have eaten' +  '99'  +  'burritos'"
      ],
      "metadata": {
        "colab": {
          "base_uri": "https://localhost:8080/",
          "height": 35
        },
        "id": "Ai1ZP-sbgV2V",
        "outputId": "7ca4f46f-b8ab-4629-d621-f3171920e3d0"
      },
      "execution_count": 14,
      "outputs": [
        {
          "output_type": "execute_result",
          "data": {
            "text/plain": [
              "'I have eaten99burritos'"
            ],
            "application/vnd.google.colaboratory.intrinsic+json": {
              "type": "string"
            }
          },
          "metadata": {},
          "execution_count": 14
        }
      ]
    },
    {
      "cell_type": "code",
      "execution_count": null,
      "metadata": {
        "id": "w7OoT4HVfCsF"
      },
      "outputs": [],
      "source": []
    }
  ]
}