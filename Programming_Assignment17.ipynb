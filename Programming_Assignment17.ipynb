{
  "nbformat": 4,
  "nbformat_minor": 0,
  "metadata": {
    "colab": {
      "provenance": [],
      "collapsed_sections": [],
      "authorship_tag": "ABX9TyOVdubsjh7HBMMvyhUdqjmY",
      "include_colab_link": true
    },
    "kernelspec": {
      "name": "python3",
      "display_name": "Python 3"
    },
    "language_info": {
      "name": "python"
    }
  },
  "cells": [
    {
      "cell_type": "markdown",
      "metadata": {
        "id": "view-in-github",
        "colab_type": "text"
      },
      "source": [
        "<a href=\"https://colab.research.google.com/github/Reeshab/Ineuron-Python-Assignment/blob/main/Programming_Assignment17.ipynb\" target=\"_parent\"><img src=\"https://colab.research.google.com/assets/colab-badge.svg\" alt=\"Open In Colab\"/></a>"
      ]
    },
    {
      "cell_type": "markdown",
      "source": [
        "Question1. Create a function that takes three arguments a, b, c and returns the sum of the\n",
        "numbers that are evenly divided by c from the range a, b inclusive.\n",
        "Examples\n",
        "evenly_divisible(1, 10, 20) ➞ 0\n",
        "# No number between 1 and 10 can be evenly divided by 20.\n",
        "evenly_divisible(1, 10, 2) ➞ 30\n",
        "# 2 + 4 + 6 + 8 + 10 = 30\n",
        "evenly_divisible(1, 10, 3) ➞ 18\n",
        "# 3 + 6 + 9 = 18"
      ],
      "metadata": {
        "id": "jB0YGk7n1fu6"
      }
    },
    {
      "cell_type": "code",
      "source": [
        "def evenlyDivisible(a,b,c):\n",
        "    divList = []\n",
        "#a = int(input('Enter the number: '))\n",
        "#b = int(input('Enter the number: '))  \n",
        "    for number in range(a,b+1):\n",
        "       if number%c == 0:\n",
        "            divList.append(number)\n",
        "    print(f'{a,b,c} -> {sum(divList)}')      \n",
        "\n",
        "evenlyDivisible(1,10,20)\n",
        "evenlyDivisible(1,10,2)\n",
        "evenlyDivisible(1,10,3)\n",
        "\n",
        "            "
      ],
      "metadata": {
        "colab": {
          "base_uri": "https://localhost:8080/"
        },
        "id": "XkEUnZibXNpg",
        "outputId": "04642307-03bc-4ef7-9bb2-fc3b0c6548d5"
      },
      "execution_count": 6,
      "outputs": [
        {
          "output_type": "stream",
          "name": "stdout",
          "text": [
            "(1, 10, 20) -> 0\n",
            "(1, 10, 2) -> 30\n",
            "(1, 10, 3) -> 18\n"
          ]
        }
      ]
    },
    {
      "cell_type": "markdown",
      "source": [
        "Question2. Create a function that returns True if a given inequality expression is correct and\n",
        "False otherwise.\n",
        "Examples\n",
        "correct_signs(&quot;3 &lt; 7 &lt; 11&quot;) ➞ True\n",
        "correct_signs(&quot;13 &gt; 44 &gt; 33 &gt; 1&quot;) ➞ False\n",
        "correct_signs(&quot;1 &lt; 2 &lt; 6 &lt; 9 &gt; 3&quot;) ➞ True"
      ],
      "metadata": {
        "id": "valW2vij1lPv"
      }
    },
    {
      "cell_type": "code",
      "execution_count": 5,
      "metadata": {
        "colab": {
          "base_uri": "https://localhost:8080/"
        },
        "id": "fscXt2iz0w70",
        "outputId": "7288e4fd-34e6-426d-f1d6-ea22fcc8cc94"
      },
      "outputs": [
        {
          "output_type": "stream",
          "name": "stdout",
          "text": [
            "Enter the inequality: 3<7<11\n",
            "3<7<11 -> True\n",
            "Enter the inequality: 13>44>33\n",
            "13>44>33 -> False\n",
            "Enter the inequality: 1 < 2 < 6 < 9 > 3\n",
            "1 < 2 < 6 < 9 > 3 -> True\n"
          ]
        }
      ],
      "source": [
        "def checkEquality():\n",
        "    input_string = input('Enter the inequality: ')\n",
        "    output_bool = eval(input_string)\n",
        "    print(f'{input_string} -> {output_bool}')\n",
        "\n",
        "for x in range(3):\n",
        "    checkEquality()    \n"
      ]
    },
    {
      "cell_type": "markdown",
      "source": [
        "Question3. Create a function that replaces all the vowels in a string with a specified character.\n",
        "Examples\n",
        "replace_vowels(&quot;the aardvark&quot;, &quot;#&quot;) ➞ &quot;th# ##rdv#rk&quot;\n",
        "replace_vowels(&quot;minnie mouse&quot;, &quot;?&quot;) ➞ &quot;m?nn?? m??s?&quot;\n",
        "replace_vowels(&quot;shakespeare&quot;, &quot;*&quot;) ➞ &quot;sh*k*sp**r*&quot;"
      ],
      "metadata": {
        "id": "rnLGDKvy1p3e"
      }
    },
    {
      "cell_type": "code",
      "source": [
        "def replaceVowels():\n",
        "    Vowels = ['a','e','i','o','u','A','E','I','O','U']\n",
        "    input_string = input(\"Enter the String: \")\n",
        "    input_string_copy = input_string\n",
        "    input_char = input('Replacement character: ')\n",
        "    for element in input_string:\n",
        "        if element in Vowels:\n",
        "           input_string = input_string.replace(element,input_char)\n",
        "    print(f'{input_string_copy} {input_char}->{input_string}')\n",
        "\n",
        "for x in range(3):\n",
        "    replaceVowels()           \n",
        "\n"
      ],
      "metadata": {
        "colab": {
          "base_uri": "https://localhost:8080/"
        },
        "id": "TpBxv785032p",
        "outputId": "ec983052-ad71-4353-e8bb-ab97bf75c69e"
      },
      "execution_count": 4,
      "outputs": [
        {
          "output_type": "stream",
          "name": "stdout",
          "text": [
            "Enter the String: the aardvark\n",
            "Replacement character: #\n",
            "the aardvark #->th# ##rdv#rk\n",
            "Enter the String: minnie mouse\n",
            "Replacement character: ?\n",
            "minnie mouse ?->m?nn?? m??s?\n",
            "Enter the String: shakespeare\n",
            "Replacement character: *\n",
            "shakespeare *->sh*k*sp**r*\n"
          ]
        }
      ]
    },
    {
      "cell_type": "markdown",
      "source": [
        "Question4. Write a function that calculates the factorial of a number recursively.\n",
        "Examples\n",
        "factorial(5) ➞ 120\n",
        "factorial(3) ➞ 6\n",
        "factorial(1) ➞ 1\n",
        "factorial(0) ➞ 1"
      ],
      "metadata": {
        "id": "G9xCq40C1uir"
      }
    },
    {
      "cell_type": "code",
      "source": [
        "def factorial(n):\n",
        "    if n == 0:\n",
        "       return 1\n",
        "    return n * factorial(n-1)\n",
        "print(f'factorial{5}-> {factorial(5)}')  \n",
        "print(f'factorial{3}-> {factorial(3)}')\n",
        "print(f'factorial{1}-> {factorial(1)}')     \n",
        "print(f'factorial{0}-> {factorial(1)}')"
      ],
      "metadata": {
        "colab": {
          "base_uri": "https://localhost:8080/"
        },
        "id": "sKGM-Jah036a",
        "outputId": "2bb61251-9b76-4fb6-9b0f-89226c260959"
      },
      "execution_count": 2,
      "outputs": [
        {
          "output_type": "stream",
          "name": "stdout",
          "text": [
            "factorial5-> 120\n",
            "factorial3-> 6\n",
            "factorial1-> 1\n",
            "factorial0-> 1\n"
          ]
        }
      ]
    },
    {
      "cell_type": "markdown",
      "source": [
        "Question 5\n",
        "Hamming distance is the number of characters that differ between two strings.\n",
        "To illustrate:\n",
        "String1: &quot;abcbba&quot;\n",
        "String2: &quot;abcbda&quot;\n",
        "Hamming Distance: 1 - &quot;b&quot; vs. &quot;d&quot; is the only difference."
      ],
      "metadata": {
        "id": "cgRrdqzb1y9w"
      }
    },
    {
      "cell_type": "markdown",
      "source": [
        "Create a function that computes the hamming distance between two strings.\n",
        "Examples\n",
        "hamming_distance(&quot;abcde&quot;, &quot;bcdef&quot;) ➞ 5\n",
        "hamming_distance(&quot;abcde&quot;, &quot;abcde&quot;) ➞ 0\n",
        "hamming_distance(&quot;strong&quot;, &quot;strung&quot;) ➞ 1"
      ],
      "metadata": {
        "id": "2wUIiGE-13NU"
      }
    },
    {
      "cell_type": "code",
      "source": [
        "def getHammingDistance():\n",
        "    input_string1 = input('Enter the string1: ')\n",
        "    input_string2 = input('Enter the string2: ')\n",
        "    if len(input_string1) == len(input_string2):\n",
        "       count = 0\n",
        "       for i in range(len(input_string1)):\n",
        "           if input_string1[i] != input_string2[i]:\n",
        "              count = count+1\n",
        "       print(f'Hamming distance between {input_string1} and {input_string2} -> {count} ')     \n",
        "    else:\n",
        "       print('Both of them have same value')\n",
        "for i in range(4):\n",
        "    getHammingDistance()\n",
        "\n",
        "\n",
        "\n"
      ],
      "metadata": {
        "colab": {
          "base_uri": "https://localhost:8080/"
        },
        "id": "VxfZ4Vsd03_p",
        "outputId": "70410b13-5ce4-4c91-a7a2-dce9804902b9"
      },
      "execution_count": 3,
      "outputs": [
        {
          "output_type": "stream",
          "name": "stdout",
          "text": [
            "Enter the string1: abcde\n",
            "Enter the string2: bcdef\n",
            "Hamming distance between abcde and bcdef -> 5 \n",
            "Enter the string1: abcde\n",
            "Enter the string2: abcde\n",
            "Hamming distance between abcde and abcde -> 0 \n",
            "Enter the string1: strong\n",
            "Enter the string2: strung\n",
            "Hamming distance between strong and strung -> 1 \n",
            "Enter the string1: efghr\n",
            "Enter the string2: ghrti\n",
            "Hamming distance between efghr and ghrti -> 5 \n"
          ]
        }
      ]
    },
    {
      "cell_type": "code",
      "source": [],
      "metadata": {
        "id": "tgsPD1io04CY"
      },
      "execution_count": null,
      "outputs": []
    },
    {
      "cell_type": "code",
      "source": [],
      "metadata": {
        "id": "iqKDScIZ04FJ"
      },
      "execution_count": null,
      "outputs": []
    },
    {
      "cell_type": "code",
      "source": [],
      "metadata": {
        "id": "-81gyFHP04H2"
      },
      "execution_count": null,
      "outputs": []
    },
    {
      "cell_type": "code",
      "source": [],
      "metadata": {
        "id": "lnzaqfPH04Kd"
      },
      "execution_count": null,
      "outputs": []
    },
    {
      "cell_type": "code",
      "source": [],
      "metadata": {
        "id": "uaInIikF04NK"
      },
      "execution_count": null,
      "outputs": []
    },
    {
      "cell_type": "code",
      "source": [],
      "metadata": {
        "id": "9khTRLtL04P-"
      },
      "execution_count": null,
      "outputs": []
    },
    {
      "cell_type": "code",
      "source": [],
      "metadata": {
        "id": "HF09CURF04T1"
      },
      "execution_count": null,
      "outputs": []
    },
    {
      "cell_type": "code",
      "source": [],
      "metadata": {
        "id": "UXdeqpT804XU"
      },
      "execution_count": null,
      "outputs": []
    }
  ]
}