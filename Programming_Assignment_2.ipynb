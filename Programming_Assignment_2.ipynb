{
  "nbformat": 4,
  "nbformat_minor": 0,
  "metadata": {
    "colab": {
      "provenance": [],
      "collapsed_sections": [],
      "authorship_tag": "ABX9TyP8ih3kpgaLsPe0snpUrNX3",
      "include_colab_link": true
    },
    "kernelspec": {
      "name": "python3",
      "display_name": "Python 3"
    },
    "language_info": {
      "name": "python"
    }
  },
  "cells": [
    {
      "cell_type": "markdown",
      "metadata": {
        "id": "view-in-github",
        "colab_type": "text"
      },
      "source": [
        "<a href=\"https://colab.research.google.com/github/Reeshab/Ineuron-Python-Assignment/blob/main/Programming_Assignment_2.ipynb\" target=\"_parent\"><img src=\"https://colab.research.google.com/assets/colab-badge.svg\" alt=\"Open In Colab\"/></a>"
      ]
    },
    {
      "cell_type": "markdown",
      "source": [
        "Question 1 : Write a Python program to convert kilometers to miles?"
      ],
      "metadata": {
        "id": "M59zNL0a2iUR"
      }
    },
    {
      "cell_type": "code",
      "execution_count": 1,
      "metadata": {
        "colab": {
          "base_uri": "https://localhost:8080/"
        },
        "id": "-goL9uae07mM",
        "outputId": "1d82fc94-0351-4ce7-91ab-2a30cabacdf9"
      },
      "outputs": [
        {
          "output_type": "stream",
          "name": "stdout",
          "text": [
            "Enter the value in kilometers:40.3\n",
            "40.30 kilometers is equal to 25.04 miles\n"
          ]
        }
      ],
      "source": [
        "kilometers=float(input(\"Enter the value in kilometers:\"))\n",
        "conv_fac = 0.621371\n",
        "miles = kilometers * conv_fac\n",
        "print('%0.2f kilometers is equal to %0.2f miles' %(kilometers,miles))"
      ]
    },
    {
      "cell_type": "markdown",
      "source": [
        "Question 2 : Write a Python program to convert Celsius to Fahrenheit?"
      ],
      "metadata": {
        "id": "4Diugufv37Vo"
      }
    },
    {
      "cell_type": "code",
      "source": [
        "Celsius=float(input(\"Enter the value in Celsius\"))\n",
        "fahrenheit = (Celsius * 1.8) + 32\n",
        "print('%0.1f degree Celsius is equal to %0.1f degree fahrenheit' %(Celsius,fahrenheit))"
      ],
      "metadata": {
        "colab": {
          "base_uri": "https://localhost:8080/"
        },
        "id": "pMltfgrj2gtI",
        "outputId": "006fb546-7e6f-4a77-d2d1-82cbd6f977ed"
      },
      "execution_count": 3,
      "outputs": [
        {
          "output_type": "stream",
          "name": "stdout",
          "text": [
            "Enter the value in Celsius56.7\n",
            "56.7 degree Celsius is equal to 134.1 degree fahrenheit\n"
          ]
        }
      ]
    },
    {
      "cell_type": "markdown",
      "source": [
        "Question 3 :Write a Python program to display calendar?"
      ],
      "metadata": {
        "id": "JYtqVs3j5bSm"
      }
    },
    {
      "cell_type": "code",
      "source": [
        "import calendar\n",
        "year=int(input(\"Enter Year: \"))\n",
        "month=int(input(\"Enter month: \"))\n",
        "print(calendar.month(year,month))"
      ],
      "metadata": {
        "colab": {
          "base_uri": "https://localhost:8080/"
        },
        "id": "hXLK_5pp5ewq",
        "outputId": "6d79301c-5f1b-400b-c336-687d0e30f6a4"
      },
      "execution_count": 4,
      "outputs": [
        {
          "output_type": "stream",
          "name": "stdout",
          "text": [
            "Enter Year: 2021\n",
            "Enter month: 04\n",
            "     April 2021\n",
            "Mo Tu We Th Fr Sa Su\n",
            "          1  2  3  4\n",
            " 5  6  7  8  9 10 11\n",
            "12 13 14 15 16 17 18\n",
            "19 20 21 22 23 24 25\n",
            "26 27 28 29 30\n",
            "\n"
          ]
        }
      ]
    },
    {
      "cell_type": "markdown",
      "source": [
        "Question 4: Write a Python program to solve quadratic equation?"
      ],
      "metadata": {
        "id": "1QI03ETU-LcC"
      }
    },
    {
      "cell_type": "code",
      "source": [
        "import cmath\n",
        "a = int(input(\"Enter a number: \"))\n",
        "b = int(input(\"Enter a number: \"))\n",
        "c = int(input(\"Enter a number: \"))\n",
        "\n",
        "d = (b**2) - (4*a*c)\n",
        "\n",
        "sol1 = (-b-cmath.sqrt(d))/(2*a)\n",
        "sol2 = (-b+cmath.sqrt(d))/(2*a)\n",
        "print('The solution are {0} and {1}'.format(sol1,sol2))"
      ],
      "metadata": {
        "colab": {
          "base_uri": "https://localhost:8080/"
        },
        "id": "f2b-sdqQ-cL2",
        "outputId": "c1a375cd-a883-4771-ba95-5e33cbd4c049"
      },
      "execution_count": 5,
      "outputs": [
        {
          "output_type": "stream",
          "name": "stdout",
          "text": [
            "Enter a number: 12\n",
            "Enter a number: 13\n",
            "Enter a number: 14\n",
            "The solution are (-0.5416666666666666-0.9344858955002419j) and (-0.5416666666666666+0.9344858955002419j)\n"
          ]
        }
      ]
    },
    {
      "cell_type": "markdown",
      "source": [
        "Question 5 :  Write a Python program to swap two variables without temp variable?"
      ],
      "metadata": {
        "id": "M4it5lL4BEae"
      }
    },
    {
      "cell_type": "code",
      "source": [
        "x = int(input(\"Enter a number: \"))\n",
        "Y = int(input(\"Enter a number: \"))\n",
        "print (\"Before swapping: \")\n",
        "print(\"Value of x : \", x, \" and Y: \", Y)\n",
        " \n",
        "x, Y = Y, x\n",
        " \n",
        "print (\"After swapping: \")\n",
        "print(\"Value of x : \", x, \" and Y : \", Y)"
      ],
      "metadata": {
        "colab": {
          "base_uri": "https://localhost:8080/"
        },
        "id": "41otvnUHB1Oh",
        "outputId": "27cb9c1c-59e4-400f-970c-82dcd8586c08"
      },
      "execution_count": 7,
      "outputs": [
        {
          "output_type": "stream",
          "name": "stdout",
          "text": [
            "Enter a number: 5\n",
            "Enter a number: 6\n",
            "Before swapping: \n",
            "Value of x :  5  and Y:  6\n",
            "After swapping: \n",
            "Value of x :  6  and Y :  5\n"
          ]
        }
      ]
    },
    {
      "cell_type": "code",
      "source": [],
      "metadata": {
        "id": "gasLE0S72gvr"
      },
      "execution_count": null,
      "outputs": []
    },
    {
      "cell_type": "code",
      "source": [],
      "metadata": {
        "id": "pATEPrlz2gye"
      },
      "execution_count": null,
      "outputs": []
    },
    {
      "cell_type": "code",
      "source": [],
      "metadata": {
        "id": "0LYlKDOf2g0-"
      },
      "execution_count": null,
      "outputs": []
    },
    {
      "cell_type": "code",
      "source": [],
      "metadata": {
        "id": "DiJ8AGQu2g3i"
      },
      "execution_count": null,
      "outputs": []
    },
    {
      "cell_type": "code",
      "source": [],
      "metadata": {
        "id": "mG1s_v_C2g6U"
      },
      "execution_count": null,
      "outputs": []
    },
    {
      "cell_type": "code",
      "source": [],
      "metadata": {
        "id": "ZbCsKd152g8z"
      },
      "execution_count": null,
      "outputs": []
    },
    {
      "cell_type": "code",
      "source": [],
      "metadata": {
        "id": "qov41nOR2g_5"
      },
      "execution_count": null,
      "outputs": []
    },
    {
      "cell_type": "code",
      "source": [],
      "metadata": {
        "id": "9pxgsIfq2hDc"
      },
      "execution_count": null,
      "outputs": []
    }
  ]
}