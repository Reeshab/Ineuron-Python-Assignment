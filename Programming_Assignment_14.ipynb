{
  "nbformat": 4,
  "nbformat_minor": 0,
  "metadata": {
    "colab": {
      "provenance": [],
      "collapsed_sections": [],
      "authorship_tag": "ABX9TyOLtvDJEzBsxPxDxrqlbE2g",
      "include_colab_link": true
    },
    "kernelspec": {
      "name": "python3",
      "display_name": "Python 3"
    },
    "language_info": {
      "name": "python"
    }
  },
  "cells": [
    {
      "cell_type": "markdown",
      "metadata": {
        "id": "view-in-github",
        "colab_type": "text"
      },
      "source": [
        "<a href=\"https://colab.research.google.com/github/Reeshab/Ineuron-Python-Assignment/blob/main/Programming_Assignment_14.ipynb\" target=\"_parent\"><img src=\"https://colab.research.google.com/assets/colab-badge.svg\" alt=\"Open In Colab\"/></a>"
      ]
    },
    {
      "cell_type": "markdown",
      "source": [
        "Question 1:\n",
        "Define a class with a generator which can iterate the numbers, which are divisible by\n",
        "7, between a given range 0 and n."
      ],
      "metadata": {
        "id": "CMX9zl5Heupr"
      }
    },
    {
      "cell_type": "code",
      "execution_count": 9,
      "metadata": {
        "colab": {
          "base_uri": "https://localhost:8080/"
        },
        "id": "QEKrhvTsPkfJ",
        "outputId": "73e7a68d-b7c2-4d10-caa6-59fd4210a811"
      },
      "outputs": [
        {
          "output_type": "stream",
          "name": "stdout",
          "text": [
            "0 7 14 21 28 35 42 49 56 63 70 77 84 91 98 105 112 119 126 133 140 147 154 161 168 175 182 189 196 203 210 217 224 231 238 245 252 259 266 273 280 287 294 301 308 315 322 329 336 343 350 "
          ]
        }
      ],
      "source": [
        "class div_generator:\n",
        "    def __init__(self,input_num):\n",
        "        self.input_num = input_num\n",
        "    def get_numbers(self):\n",
        "        for ele in range(0,self.input_num+1):\n",
        "            if ele%7 == 0:\n",
        "                yield ele\n",
        "                \n",
        "output = div_generator(350)\n",
        "for ele in output.get_numbers():\n",
        "    print(ele,end=' ')                         \n"
      ]
    },
    {
      "cell_type": "markdown",
      "source": [
        "Question 2:\n",
        "Write a program to compute the frequency of the words from the input. The output\n",
        "should output after sorting the key alphanumerically.\n",
        "Suppose the following input is supplied to the program:\n",
        "New to Python or choosing between Python 2 and Python 3? Read Python 2 or\n",
        "Python 3.\n",
        "Then, the output should be:\n",
        "2:2\n",
        "3.:1\n",
        "3?:1\n",
        "New:1\n",
        "Python:5\n",
        "Read:1\n",
        "and:1\n",
        "between:1\n",
        "choosing:1\n",
        "or:2\n",
        "to:1\n",
        "\n",
        "1.   List item\n",
        "2.   List item\n",
        "\n"
      ],
      "metadata": {
        "id": "6-fs4PRge4cY"
      }
    },
    {
      "cell_type": "code",
      "source": [
        "def checkfrequency():\n",
        "    input_string = input(\"Enter the string: \")\n",
        "    frequency = {}\n",
        "    for i in input_string.split(\" \"):\n",
        "        if (frequency.get(i)==None):\n",
        "               frequency[i] = 1\n",
        "        else:\n",
        "              frequency[i] = +1\n",
        "    for i in sorted(frequency):\n",
        "          print(f\" i is :{frequency[i]}\",end=\" \")\n",
        "checkfrequency()          \n",
        "\n"
      ],
      "metadata": {
        "colab": {
          "base_uri": "https://localhost:8080/"
        },
        "id": "xW3IwHx4PlQf",
        "outputId": "ca133638-32fb-40ac-8208-fe987518bd31"
      },
      "execution_count": 10,
      "outputs": [
        {
          "output_type": "stream",
          "name": "stdout",
          "text": [
            "Enter the string: New to Python or choosing between Python 2 and Python 3? Read Python 2 or Python 3\n",
            " i is :1  i is :1  i is :1  i is :1  i is :1  i is :1  i is :1  i is :1  i is :1  i is :1  i is :1 "
          ]
        }
      ]
    },
    {
      "cell_type": "markdown",
      "source": [
        "Question 3:\n",
        "\n",
        "Define a class Person and its two child classes: Male and Female. All classes have a\n",
        "method &quot;getGender&quot; which can print &quot;Male&quot; for Male class and &quot;Female&quot; for Female\n",
        "class."
      ],
      "metadata": {
        "id": "2gAIcvL3fCZz"
      }
    },
    {
      "cell_type": "code",
      "source": [
        "class Person():\n",
        "  def getGender():\n",
        "       pass\n",
        "class Male(Person):\n",
        "  def getGender():\n",
        "      print(\"Male\")\n",
        "class Female(Person):\n",
        "  def getGender():\n",
        "      print(\"Female\")\n",
        "Male.getGender()\n",
        "Female.getGender()                     "
      ],
      "metadata": {
        "colab": {
          "base_uri": "https://localhost:8080/"
        },
        "id": "o7lbAsRePlTH",
        "outputId": "7bef6bec-3a80-45d2-d463-404eece866f7"
      },
      "execution_count": 11,
      "outputs": [
        {
          "output_type": "stream",
          "name": "stdout",
          "text": [
            "Male\n",
            "Female\n"
          ]
        }
      ]
    },
    {
      "cell_type": "markdown",
      "source": [
        "Question 4:\n",
        "Please write a program to generate all sentences where subject is in [&quot;I&quot;, &quot;You&quot;] and\n",
        "verb is in [&quot;Play&quot;, &quot;Love&quot;] and the object is in [&quot;Hockey&quot;,&quot;Football&quot;]."
      ],
      "metadata": {
        "id": "FyxOUFi1fGTq"
      }
    },
    {
      "cell_type": "code",
      "source": [
        "def generateSentence():\n",
        "    subject = ['I','You']\n",
        "    verb = ['Play','Love']\n",
        "    object = ['Hockey','Football']\n",
        "    for s in subject:\n",
        "        for v in verb:\n",
        "            for o in object:\n",
        "                 print(f'{s} {v} {o}')\n",
        "generateSentence()                 "
      ],
      "metadata": {
        "colab": {
          "base_uri": "https://localhost:8080/"
        },
        "id": "YkZcHY-SPlV3",
        "outputId": "5983d1f9-3e50-4fdc-9ac7-6b41c522319d"
      },
      "execution_count": 3,
      "outputs": [
        {
          "output_type": "stream",
          "name": "stdout",
          "text": [
            "I Play Hockey\n",
            "I Play Football\n",
            "I Love Hockey\n",
            "I Love Football\n",
            "You Play Hockey\n",
            "You Play Football\n",
            "You Love Hockey\n",
            "You Love Football\n"
          ]
        }
      ]
    },
    {
      "cell_type": "markdown",
      "source": [
        "Question 5:\n",
        "Please write a program to compress and decompress the string &quot;hello world!hello\n",
        "world!hello world!hello world!&quot;.\n"
      ],
      "metadata": {
        "id": "VYl2BDS2fJCP"
      }
    },
    {
      "cell_type": "code",
      "source": [
        "def compress(input_string):\n",
        "    output = input_string[0]\n",
        "    count = 1\n",
        "    for element in range(len(input_string)-1):\n",
        "        if input_string[element] == input_string[element+1]:\n",
        "           count +=1\n",
        "        else:\n",
        "          if count>1:\n",
        "             output += str(count)   \n",
        "             output += input_string[element+1]\n",
        "             count = 1\n",
        "    if count > 1:\n",
        "       output += str(count)\n",
        "    print(output)\n",
        "\n",
        "def decompress(input_string):\n",
        "    output = ' '\n",
        "    for element in range(len(input_string)):\n",
        "        if input_string[element].isdigit():\n",
        "            output += output[-1]*(int(input_string[element])-1)\n",
        "        else:\n",
        "           output += input_string[element]\n",
        "    print(output)\n",
        "\n",
        "compress(\"hello world!hello world!hello world!\")\n",
        "decompress(\"hel2o world!hel2o world!hel2o world!hel2o world! \")\n",
        "\n",
        "compress('I am full stack Data scientist')\n",
        "decompress('I am fuull stack Data scientist ')\n"
      ],
      "metadata": {
        "colab": {
          "base_uri": "https://localhost:8080/"
        },
        "id": "Ww_B3V4fPlYy",
        "outputId": "1c51aa17-44d5-409c-9bb7-18d3c597d35d"
      },
      "execution_count": 6,
      "outputs": [
        {
          "output_type": "stream",
          "name": "stdout",
          "text": [
            "h2o2o2o\n",
            " hello world!hello world!hello world!hello world! \n",
            "I2 \n",
            " I am fuull stack Data scientist \n"
          ]
        }
      ]
    },
    {
      "cell_type": "markdown",
      "source": [
        "Question 6:\n",
        "Please write a binary search function which searches an item in a sorted list. The\n",
        "function should return the index of element to be searched in the list."
      ],
      "metadata": {
        "id": "ysGRRbfxfSL9"
      }
    },
    {
      "cell_type": "code",
      "source": [
        "sorted_list = [1,2,3,4,5,6,7,8,9,10]\n",
        "def binary_search(input_list,input_num):\n",
        "    low = 0\n",
        "    high = len(input_list)-1\n",
        "    while low <=high:\n",
        "          mid = high+low//2\n",
        "          if input_list[mid] < input_num:\n",
        "             low = mid + 1\n",
        "          elif input_list[mid] > input_num:\n",
        "             high = mid -1\n",
        "          else:\n",
        "             return 'Input Element not in the list'\n",
        "print(binary_search(sorted_list,8))\n",
        "print(binary_search(sorted_list,100))              \n",
        "\n"
      ],
      "metadata": {
        "colab": {
          "base_uri": "https://localhost:8080/"
        },
        "id": "8YyVMRG-Plby",
        "outputId": "1fd284da-a659-4526-c8dd-735b32b1e55e"
      },
      "execution_count": 8,
      "outputs": [
        {
          "output_type": "stream",
          "name": "stdout",
          "text": [
            "Input Element not in the list\n",
            "None\n"
          ]
        }
      ]
    },
    {
      "cell_type": "code",
      "source": [],
      "metadata": {
        "id": "nlD1I8OkPlen"
      },
      "execution_count": null,
      "outputs": []
    },
    {
      "cell_type": "code",
      "source": [],
      "metadata": {
        "id": "8JeUFaNaPlhi"
      },
      "execution_count": null,
      "outputs": []
    },
    {
      "cell_type": "code",
      "source": [],
      "metadata": {
        "id": "VRBjezrtPlkY"
      },
      "execution_count": null,
      "outputs": []
    },
    {
      "cell_type": "code",
      "source": [],
      "metadata": {
        "id": "kphFzl__Pln8"
      },
      "execution_count": null,
      "outputs": []
    }
  ]
}