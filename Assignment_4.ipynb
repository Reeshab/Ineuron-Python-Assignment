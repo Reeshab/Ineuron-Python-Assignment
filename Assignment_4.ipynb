{
  "nbformat": 4,
  "nbformat_minor": 0,
  "metadata": {
    "colab": {
      "provenance": [],
      "collapsed_sections": [],
      "authorship_tag": "ABX9TyMEe69J3kRU+n4XpcT7dDyF",
      "include_colab_link": true
    },
    "kernelspec": {
      "name": "python3",
      "display_name": "Python 3"
    },
    "language_info": {
      "name": "python"
    }
  },
  "cells": [
    {
      "cell_type": "markdown",
      "metadata": {
        "id": "view-in-github",
        "colab_type": "text"
      },
      "source": [
        "<a href=\"https://colab.research.google.com/github/Reeshab/Ineuron-Python-Assignment/blob/main/Assignment_4.ipynb\" target=\"_parent\"><img src=\"https://colab.research.google.com/assets/colab-badge.svg\" alt=\"Open In Colab\"/></a>"
      ]
    },
    {
      "cell_type": "markdown",
      "source": [
        "1.What exactly is [ ]?"
      ],
      "metadata": {
        "id": "4VupRqZ_fIVH"
      }
    },
    {
      "cell_type": "markdown",
      "source": [
        "The empty list value, which is a list value that contains no items. This is similar to how '' is the empty string value."
      ],
      "metadata": {
        "id": "MtJ7OqB_fg0d"
      }
    },
    {
      "cell_type": "code",
      "execution_count": 1,
      "metadata": {
        "colab": {
          "base_uri": "https://localhost:8080/"
        },
        "id": "VruoCme7esVP",
        "outputId": "461f06e2-8be3-46ad-ec08-6db201f84797"
      },
      "outputs": [
        {
          "output_type": "execute_result",
          "data": {
            "text/plain": [
              "[]"
            ]
          },
          "metadata": {},
          "execution_count": 1
        }
      ],
      "source": [
        "[] # empty list we didn't get any results from this"
      ]
    },
    {
      "cell_type": "code",
      "source": [
        "[1,2,3]"
      ],
      "metadata": {
        "colab": {
          "base_uri": "https://localhost:8080/"
        },
        "id": "In5EWo5Ee6An",
        "outputId": "513347e6-bbe0-43f9-c24e-6f9e0221209f"
      },
      "execution_count": 2,
      "outputs": [
        {
          "output_type": "execute_result",
          "data": {
            "text/plain": [
              "[1, 2, 3]"
            ]
          },
          "metadata": {},
          "execution_count": 2
        }
      ]
    },
    {
      "cell_type": "markdown",
      "source": [
        "2. In a list of values stored in a variable called spam, how would you assign the value &#39;hello&#39; as the\n",
        "third value? (Assume [2, 4, 6, 8, 10] are in spam.)"
      ],
      "metadata": {
        "id": "EcpWYYktf-dg"
      }
    },
    {
      "cell_type": "code",
      "source": [
        "# In python programming index starts with 0 \n",
        "spam =[2,4,6,8,10]\n",
        "spam[2] =\"hello\" # the third value in a list is at index 2 because the first index is 0.)\n",
        "print(spam)"
      ],
      "metadata": {
        "colab": {
          "base_uri": "https://localhost:8080/"
        },
        "id": "diVV6aqpe6DI",
        "outputId": "52ddb399-987f-48b5-d2b8-714754bb9160"
      },
      "execution_count": 3,
      "outputs": [
        {
          "output_type": "stream",
          "name": "stdout",
          "text": [
            "[2, 4, 'hello', 8, 10]\n"
          ]
        }
      ]
    },
    {
      "cell_type": "markdown",
      "source": [
        "Let&#39;s pretend the spam includes the list [&#39;a&#39;, &#39;b&#39;, &#39;c&#39;, &#39;d&#39;] for the next three queries."
      ],
      "metadata": {
        "id": "Opa5TxuNgr3h"
      }
    },
    {
      "cell_type": "markdown",
      "source": [
        "1.What is the value of spam[int(int('3' * 2) / 11)]?\n",
        "\n",
        "2.What is the value of spam[-1]?\n",
        "\n",
        "3.What is the value of spam[:2]?"
      ],
      "metadata": {
        "id": "2NQVO2uXhF-o"
      }
    },
    {
      "cell_type": "code",
      "source": [],
      "metadata": {
        "id": "BgLpHvh2ixq6"
      },
      "execution_count": null,
      "outputs": []
    },
    {
      "cell_type": "markdown",
      "source": [
        "3. What is the value of spam[int(int(&#39;3&#39; * 2) / 11)]?"
      ],
      "metadata": {
        "id": "X-XrEd8YiIZd"
      }
    },
    {
      "cell_type": "code",
      "source": [
        "spam = [\"a\",\"b\",\"c\", \"d\"]\n",
        "print (\" Result of (int(int('3' * 2) / 11)\",int(int('3' * 2) / 11))\n",
        "spam[int(int('3' * 2) / 11)]"
      ],
      "metadata": {
        "colab": {
          "base_uri": "https://localhost:8080/",
          "height": 52
        },
        "id": "I6cohchoe6F1",
        "outputId": "ac3d8499-a16a-411a-a313-93ea2c0000e6"
      },
      "execution_count": 4,
      "outputs": [
        {
          "output_type": "stream",
          "name": "stdout",
          "text": [
            " Result of (int(int('3' * 2) / 11) 3\n"
          ]
        },
        {
          "output_type": "execute_result",
          "data": {
            "text/plain": [
              "'d'"
            ],
            "application/vnd.google.colaboratory.intrinsic+json": {
              "type": "string"
            }
          },
          "metadata": {},
          "execution_count": 4
        }
      ]
    },
    {
      "cell_type": "markdown",
      "source": [
        "4. What is the value of spam[-1]?"
      ],
      "metadata": {
        "id": "FWRvpYAeiw1q"
      }
    },
    {
      "cell_type": "code",
      "source": [
        "spam[-1]"
      ],
      "metadata": {
        "colab": {
          "base_uri": "https://localhost:8080/",
          "height": 35
        },
        "id": "RiWUHZfoe6Id",
        "outputId": "050cf6fb-bb1f-4f24-c29e-73204ff7ae13"
      },
      "execution_count": 5,
      "outputs": [
        {
          "output_type": "execute_result",
          "data": {
            "text/plain": [
              "'d'"
            ],
            "application/vnd.google.colaboratory.intrinsic+json": {
              "type": "string"
            }
          },
          "metadata": {},
          "execution_count": 5
        }
      ]
    },
    {
      "cell_type": "markdown",
      "source": [
        "5. What is the value of spam[:2]?"
      ],
      "metadata": {
        "id": "V-R170DKjNb7"
      }
    },
    {
      "cell_type": "code",
      "source": [
        "spam[:2]"
      ],
      "metadata": {
        "colab": {
          "base_uri": "https://localhost:8080/"
        },
        "id": "k9S6jnpwe6LE",
        "outputId": "996c129d-2d84-413a-a8df-26821cff76d4"
      },
      "execution_count": 6,
      "outputs": [
        {
          "output_type": "execute_result",
          "data": {
            "text/plain": [
              "['a', 'b']"
            ]
          },
          "metadata": {},
          "execution_count": 6
        }
      ]
    },
    {
      "cell_type": "markdown",
      "source": [
        "Let&#39;s pretend bacon has the list [3.14, &#39;cat,&#39; 11, &#39;cat,&#39; True] for the next three questions."
      ],
      "metadata": {
        "id": "rvD5P8TKj66M"
      }
    },
    {
      "cell_type": "markdown",
      "source": [
        "What is the value of bacon.index(\"cat\")?\n",
        "\n",
        "How does bacon.append(99) change the look of the list value in bacon?\n",
        "\n",
        "How does bacon.remove(\"cat\") change the look of the list in bacon?"
      ],
      "metadata": {
        "id": "AhpWg5-skEQU"
      }
    },
    {
      "cell_type": "markdown",
      "source": [
        "6.What is the value of bacon.index(\"cat\")?"
      ],
      "metadata": {
        "id": "7L0CfmL2kdOG"
      }
    },
    {
      "cell_type": "code",
      "source": [
        "bacon = [3.14,'cat', 11,'cat',True] \n",
        "bacon.index(\"cat\")  # display first occurence index position   cat element in list . "
      ],
      "metadata": {
        "colab": {
          "base_uri": "https://localhost:8080/"
        },
        "id": "_75cSxzre6Nn",
        "outputId": "c23e9d95-e073-447b-8d2a-b36d3b166568"
      },
      "execution_count": 7,
      "outputs": [
        {
          "output_type": "execute_result",
          "data": {
            "text/plain": [
              "1"
            ]
          },
          "metadata": {},
          "execution_count": 7
        }
      ]
    },
    {
      "cell_type": "markdown",
      "source": [
        "7. How does bacon.append(99) change the look of the list value in bacon?"
      ],
      "metadata": {
        "id": "y14QMsJiknSC"
      }
    },
    {
      "cell_type": "code",
      "source": [
        "bacon = [3.14,'cat', 11,'cat',True] \n",
        "bacon.append(99) \n",
        "print(bacon)"
      ],
      "metadata": {
        "colab": {
          "base_uri": "https://localhost:8080/"
        },
        "id": "vYmHHoSJj8yV",
        "outputId": "c86d672b-d611-4f5b-d8db-e70152c6404a"
      },
      "execution_count": 8,
      "outputs": [
        {
          "output_type": "stream",
          "name": "stdout",
          "text": [
            "[3.14, 'cat', 11, 'cat', True, 99]\n"
          ]
        }
      ]
    },
    {
      "cell_type": "markdown",
      "source": [
        "8. How does bacon.remove(&#39;cat&#39;) change the look of the list in bacon?"
      ],
      "metadata": {
        "id": "W0dFGUpmlA-Y"
      }
    },
    {
      "cell_type": "code",
      "source": [
        "bacon = [3.14,'cat', 11,'cat',True] \n",
        "bacon.remove('cat') ## it remove first occurence index position   cat element in list . \n",
        "print(bacon)"
      ],
      "metadata": {
        "colab": {
          "base_uri": "https://localhost:8080/"
        },
        "id": "2_uhf9fvj817",
        "outputId": "2a0ef178-8944-47b1-923f-69b15e9c51e1"
      },
      "execution_count": 9,
      "outputs": [
        {
          "output_type": "stream",
          "name": "stdout",
          "text": [
            "[3.14, 11, 'cat', True]\n"
          ]
        }
      ]
    },
    {
      "cell_type": "markdown",
      "source": [
        "9. What are the list concatenation and list replication operators?"
      ],
      "metadata": {
        "id": "rxMBbLSDlbb-"
      }
    },
    {
      "cell_type": "markdown",
      "source": [
        "We can '+' operator used as list concatenation and '* ' operator used as replication operators in list."
      ],
      "metadata": {
        "id": "VH80i9sGlmQn"
      }
    },
    {
      "cell_type": "markdown",
      "source": [
        "list1 =[3,5]\n",
        "\n",
        "list2 =[7,8]\n",
        "\n",
        "list1 + list2"
      ],
      "metadata": {
        "id": "NbavYoQjmFXE"
      }
    },
    {
      "cell_type": "code",
      "source": [
        "list1 =[3,5]\n",
        "\n",
        "list2 =[7,8]\n",
        "\n",
        "list1 + list2"
      ],
      "metadata": {
        "colab": {
          "base_uri": "https://localhost:8080/"
        },
        "id": "9C57Jhwuj88-",
        "outputId": "ac2ae864-91bb-4b41-b746-3d0f329dc06a"
      },
      "execution_count": 10,
      "outputs": [
        {
          "output_type": "execute_result",
          "data": {
            "text/plain": [
              "[3, 5, 7, 8]"
            ]
          },
          "metadata": {},
          "execution_count": 10
        }
      ]
    },
    {
      "cell_type": "code",
      "source": [
        "\n",
        "\n",
        "list3 =[7,8]\n",
        "\n",
        "list3 * 4"
      ],
      "metadata": {
        "colab": {
          "base_uri": "https://localhost:8080/"
        },
        "id": "wxEj4dJKj9AW",
        "outputId": "6cdd0f4f-11be-49cd-cd58-036ae9e02730"
      },
      "execution_count": 12,
      "outputs": [
        {
          "output_type": "execute_result",
          "data": {
            "text/plain": [
              "[7, 8, 7, 8, 7, 8, 7, 8]"
            ]
          },
          "metadata": {},
          "execution_count": 12
        }
      ]
    },
    {
      "cell_type": "markdown",
      "source": [
        "10. What is difference between the list methods append() and insert()?"
      ],
      "metadata": {
        "id": "AzLvg6dxmiOO"
      }
    },
    {
      "cell_type": "markdown",
      "source": [
        "append() will add values only to the end of a list, insert() can add them anywhere in the list."
      ],
      "metadata": {
        "id": "0nxdZ3dcmmzT"
      }
    },
    {
      "cell_type": "markdown",
      "source": [
        "11. What are the two methods for removing items from a list?"
      ],
      "metadata": {
        "id": "c9yNhx3tniRb"
      }
    },
    {
      "cell_type": "markdown",
      "source": [
        "The del statement and the remove() list method are two ways to remove values from a list."
      ],
      "metadata": {
        "id": "NP0zemrrnjx6"
      }
    },
    {
      "cell_type": "markdown",
      "source": [
        "12. Describe how list values and string values are identical."
      ],
      "metadata": {
        "id": "95gTKM12oHF2"
      }
    },
    {
      "cell_type": "markdown",
      "source": [
        "Both lists and strings can be passed to len(), have indexes and slices, be used in for loops, be concatenated or replicated, and be used with the in and not in operators."
      ],
      "metadata": {
        "id": "Gon_BF7DoaFH"
      }
    },
    {
      "cell_type": "markdown",
      "source": [
        "13. What&#39;s the difference between tuples and lists?"
      ],
      "metadata": {
        "id": "zthhkjsmowrU"
      }
    },
    {
      "cell_type": "markdown",
      "source": [
        "Lists are mutable; they can have values added, removed, or changed. Tuples are immutable; they cannot be changed at all. Also, tuples are written using parentheses, ( ), while lists use the square brackets, []"
      ],
      "metadata": {
        "id": "8UKb1jyTo3Mx"
      }
    },
    {
      "cell_type": "markdown",
      "source": [
        "14 . How do you type a tuple value that only contains the integer 42?"
      ],
      "metadata": {
        "id": "-XUacErBphSm"
      }
    },
    {
      "cell_type": "code",
      "source": [
        "# we can type a tuple value that only contains the integer 42 by comma separator in tuple \n",
        "a=(42,)"
      ],
      "metadata": {
        "id": "Z3CFg26ae6P_"
      },
      "execution_count": 13,
      "outputs": []
    },
    {
      "cell_type": "code",
      "source": [
        "print(type(a))"
      ],
      "metadata": {
        "colab": {
          "base_uri": "https://localhost:8080/"
        },
        "id": "dWCyzht0e6Te",
        "outputId": "4dc8c0e6-be1d-4051-ffc7-b7799a33dfd1"
      },
      "execution_count": 14,
      "outputs": [
        {
          "output_type": "stream",
          "name": "stdout",
          "text": [
            "<class 'tuple'>\n"
          ]
        }
      ]
    },
    {
      "cell_type": "markdown",
      "source": [
        "15. How do you get a list value&#39;s tuple form? How do you get a tuple value&#39;s list form?"
      ],
      "metadata": {
        "id": "Kubo7lNLqIwD"
      }
    },
    {
      "cell_type": "markdown",
      "source": [
        "we get a list values tuple form by The tuple() and similarly tuple values list form by the list() functions, respectively"
      ],
      "metadata": {
        "id": "8W4LAtv6qjVd"
      }
    },
    {
      "cell_type": "code",
      "source": [
        "#list to tuple\n",
        "a=[1,2,3]\n",
        "print(tuple(a))"
      ],
      "metadata": {
        "colab": {
          "base_uri": "https://localhost:8080/"
        },
        "id": "jVE6c-Hne6V_",
        "outputId": "4bebded0-3a79-485e-c74c-802c8ff1e7ff"
      },
      "execution_count": 15,
      "outputs": [
        {
          "output_type": "stream",
          "name": "stdout",
          "text": [
            "(1, 2, 3)\n"
          ]
        }
      ]
    },
    {
      "cell_type": "code",
      "source": [
        "# tuple to list\n",
        "a=(1,2,3)\n",
        "print(list(a))"
      ],
      "metadata": {
        "colab": {
          "base_uri": "https://localhost:8080/"
        },
        "id": "Hu91jw2up2D3",
        "outputId": "f227961a-f428-4519-920c-26ff017fdaee"
      },
      "execution_count": 16,
      "outputs": [
        {
          "output_type": "stream",
          "name": "stdout",
          "text": [
            "[1, 2, 3]\n"
          ]
        }
      ]
    },
    {
      "cell_type": "markdown",
      "source": [
        "16. Variables that &quot;contain&quot; list values are not necessarily lists themselves. Instead, what do they\n",
        "contain?"
      ],
      "metadata": {
        "id": "vv2wS0EsrBPX"
      }
    },
    {
      "cell_type": "markdown",
      "source": [
        "They contain references to list values."
      ],
      "metadata": {
        "id": "xjX0XmKjrPS7"
      }
    },
    {
      "cell_type": "markdown",
      "source": [
        "When we assign a list to a variable, we are actually assigning a list reference to the variable. A reference is a value that points to some bit of data, and a list reference is a value that points to a list"
      ],
      "metadata": {
        "id": "cV2pVcPlr64M"
      }
    },
    {
      "cell_type": "code",
      "source": [
        "# example\n",
        "a=[1,2,3] #stores a reference to a list, not the actual list.\n",
        "b=a # reference in a  is copied to b's reference \n",
        "print(\" List A : \",a)# print list A\n",
        "print(\" List B :  \",b) # print List B\n",
        "b[1] =\"hello\" # altering  B list \n",
        "print(\"after changing element in list B  \", b)\n",
        "print(\"after changing element in list B and displaying A's \",a)\n",
        "# Both A and B are same value therefore They contain references to list values."
      ],
      "metadata": {
        "colab": {
          "base_uri": "https://localhost:8080/"
        },
        "id": "VR725ajop2Gp",
        "outputId": "d54ffc2c-87b6-425c-f0a4-330ed69cbabf"
      },
      "execution_count": 17,
      "outputs": [
        {
          "output_type": "stream",
          "name": "stdout",
          "text": [
            " List A :  [1, 2, 3]\n",
            " List B :   [1, 2, 3]\n",
            "after changing element in list B   [1, 'hello', 3]\n",
            "after changing element in list B and displaying A's  [1, 'hello', 3]\n"
          ]
        }
      ]
    },
    {
      "cell_type": "markdown",
      "source": [
        "17. How do you distinguish between copy.copy() and copy.deepcopy()?"
      ],
      "metadata": {
        "id": "3V4rJtRosMDA"
      }
    },
    {
      "cell_type": "markdown",
      "source": [
        "The copy.copy() function will do a shallow copy of a list, while the copy.deepcopy() function will do a deep copy of a list. That is, only copy.deepcopy() will duplicate any lists inside the list."
      ],
      "metadata": {
        "id": "hWeEQg4MsP6s"
      }
    },
    {
      "cell_type": "code",
      "source": [],
      "metadata": {
        "id": "atx3dhnWp2Jz"
      },
      "execution_count": null,
      "outputs": []
    },
    {
      "cell_type": "code",
      "source": [],
      "metadata": {
        "id": "IA964iTQp2MT"
      },
      "execution_count": null,
      "outputs": []
    },
    {
      "cell_type": "code",
      "source": [],
      "metadata": {
        "id": "vtEnU7tcp2O6"
      },
      "execution_count": null,
      "outputs": []
    },
    {
      "cell_type": "code",
      "source": [],
      "metadata": {
        "id": "g4HiZX2Dp2Sg"
      },
      "execution_count": null,
      "outputs": []
    },
    {
      "cell_type": "code",
      "source": [],
      "metadata": {
        "id": "ZHVIUhTfe6Ym"
      },
      "execution_count": null,
      "outputs": []
    },
    {
      "cell_type": "code",
      "source": [],
      "metadata": {
        "id": "yCvBt0Fre6b_"
      },
      "execution_count": null,
      "outputs": []
    },
    {
      "cell_type": "markdown",
      "source": [],
      "metadata": {
        "id": "epFL4OEvfES9"
      }
    }
  ]
}