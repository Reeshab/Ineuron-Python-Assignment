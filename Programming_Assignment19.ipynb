{
  "nbformat": 4,
  "nbformat_minor": 0,
  "metadata": {
    "colab": {
      "provenance": [],
      "collapsed_sections": [],
      "authorship_tag": "ABX9TyNlDjBgLd90XlrbzP8zJOj7",
      "include_colab_link": true
    },
    "kernelspec": {
      "name": "python3",
      "display_name": "Python 3"
    },
    "language_info": {
      "name": "python"
    }
  },
  "cells": [
    {
      "cell_type": "markdown",
      "metadata": {
        "id": "view-in-github",
        "colab_type": "text"
      },
      "source": [
        "<a href=\"https://colab.research.google.com/github/Reeshab/Ineuron-Python-Assignment/blob/main/Programming_Assignment19.ipynb\" target=\"_parent\"><img src=\"https://colab.research.google.com/assets/colab-badge.svg\" alt=\"Open In Colab\"/></a>"
      ]
    },
    {
      "cell_type": "markdown",
      "source": [
        "Question1\n",
        "Create a function that takes a string and returns a string in which each character is repeated\n",
        "once.\n",
        "Examples\n",
        "double_char(&quot;String&quot;) ➞ &quot;SSttrriinngg&quot;\n",
        "double_char(&quot;Hello World!&quot;) ➞ &quot;HHeelllloo WWoorrlldd!!&quot;\n",
        "double_char(&quot;1234!_ &quot;) ➞ &quot;11223344!!__ &quot;"
      ],
      "metadata": {
        "id": "qhK4jj6PclFL"
      }
    },
    {
      "cell_type": "code",
      "source": [
        "def double_char(input_string):\n",
        "    output_string = ' '\n",
        "    for element in input_string:\n",
        "        output_string = (element * 2) + output_string\n",
        "    return output_string\n",
        "\n",
        "print(f'-> {double_char(\"String\")}')\n",
        "print(f'-> {double_char(\"Hello World!\")}')\n",
        "print(f'-> {double_char(\"1234!\")}')\n"
      ],
      "metadata": {
        "colab": {
          "base_uri": "https://localhost:8080/"
        },
        "id": "R13bmZGGckme",
        "outputId": "ed1a0c21-7e47-40b2-b1eb-2a0bad86d79d"
      },
      "execution_count": 4,
      "outputs": [
        {
          "output_type": "stream",
          "name": "stdout",
          "text": [
            "-> ggnniirrttSS \n",
            "-> !!ddllrrooWW  oolllleeHH \n",
            "-> !!44332211 \n"
          ]
        }
      ]
    },
    {
      "cell_type": "markdown",
      "source": [
        "Create a function that reverses a boolean value and returns the string &quot;boolean expected&quot;\n",
        "if another variable type is given.\n",
        "Examples\n",
        "reverse(True) ➞ False\n",
        "reverse(False) ➞ True\n",
        "reverse(0) ➞ &quot;boolean expected&quot;\n",
        "reverse(None) ➞ &quot;boolean expected&quot;"
      ],
      "metadata": {
        "id": "wBvRztkei2OM"
      }
    },
    {
      "cell_type": "code",
      "source": [
        "def reverse(input_boolean):\n",
        "    if type(input_boolean) == bool:\n",
        "       return not input_boolean\n",
        "    else:\n",
        "       return \"boolean expected\"\n",
        "print(f'reverse(True) ➞ {reverse(True)}')\n",
        "print(f'reverse(False) ➞ {reverse(False)}')\n",
        "print(f'reverse(0) ➞ {reverse(0)}')\n",
        "print(f'reverse(None) ➞ {reverse(None)}')          "
      ],
      "metadata": {
        "colab": {
          "base_uri": "https://localhost:8080/"
        },
        "id": "73AkaF1bckjw",
        "outputId": "ba5dd34d-3447-4c73-e5f2-e4cdc56545ce"
      },
      "execution_count": 5,
      "outputs": [
        {
          "output_type": "stream",
          "name": "stdout",
          "text": [
            "reverse(True) ➞ False\n",
            "reverse(False) ➞ True\n",
            "reverse(0) ➞ boolean expected\n",
            "reverse(None) ➞ boolean expected\n"
          ]
        }
      ]
    },
    {
      "cell_type": "markdown",
      "source": [
        "Question3\n",
        "Create a function that returns the thickness (in meters) of a piece of paper after folding it n\n",
        "number of times. The paper starts off with a thickness of 0.5mm.\n",
        "Examples\n",
        "num_layers(1) ➞ &quot;0.001m&quot;\n",
        "# Paper folded once is 1mm (equal to 0.001m)\n",
        "num_layers(4) ➞ &quot;0.008m&quot;\n",
        "# Paper folded 4 times is 8mm (equal to 0.008m)\n",
        "num_layers(21) ➞ &quot;1048.576m&quot;\n",
        "# Paper folded 21 times is 1048576mm (equal to 1048.576m)"
      ],
      "metadata": {
        "id": "c47F5DRk5hDa"
      }
    },
    {
      "cell_type": "code",
      "source": [
        "def num_layers(input_number):\n",
        "    output_number= 0.5\n",
        "    for element in range(input_number):\n",
        "       output_number *=2\n",
        "    print(f'Output -> {output_number/1000}m')\n",
        "\n",
        "num_layers(1)\n",
        "num_layers(4)\n",
        "num_layers(21)\n"
      ],
      "metadata": {
        "colab": {
          "base_uri": "https://localhost:8080/"
        },
        "id": "9P3k0Pxmckgm",
        "outputId": "869c6484-f94f-430d-b856-c088e23b92d9"
      },
      "execution_count": 6,
      "outputs": [
        {
          "output_type": "stream",
          "name": "stdout",
          "text": [
            "Output -> 0.001m\n",
            "Output -> 0.008m\n",
            "Output -> 1048.576m\n"
          ]
        }
      ]
    },
    {
      "cell_type": "markdown",
      "source": [
        "Question4\n",
        "\n",
        "Create a function that takes a single string as argument and returns an ordered list containing\n",
        "the indices of all capital letters in the string.\n",
        "Examples\n",
        "index_of_caps(&quot;eDaBiT&quot;) ➞ [1, 3, 5]\n",
        "index_of_caps(&quot;eQuINoX&quot;) ➞ [1, 3, 4, 6]\n",
        "index_of_caps(&quot;determine&quot;) ➞ []\n",
        "index_of_caps(&quot;STRIKE&quot;) ➞ [0, 1, 2, 3, 4, 5]\n",
        "index_of_caps(&quot;sUn&quot;) ➞ [1]"
      ],
      "metadata": {
        "id": "VAGibT_Q95lJ"
      }
    },
    {
      "cell_type": "code",
      "source": [
        "def index_of_caps(input_string):\n",
        "    output_string = []\n",
        "    for element in input_string:\n",
        "       if element.isupper():\n",
        "         output_string.append(input_string.index(element))\n",
        "    print(f'{input_string} -> {output_string}')\n",
        "index_of_caps(\"eDaBiT\")\n",
        "index_of_caps(\"eQuINoX\")\n",
        "index_of_caps(\"determine\")\n",
        "index_of_caps(\"STRIKE\")\n",
        "index_of_caps(\"sUn\")\n"
      ],
      "metadata": {
        "colab": {
          "base_uri": "https://localhost:8080/"
        },
        "id": "oRTIKEe_ckdA",
        "outputId": "92372d39-eda5-4b82-edb1-d1ef05344d25"
      },
      "execution_count": 8,
      "outputs": [
        {
          "output_type": "stream",
          "name": "stdout",
          "text": [
            "eDaBiT -> [1, 3, 5]\n",
            "eQuINoX -> [1, 3, 4, 6]\n",
            "determine -> []\n",
            "STRIKE -> [0, 1, 2, 3, 4, 5]\n",
            "sUn -> [1]\n"
          ]
        }
      ]
    },
    {
      "cell_type": "markdown",
      "source": [
        "Question5\n",
        "Using list comprehensions, create a function that finds all even numbers from 1 to the given\n",
        "number.\n",
        "Examples\n",
        "find_even_nums(8) ➞ [2, 4, 6, 8]\n",
        "find_even_nums(4) ➞ [2, 4]\n",
        "find_even_nums(2) ➞ [2]"
      ],
      "metadata": {
        "id": "zmTsdM6MAACp"
      }
    },
    {
      "cell_type": "code",
      "source": [
        "def find_even_numbers(input_number):\n",
        "    output_list = []\n",
        "    for i in range(1,input_number+1):\n",
        "       if i % 2 == 0 :\n",
        "         output_list.append(i)\n",
        "    print(f'Output -> {output_list}') \n",
        "find_even_numbers(8)\n",
        "find_even_numbers(4)\n",
        "find_even_numbers(2)\n"
      ],
      "metadata": {
        "colab": {
          "base_uri": "https://localhost:8080/"
        },
        "id": "9tFBET2_ckZ9",
        "outputId": "ac9ed24c-4999-44ed-c354-3f04f814e445"
      },
      "execution_count": 9,
      "outputs": [
        {
          "output_type": "stream",
          "name": "stdout",
          "text": [
            "Output -> [2, 4, 6, 8]\n",
            "Output -> [2, 4]\n",
            "Output -> [2]\n"
          ]
        }
      ]
    },
    {
      "cell_type": "code",
      "source": [],
      "metadata": {
        "id": "vZCaTNNncjuo"
      },
      "execution_count": null,
      "outputs": []
    },
    {
      "cell_type": "code",
      "source": [],
      "metadata": {
        "id": "DJIhuN-4cjrg"
      },
      "execution_count": null,
      "outputs": []
    },
    {
      "cell_type": "code",
      "source": [],
      "metadata": {
        "id": "TKg5qYuJcjoY"
      },
      "execution_count": null,
      "outputs": []
    },
    {
      "cell_type": "code",
      "source": [],
      "metadata": {
        "id": "o4Elr-3NcjlD"
      },
      "execution_count": null,
      "outputs": []
    },
    {
      "cell_type": "code",
      "source": [],
      "metadata": {
        "id": "mcHXERxncjhd"
      },
      "execution_count": null,
      "outputs": []
    },
    {
      "cell_type": "code",
      "source": [],
      "metadata": {
        "id": "QHObt9rDcjem"
      },
      "execution_count": null,
      "outputs": []
    },
    {
      "cell_type": "code",
      "execution_count": null,
      "metadata": {
        "id": "Zeccuy5dXVg4"
      },
      "outputs": [],
      "source": []
    }
  ]
}