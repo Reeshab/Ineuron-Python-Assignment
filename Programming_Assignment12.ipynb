{
  "nbformat": 4,
  "nbformat_minor": 0,
  "metadata": {
    "colab": {
      "provenance": [],
      "collapsed_sections": [],
      "authorship_tag": "ABX9TyMD9yONzZ2sWzVr0jpaf3i0",
      "include_colab_link": true
    },
    "kernelspec": {
      "name": "python3",
      "display_name": "Python 3"
    },
    "language_info": {
      "name": "python"
    }
  },
  "cells": [
    {
      "cell_type": "markdown",
      "metadata": {
        "id": "view-in-github",
        "colab_type": "text"
      },
      "source": [
        "<a href=\"https://colab.research.google.com/github/Reeshab/Ineuron-Python-Assignment/blob/main/Programming_Assignment12.ipynb\" target=\"_parent\"><img src=\"https://colab.research.google.com/assets/colab-badge.svg\" alt=\"Open In Colab\"/></a>"
      ]
    },
    {
      "cell_type": "markdown",
      "source": [
        "1. Write a Python program to Extract Unique values dictionary values?"
      ],
      "metadata": {
        "id": "amlfvl9-nCg4"
      }
    },
    {
      "cell_type": "code",
      "execution_count": 1,
      "metadata": {
        "id": "lHN-xwDtH8Pc",
        "colab": {
          "base_uri": "https://localhost:8080/"
        },
        "outputId": "2ac56987-7813-451e-be78-de572c5a6479"
      },
      "outputs": [
        {
          "output_type": "stream",
          "name": "stdout",
          "text": [
            "dict_values(['Mumbai', 'Chennai', 'Ahemadabad', 'Delhi', 'Kolkata', 'Guhawati'])\n",
            "Unique Values: ['Delhi', 'Chennai', 'Mumbai', 'Guhawati', 'Ahemadabad', 'Kolkata']\n"
          ]
        }
      ],
      "source": [
        "input_dict = {1:'Mumbai',2:'Chennai',3:'Ahemadabad',5:'Delhi',6:'Kolkata',7:'Guhawati'}\n",
        "print(input_dict.values())\n",
        "print(f'Unique Values: {list(set(input_dict.values()))}')"
      ]
    },
    {
      "cell_type": "markdown",
      "source": [
        "2. Write a Python program to find the sum of all items in a dictionary?"
      ],
      "metadata": {
        "id": "pzOmW7oivpNY"
      }
    },
    {
      "cell_type": "code",
      "source": [
        "input_dict = {'Apple': 10,'Mango': 40,'Chilly': 50,'Guva':30,'Lemon':200}\n",
        "print('Sum of all items: ', sum(input_dict.values()))"
      ],
      "metadata": {
        "id": "JGm2yWReIJ1l",
        "colab": {
          "base_uri": "https://localhost:8080/"
        },
        "outputId": "8a1402f5-bc54-448d-98f5-9d93664e4396"
      },
      "execution_count": 4,
      "outputs": [
        {
          "output_type": "stream",
          "name": "stdout",
          "text": [
            "Sum of all items:  330\n"
          ]
        }
      ]
    },
    {
      "cell_type": "markdown",
      "source": [
        "3. Write a Python program to Merging two Dictionaries?"
      ],
      "metadata": {
        "id": "PrS8nNkCwGbd"
      }
    },
    {
      "cell_type": "code",
      "source": [
        "DictionaryOne = {\"key1\": \"Value1\", \"Key2\": \"Value2\"}\n",
        "DictionaryTwo = {\"key3\": \"Value3\", \"Key4\": \"Value4\"}\n",
        "\n",
        "DictionaryOne.update(DictionaryTwo)\n",
        "print(DictionaryOne)"
      ],
      "metadata": {
        "id": "I_s-Gi_PIJ4h",
        "colab": {
          "base_uri": "https://localhost:8080/"
        },
        "outputId": "f8e7d3aa-7564-466c-ba52-ca25dd472fed"
      },
      "execution_count": 9,
      "outputs": [
        {
          "output_type": "stream",
          "name": "stdout",
          "text": [
            "{'key1': 'Value1', 'Key2': 'Value2', 'key3': 'Value3', 'Key4': 'Value4'}\n"
          ]
        }
      ]
    },
    {
      "cell_type": "markdown",
      "source": [
        "4. Write a Python program to convert key-values list to flat dictionary?"
      ],
      "metadata": {
        "id": "n1VByfukwKAF"
      }
    },
    {
      "cell_type": "code",
      "source": [
        "in_list = [('A',10),('B',20),('C',30),('D',40),('E',50),('F',60),('G',70),('H',80),('I',90),('J',100)]\n",
        "\n",
        "dict(in_list)"
      ],
      "metadata": {
        "id": "yXtkLeqnIJ7S",
        "colab": {
          "base_uri": "https://localhost:8080/"
        },
        "outputId": "ac55bd32-33c0-4b5a-88df-f8f077c054e7"
      },
      "execution_count": 10,
      "outputs": [
        {
          "output_type": "execute_result",
          "data": {
            "text/plain": [
              "{'A': 10,\n",
              " 'B': 20,\n",
              " 'C': 30,\n",
              " 'D': 40,\n",
              " 'E': 50,\n",
              " 'F': 60,\n",
              " 'G': 70,\n",
              " 'H': 80,\n",
              " 'I': 90,\n",
              " 'J': 100}"
            ]
          },
          "metadata": {},
          "execution_count": 10
        }
      ]
    },
    {
      "cell_type": "markdown",
      "source": [
        "5. Write a Python program to insertion at the beginning in OrderedDict?"
      ],
      "metadata": {
        "id": "1esT1LWiwNni"
      }
    },
    {
      "cell_type": "code",
      "source": [
        "from collections import OrderedDict\n",
        "dict_one = OrderedDict({'Apple':'Iphone','Microsoft':'Windows','Google':'chrome'})\n",
        "print('dict_one',dict_one)\n",
        "dict_two = {'Tesla':'SpaceX'}\n",
        "dict_one.update(dict_two)\n",
        "print('dict_one',dict_one)\n",
        "dict_one.move_to_end('Tesla',last=False)\n",
        "print('dict_one',dict_one)"
      ],
      "metadata": {
        "id": "v7yaaj_TIJ-P",
        "colab": {
          "base_uri": "https://localhost:8080/"
        },
        "outputId": "73699449-387a-4623-bc5a-5b1ea5882bcf"
      },
      "execution_count": 11,
      "outputs": [
        {
          "output_type": "stream",
          "name": "stdout",
          "text": [
            "dict_one OrderedDict([('Apple', 'Iphone'), ('Microsoft', 'Windows'), ('Google', 'chrome')])\n",
            "dict_one OrderedDict([('Apple', 'Iphone'), ('Microsoft', 'Windows'), ('Google', 'chrome'), ('Tesla', 'SpaceX')])\n",
            "dict_one OrderedDict([('Tesla', 'SpaceX'), ('Apple', 'Iphone'), ('Microsoft', 'Windows'), ('Google', 'chrome')])\n"
          ]
        }
      ]
    },
    {
      "cell_type": "markdown",
      "source": [
        "6. Write a Python program to check order of character in string using OrderedDict()?"
      ],
      "metadata": {
        "id": "wr7BOIRzwSta"
      }
    },
    {
      "cell_type": "code",
      "source": [
        "from collections import OrderedDict\n",
        "\n",
        "initial_list = {'a': 1000, 'f': 200, 'd': 300, 'c': 400, 'b': 500, 'e': 600}\n",
        "print(initial_list)\n",
        "\n",
        "final_list = OrderedDict(dict(sorted(initial_list.items())))\n",
        "print(final_list)"
      ],
      "metadata": {
        "id": "zAtSpxHsIKBY",
        "colab": {
          "base_uri": "https://localhost:8080/"
        },
        "outputId": "1ad4b8d6-9505-4773-cf82-3b6af382dea8"
      },
      "execution_count": 12,
      "outputs": [
        {
          "output_type": "stream",
          "name": "stdout",
          "text": [
            "{'a': 1000, 'f': 200, 'd': 300, 'c': 400, 'b': 500, 'e': 600}\n",
            "OrderedDict([('a', 1000), ('b', 500), ('c', 400), ('d', 300), ('e', 600), ('f', 200)])\n"
          ]
        }
      ]
    },
    {
      "cell_type": "markdown",
      "source": [
        "7. Write a Python program to sort Python Dictionaries by Key or Value?"
      ],
      "metadata": {
        "id": "LFlVhEzLwV58"
      }
    },
    {
      "cell_type": "code",
      "source": [
        "d_items = {'Mango':100,'PineApple':22,'Banana':60,'Grape':13}\n",
        "\n",
        "def sort_dict(in_dict,sort_type):\n",
        "    if sort_type == 'key':\n",
        "        print(dict(sorted(in_dict.items(), key=lambda x:x[0], reverse=False)))\n",
        "    else:\n",
        "        print(dict(sorted(in_dict.items(), key=lambda x:x[1], reverse=False)))\n",
        "        \n",
        "sort_dict(d_items,'key')        \n",
        "sort_dict(d_items,'value')"
      ],
      "metadata": {
        "id": "P5KwmwIgIKEY",
        "colab": {
          "base_uri": "https://localhost:8080/"
        },
        "outputId": "b48f1cb3-bbba-405e-b209-e753b733799c"
      },
      "execution_count": 13,
      "outputs": [
        {
          "output_type": "stream",
          "name": "stdout",
          "text": [
            "{'Banana': 60, 'Grape': 13, 'Mango': 100, 'PineApple': 22}\n",
            "{'Grape': 13, 'PineApple': 22, 'Banana': 60, 'Mango': 100}\n"
          ]
        }
      ]
    },
    {
      "cell_type": "code",
      "source": [],
      "metadata": {
        "id": "NC3DGP6pIKHU"
      },
      "execution_count": null,
      "outputs": []
    },
    {
      "cell_type": "code",
      "source": [],
      "metadata": {
        "id": "GOPEIfNRIKKO"
      },
      "execution_count": null,
      "outputs": []
    },
    {
      "cell_type": "code",
      "source": [],
      "metadata": {
        "id": "EjTPoZ5wIKNm"
      },
      "execution_count": null,
      "outputs": []
    }
  ]
}