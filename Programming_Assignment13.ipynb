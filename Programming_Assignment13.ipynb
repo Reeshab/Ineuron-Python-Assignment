{
  "nbformat": 4,
  "nbformat_minor": 0,
  "metadata": {
    "colab": {
      "provenance": [],
      "collapsed_sections": [],
      "authorship_tag": "ABX9TyM6YyyTjS616rZxdcONLzwI",
      "include_colab_link": true
    },
    "kernelspec": {
      "name": "python3",
      "display_name": "Python 3"
    },
    "language_info": {
      "name": "python"
    }
  },
  "cells": [
    {
      "cell_type": "markdown",
      "metadata": {
        "id": "view-in-github",
        "colab_type": "text"
      },
      "source": [
        "<a href=\"https://colab.research.google.com/github/Reeshab/Ineuron-Python-Assignment/blob/main/Programming_Assignment13.ipynb\" target=\"_parent\"><img src=\"https://colab.research.google.com/assets/colab-badge.svg\" alt=\"Open In Colab\"/></a>"
      ]
    },
    {
      "cell_type": "markdown",
      "source": [
        "Question 1:\n",
        "Write a program that calculates and prints the value according to the given formula:\n",
        "Q = Square root of [(2 * C * D)/H]\n",
        "Following are the fixed values of C and H:\n",
        "C is 50. H is 30.\n",
        "D is the variable whose values should be input to your program in a comma-separated\n",
        "sequence.\n",
        "Example\n",
        "Let us assume the following comma separated input sequence is given to the program:\n",
        "100,150,180\n",
        "The output of the program should be:\n",
        "18,22,24"
      ],
      "metadata": {
        "id": "FlYG93sLF8A9"
      }
    },
    {
      "cell_type": "code",
      "execution_count": 18,
      "metadata": {
        "colab": {
          "base_uri": "https://localhost:8080/"
        },
        "id": "iP2qX3VZFT7v",
        "outputId": "693f6bd1-f5b6-441c-9a5e-55a6a1a950d8"
      },
      "outputs": [
        {
          "output_type": "stream",
          "name": "stdout",
          "text": [
            "Enter the numbers: 100,150,180\n",
            "Output: 18,22,24\n"
          ]
        }
      ],
      "source": [
        "from math import sqrt\n",
        "def calculate():\n",
        "    input_numbers = eval(input(\"Enter the numbers: \"))\n",
        "    output_number = []\n",
        "    C = 50 # Declaring value for constant C\n",
        "    H = 30 # Declaring value for constant H\n",
        "    for element in input_numbers:  \n",
        "          Q = str(int(sqrt((2*C*element)/H)))\n",
        "          output_number.append(Q)\n",
        "    \n",
        "    print(\"Output: {}\".format(','.join(output_number)))\n",
        "calculate()      \n"
      ]
    },
    {
      "cell_type": "markdown",
      "source": [
        "Write a program which takes 2 digits, X,Y as input and generates a 2-dimensional array. The\n",
        "element value in the i-th row and j-th column of the array should be i*j.\n",
        "Note: i=0,1.., X-1; j=0,1,¡Y-1.\n",
        "Example\n",
        "Suppose the following inputs are given to the program:\n",
        "3,5\n",
        "Then, the output of the program should be:\n",
        "[[0, 0, 0, 0, 0], [0, 1, 2, 3, 4], [0, 2, 4, 6, 8]]"
      ],
      "metadata": {
        "id": "RSTlOl_tUIJA"
      }
    },
    {
      "cell_type": "code",
      "source": [
        "import array as arr\n",
        "def Arraygeneration():\n",
        "    input_x = int(input('Enter the number of Rows: '))\n",
        "    input_y = int(input('Enter the number of Columns: '))\n",
        "    output_array = []\n",
        "    for element in range (input_x):\n",
        "        output_array.insert(input_x,[])\n",
        "        for sub_element in range(input_y):\n",
        "            output_array[element].append(element*sub_element)\n",
        "    print(output_array)\n",
        "\n",
        "Arraygeneration()    \n",
        "\n"
      ],
      "metadata": {
        "colab": {
          "base_uri": "https://localhost:8080/"
        },
        "id": "XUvLGzJVFWc8",
        "outputId": "6c17729d-4449-41cd-bb56-6a431f07aef4"
      },
      "execution_count": 19,
      "outputs": [
        {
          "output_type": "stream",
          "name": "stdout",
          "text": [
            "Enter the number of Rows: 3\n",
            "Enter the number of Columns: 5\n",
            "[[0, 0, 0, 0, 0], [0, 1, 2, 3, 4], [0, 2, 4, 6, 8]]\n"
          ]
        }
      ]
    },
    {
      "cell_type": "markdown",
      "source": [
        "Question 3:\n",
        "Write a program that accepts a comma separated sequence of words as input and prints the\n",
        "words in a comma-separated sequence after sorting them alphabetically.\n",
        "Suppose the following input is supplied to the program:\n",
        "without,hello,bag,world\n",
        "Then, the output should be:\n",
        "bag,hello,without,world"
      ],
      "metadata": {
        "id": "dumRBPtkatRJ"
      }
    },
    {
      "cell_type": "code",
      "source": [
        "def sortString():\n",
        "  input_string = input(\"Enter the Input String: \")\n",
        "  output_string = ','.join(sorted(input_string.split(',')))\n",
        "  print(f'Output: {output_string}')\n",
        "\n",
        "sortString()  "
      ],
      "metadata": {
        "colab": {
          "base_uri": "https://localhost:8080/"
        },
        "id": "2hf5SHPyFWfj",
        "outputId": "3540744a-5bec-452a-a5e5-96e0f1b94ca0"
      },
      "execution_count": 20,
      "outputs": [
        {
          "output_type": "stream",
          "name": "stdout",
          "text": [
            "Enter the Input String: without,hello,bag,world\n",
            "Output: bag,hello,without,world\n"
          ]
        }
      ]
    },
    {
      "cell_type": "markdown",
      "source": [
        "Question 4:\n",
        "Write a program that accepts a sequence of whitespace separated words as input and prints\n",
        "the words after removing all duplicate words and sorting them alphanumerically.\n",
        "Suppose the following input is supplied to the program:\n",
        "hello world and practice makes perfect and hello world again\n",
        "Then, the output should be:\n",
        "again and hello makes perfect practice world"
      ],
      "metadata": {
        "id": "mPSce3YZdkF-"
      }
    },
    {
      "cell_type": "code",
      "source": [
        "def sortAlphanumerically():\n",
        "    input_string = input(\"Enter the Input string: \")\n",
        "    output_string = ''.join(sorted(list(set(input_string.split(\" \")))))\n",
        "    print(f'Output: {output_string}')\n",
        "sortAlphanumerically()    "
      ],
      "metadata": {
        "colab": {
          "base_uri": "https://localhost:8080/"
        },
        "id": "_R6UolzeFWiM",
        "outputId": "7486fcbc-97f5-4209-f931-27033459f3b3"
      },
      "execution_count": 21,
      "outputs": [
        {
          "output_type": "stream",
          "name": "stdout",
          "text": [
            "Enter the Input string: hello world and practice makes perfect and hello world again\n",
            "Output: againandhellomakesperfectpracticeworld\n"
          ]
        }
      ]
    },
    {
      "cell_type": "markdown",
      "source": [
        "Write a program that accepts a sentence and calculate the number of letters and digits.\n",
        "Suppose the following input is supplied to the program:\n",
        "hello world! 123\n",
        "Then, the output should be:\n",
        "LETTERS 10\n",
        "\n",
        "DIGITS 3"
      ],
      "metadata": {
        "id": "ohbOYyjofO1Q"
      }
    },
    {
      "cell_type": "code",
      "source": [
        "def countletteranddigits():\n",
        "    input_string = input(\"Enter the input string: \")\n",
        "    lettersList = 'ABCDEFGHIJKLMNOPQRSTUVWXYZabcdefghijklmnopqrstuvwxyz'\n",
        "    digitsList = '0123456789'\n",
        "    letters = 0\n",
        "    digits = 0\n",
        "    for element in input_string:\n",
        "        if element in lettersList:\n",
        "             letters += 1\n",
        "        if element in digitsList:\n",
        "             digits   += 1\n",
        "    print(f'LETTERS {letters} \\nDIGITS {digits}')\n",
        "countletteranddigits()               \n"
      ],
      "metadata": {
        "colab": {
          "base_uri": "https://localhost:8080/"
        },
        "id": "cohE1vp0FWlB",
        "outputId": "a711677c-a674-47e0-ca08-42fd79b7746a"
      },
      "execution_count": 4,
      "outputs": [
        {
          "output_type": "stream",
          "name": "stdout",
          "text": [
            "Enter the input string: hello world! 123\n",
            "LETTERS 10 \n",
            "DIGITS 3\n"
          ]
        }
      ]
    },
    {
      "cell_type": "markdown",
      "source": [],
      "metadata": {
        "id": "3w3l5wptClS3"
      }
    },
    {
      "cell_type": "markdown",
      "source": [
        "A website requires the users to input username and password to register. Write a program to\n",
        "check the validity of password input by users.\n",
        "Following are the criteria for checking the password:\n",
        "1. At least 1 letter between [a-z]\n",
        "2. At least 1 number between [0-9]\n",
        "1. At least 1 letter between [A-Z]\n",
        "3. At least 1 character from [$#@]\n",
        "4. Minimum length of transaction password: 6\n",
        "5. Maximum length of transaction password: 12\n",
        "Your program should accept a sequence of comma separated passwords and will check them\n",
        "according to the above criteria. Passwords that match the criteria are to be printed, each\n",
        "separated by a comma.\n",
        "Example\n",
        "If the following passwords are given as input to the program:\n",
        "ABd1234@1,a F1#,2w3E*,2We3345\n",
        "Then, the output of the program should be:\n",
        "ABd1234@1"
      ],
      "metadata": {
        "id": "ceqhZX38DjRb"
      }
    },
    {
      "cell_type": "code",
      "source": [
        "def checkPassword():\n",
        "    input_string = input(\"Enter the input string: \")\n",
        "    small_list = \"abcdefghijklmnopqrstuvwxyz\"\n",
        "    cap_list = \"ABCDEFGHIJKLMNOPQRSTUVWXYZ\"\n",
        "    num_list = \"0123456789\"\n",
        "    special_list = \"$#@\"\n",
        "    for element in input_string.split(\",\"):\n",
        "        if len(element) <= 12 and len(element) >=6 :\n",
        "            if any(i.isupper() for i in element):\n",
        "                if any(i.islower() for i in element):\n",
        "                    if any(i for i in element if i in special_list):\n",
        "                        print(element)\n",
        "                               \n",
        "checkPassword() \n"
      ],
      "metadata": {
        "colab": {
          "base_uri": "https://localhost:8080/"
        },
        "id": "ikOzEyrvFWn2",
        "outputId": "b5cc27f2-92c1-48ca-c62b-d8658de8e419"
      },
      "execution_count": 8,
      "outputs": [
        {
          "output_type": "stream",
          "name": "stdout",
          "text": [
            "Enter the input string: ABd1234@1,a F1#,2w3E*,2We3345\n",
            "ABd1234@1\n"
          ]
        }
      ]
    },
    {
      "cell_type": "code",
      "source": [],
      "metadata": {
        "id": "-35C4tAqCjnO"
      },
      "execution_count": null,
      "outputs": []
    },
    {
      "cell_type": "code",
      "source": [],
      "metadata": {
        "id": "iSKzAn21CjqJ"
      },
      "execution_count": null,
      "outputs": []
    },
    {
      "cell_type": "code",
      "source": [],
      "metadata": {
        "id": "7lY-TfXdCjtM"
      },
      "execution_count": null,
      "outputs": []
    },
    {
      "cell_type": "code",
      "source": [],
      "metadata": {
        "id": "3S2qqp41Cjv4"
      },
      "execution_count": null,
      "outputs": []
    },
    {
      "cell_type": "code",
      "source": [],
      "metadata": {
        "id": "S-7UYppjCjze"
      },
      "execution_count": null,
      "outputs": []
    },
    {
      "cell_type": "code",
      "source": [],
      "metadata": {
        "id": "EwwsMraaFWqy"
      },
      "execution_count": null,
      "outputs": []
    },
    {
      "cell_type": "code",
      "source": [],
      "metadata": {
        "id": "I0asistEFWuL"
      },
      "execution_count": null,
      "outputs": []
    }
  ]
}