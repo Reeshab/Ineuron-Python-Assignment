{
  "nbformat": 4,
  "nbformat_minor": 0,
  "metadata": {
    "colab": {
      "provenance": [],
      "collapsed_sections": [],
      "authorship_tag": "ABX9TyMdNJ0QGkMcqBB13h090RPL",
      "include_colab_link": true
    },
    "kernelspec": {
      "name": "python3",
      "display_name": "Python 3"
    },
    "language_info": {
      "name": "python"
    }
  },
  "cells": [
    {
      "cell_type": "markdown",
      "metadata": {
        "id": "view-in-github",
        "colab_type": "text"
      },
      "source": [
        "<a href=\"https://colab.research.google.com/github/Reeshab/Ineuron-Python-Assignment/blob/main/Assignment_6.ipynb\" target=\"_parent\"><img src=\"https://colab.research.google.com/assets/colab-badge.svg\" alt=\"Open In Colab\"/></a>"
      ]
    },
    {
      "cell_type": "markdown",
      "source": [
        "1. What are escape characters, and how do you use them?"
      ],
      "metadata": {
        "id": "cL0gAW7M7gTX"
      }
    },
    {
      "cell_type": "markdown",
      "source": [
        "Escape characters represent characters in string values that would otherwise be difficult or impossible to type into code. some of Escape characters in python are /',//,/n,/r,/t"
      ],
      "metadata": {
        "id": "nPUxriUt7-5o"
      }
    },
    {
      "cell_type": "code",
      "execution_count": 1,
      "metadata": {
        "colab": {
          "base_uri": "https://localhost:8080/",
          "height": 131
        },
        "id": "YGqOI2Ut6XQF",
        "outputId": "d7182685-926b-4635-8b93-b6967a0a099a"
      },
      "outputs": [
        {
          "output_type": "error",
          "ename": "SyntaxError",
          "evalue": "ignored",
          "traceback": [
            "\u001b[0;36m  File \u001b[0;32m\"<ipython-input-1-b187d05d7c93>\"\u001b[0;36m, line \u001b[0;32m2\u001b[0m\n\u001b[0;31m    a =\"my name is\"Reeshab Kumar Nayak\" \"# we will get an error if you use double quotes inside a string that is surrounded by double quote\u001b[0m\n\u001b[0m                         ^\u001b[0m\n\u001b[0;31mSyntaxError\u001b[0m\u001b[0;31m:\u001b[0m invalid syntax\n"
          ]
        }
      ],
      "source": [
        "#example 1\n",
        "a =\"my name is\"Reeshab Kumar Nayak\" \"# we will get an error if you use double quotes inside a string that is surrounded by double quote "
      ]
    },
    {
      "cell_type": "code",
      "source": [
        "#  we can resolve about by using  String between \\\" \\\" escape character\n",
        "a =\"my name is \\\"Reeshab Kumar Nayak\\\" \"\n",
        "print(a)"
      ],
      "metadata": {
        "colab": {
          "base_uri": "https://localhost:8080/"
        },
        "id": "IET9wvFo63da",
        "outputId": "f9bc7b62-fc9e-45af-9418-f08dd5bff886"
      },
      "execution_count": 3,
      "outputs": [
        {
          "output_type": "stream",
          "name": "stdout",
          "text": [
            "my name is \"Reeshab Kumar Nayak\" \n"
          ]
        }
      ]
    },
    {
      "cell_type": "markdown",
      "source": [
        "2. What do the escape characters n and t stand for?"
      ],
      "metadata": {
        "id": "BEQP0W1j-_Y9"
      }
    },
    {
      "cell_type": "markdown",
      "source": [
        "the escape characters n and t stand for \\n is a newline and \\t is a tab."
      ],
      "metadata": {
        "id": "4dxIkDFh_FPU"
      }
    },
    {
      "cell_type": "markdown",
      "source": [
        "3. What is the way to include backslash characters in a string?"
      ],
      "metadata": {
        "id": "gAU8y0ef_PqT"
      }
    },
    {
      "cell_type": "markdown",
      "source": [
        "The \\ escape character will represent a backslash character."
      ],
      "metadata": {
        "id": "cUh-6WHX_aDd"
      }
    },
    {
      "cell_type": "code",
      "source": [
        "# example\n",
        "a=10\n",
        "b=2\n",
        "c=a/b\n",
        "print(f\"{a}\\\\{b} is\",c)"
      ],
      "metadata": {
        "colab": {
          "base_uri": "https://localhost:8080/"
        },
        "id": "M2MYXWOo63gN",
        "outputId": "85599fde-eeef-4358-ae19-25e4946748dd"
      },
      "execution_count": 4,
      "outputs": [
        {
          "output_type": "stream",
          "name": "stdout",
          "text": [
            "10\\2 is 5.0\n"
          ]
        }
      ]
    },
    {
      "cell_type": "markdown",
      "source": [
        "4. The string &quot;Howl&#39;s Moving Castle&quot; is a correct value. Why isn&#39;t the single quote character in the\n",
        "word Howl&#39;s not escaped a problem?"
      ],
      "metadata": {
        "id": "g43wB9j4_nmV"
      }
    },
    {
      "cell_type": "markdown",
      "source": [
        "The single quote in Howl's is fine because you’ve used double quotes to mark the beginning and end of the string"
      ],
      "metadata": {
        "id": "MERqevaf_u1D"
      }
    },
    {
      "cell_type": "code",
      "source": [
        "#  with in single quote\n",
        "'Howl's Moving Castle'"
      ],
      "metadata": {
        "colab": {
          "base_uri": "https://localhost:8080/",
          "height": 131
        },
        "id": "DOPWr_EJ63jK",
        "outputId": "f61d09be-620b-4ed3-a344-c7eef45122c8"
      },
      "execution_count": 5,
      "outputs": [
        {
          "output_type": "error",
          "ename": "SyntaxError",
          "evalue": "ignored",
          "traceback": [
            "\u001b[0;36m  File \u001b[0;32m\"<ipython-input-5-79814ceb744e>\"\u001b[0;36m, line \u001b[0;32m2\u001b[0m\n\u001b[0;31m    'Howl's Moving Castle'\u001b[0m\n\u001b[0m          ^\u001b[0m\n\u001b[0;31mSyntaxError\u001b[0m\u001b[0;31m:\u001b[0m invalid syntax\n"
          ]
        }
      ]
    },
    {
      "cell_type": "code",
      "source": [
        "#with in double quote\n",
        "\"Howl's Moving Castle\""
      ],
      "metadata": {
        "colab": {
          "base_uri": "https://localhost:8080/",
          "height": 35
        },
        "id": "PUrOZPuz63lr",
        "outputId": "b5374b31-e08f-460e-841d-b0b81d0e2661"
      },
      "execution_count": 6,
      "outputs": [
        {
          "output_type": "execute_result",
          "data": {
            "text/plain": [
              "\"Howl's Moving Castle\""
            ],
            "application/vnd.google.colaboratory.intrinsic+json": {
              "type": "string"
            }
          },
          "metadata": {},
          "execution_count": 6
        }
      ]
    },
    {
      "cell_type": "markdown",
      "source": [
        "5. How do you write a string of newlines if you don&#39;t want to use the n character?"
      ],
      "metadata": {
        "id": "JxZ3pt8uAeAX"
      }
    },
    {
      "cell_type": "markdown",
      "source": [
        "Multiline strings allow you to use newlines in strings without the \\n escape character."
      ],
      "metadata": {
        "id": "ATnEXqr-Ay8Z"
      }
    },
    {
      "cell_type": "code",
      "source": [
        "a= \"\"\"My name\n",
        "is \n",
        "Reeshab Kumar Nayak\"\"\""
      ],
      "metadata": {
        "id": "AlHa-QhO63oY"
      },
      "execution_count": 7,
      "outputs": []
    },
    {
      "cell_type": "code",
      "source": [
        "print(a)"
      ],
      "metadata": {
        "colab": {
          "base_uri": "https://localhost:8080/"
        },
        "id": "r8UbuLMX63rJ",
        "outputId": "b2ac2131-c922-4ce4-b01e-57fec2b26fa7"
      },
      "execution_count": 8,
      "outputs": [
        {
          "output_type": "stream",
          "name": "stdout",
          "text": [
            "My name\n",
            "is \n",
            "Sanath\n"
          ]
        }
      ]
    },
    {
      "cell_type": "markdown",
      "source": [
        "6. What are the values of the given expressions?"
      ],
      "metadata": {
        "id": "ZSqEFr2UBCF2"
      }
    },
    {
      "cell_type": "markdown",
      "source": [
        "&#39;Hello, world!&#39;[1]\n",
        "\n",
        "&#39;Hello, world!&#39;[0:5]\n",
        "\n",
        "&#39;Hello, world!&#39;[:5]\n",
        "\n",
        "&#39;Hello, world!&#39;[3:]"
      ],
      "metadata": {
        "id": "2Y9bhvv1C8HQ"
      }
    },
    {
      "cell_type": "code",
      "source": [
        "'Hello,world!'[1]"
      ],
      "metadata": {
        "colab": {
          "base_uri": "https://localhost:8080/",
          "height": 35
        },
        "id": "AQPhj9FE63w3",
        "outputId": "54279048-d6c2-4cb3-a582-f8aa9c310367"
      },
      "execution_count": 9,
      "outputs": [
        {
          "output_type": "execute_result",
          "data": {
            "text/plain": [
              "'e'"
            ],
            "application/vnd.google.colaboratory.intrinsic+json": {
              "type": "string"
            }
          },
          "metadata": {},
          "execution_count": 9
        }
      ]
    },
    {
      "cell_type": "code",
      "source": [
        "'Hello, world!'[0:5]"
      ],
      "metadata": {
        "colab": {
          "base_uri": "https://localhost:8080/",
          "height": 35
        },
        "id": "KKl_A75rDOXf",
        "outputId": "ff8c9b02-8e14-45d2-b444-e2fcf9c4ef67"
      },
      "execution_count": 10,
      "outputs": [
        {
          "output_type": "execute_result",
          "data": {
            "text/plain": [
              "'Hello'"
            ],
            "application/vnd.google.colaboratory.intrinsic+json": {
              "type": "string"
            }
          },
          "metadata": {},
          "execution_count": 10
        }
      ]
    },
    {
      "cell_type": "code",
      "source": [
        "'Hello, world!'[:5]"
      ],
      "metadata": {
        "colab": {
          "base_uri": "https://localhost:8080/",
          "height": 35
        },
        "id": "jD96QchpDOaE",
        "outputId": "950f9f3e-4abc-465c-fccc-45ac37680a22"
      },
      "execution_count": 11,
      "outputs": [
        {
          "output_type": "execute_result",
          "data": {
            "text/plain": [
              "'Hello'"
            ],
            "application/vnd.google.colaboratory.intrinsic+json": {
              "type": "string"
            }
          },
          "metadata": {},
          "execution_count": 11
        }
      ]
    },
    {
      "cell_type": "code",
      "source": [
        "'Hello, world!'[3:]"
      ],
      "metadata": {
        "colab": {
          "base_uri": "https://localhost:8080/",
          "height": 35
        },
        "id": "ZuAy5yvkDbh0",
        "outputId": "c30d1600-6c15-4639-a59e-130b9bc6277c"
      },
      "execution_count": 12,
      "outputs": [
        {
          "output_type": "execute_result",
          "data": {
            "text/plain": [
              "'lo, world!'"
            ],
            "application/vnd.google.colaboratory.intrinsic+json": {
              "type": "string"
            }
          },
          "metadata": {},
          "execution_count": 12
        }
      ]
    },
    {
      "cell_type": "markdown",
      "source": [
        "7. What are the values of the following expressions?\n",
        "&#39;Hello&#39;.upper()\n",
        "\n",
        "&#39;Hello&#39;.upper().isupper()\n",
        "\n",
        "&#39;Hello&#39;.upper().lower()\n",
        "\n",
        "&#39;Hello&#39;.upper()"
      ],
      "metadata": {
        "id": "FCXULjw0Df6C"
      }
    },
    {
      "cell_type": "code",
      "source": [
        "'Hello'.upper()"
      ],
      "metadata": {
        "colab": {
          "base_uri": "https://localhost:8080/",
          "height": 35
        },
        "id": "WCOkvpQeDbkq",
        "outputId": "e39ed099-1f05-4bb0-9ee1-0457cb7b5da1"
      },
      "execution_count": 13,
      "outputs": [
        {
          "output_type": "execute_result",
          "data": {
            "text/plain": [
              "'HELLO'"
            ],
            "application/vnd.google.colaboratory.intrinsic+json": {
              "type": "string"
            }
          },
          "metadata": {},
          "execution_count": 13
        }
      ]
    },
    {
      "cell_type": "code",
      "source": [
        "'Hello'.upper().isupper()"
      ],
      "metadata": {
        "colab": {
          "base_uri": "https://localhost:8080/"
        },
        "id": "m51W8F06Dbnf",
        "outputId": "530c04a9-5d43-49b7-e631-7e58a3af7c22"
      },
      "execution_count": 14,
      "outputs": [
        {
          "output_type": "execute_result",
          "data": {
            "text/plain": [
              "True"
            ]
          },
          "metadata": {},
          "execution_count": 14
        }
      ]
    },
    {
      "cell_type": "code",
      "source": [
        "'Hello'.upper().lower()"
      ],
      "metadata": {
        "colab": {
          "base_uri": "https://localhost:8080/",
          "height": 35
        },
        "id": "5KR1ryOGDbqx",
        "outputId": "1a1731bd-9d33-4129-9b84-f25a7b745e3d"
      },
      "execution_count": 15,
      "outputs": [
        {
          "output_type": "execute_result",
          "data": {
            "text/plain": [
              "'hello'"
            ],
            "application/vnd.google.colaboratory.intrinsic+json": {
              "type": "string"
            }
          },
          "metadata": {},
          "execution_count": 15
        }
      ]
    },
    {
      "cell_type": "markdown",
      "source": [
        "8. What are the values of the following expressions?\n",
        "\n",
        "&#39;Remember, remember, the fifth of July.&#39;.split()\n",
        "\n",
        "&#39;-&#39;.join(&#39;There can only one.&#39;.split())"
      ],
      "metadata": {
        "id": "u-UEBXLZF_V6"
      }
    },
    {
      "cell_type": "code",
      "source": [
        "'Remember, remember, the fifth of July.'.split()"
      ],
      "metadata": {
        "colab": {
          "base_uri": "https://localhost:8080/"
        },
        "id": "zsFzTxuxDOdb",
        "outputId": "5bdf9704-7c92-4d1e-c8e0-293878b9451e"
      },
      "execution_count": 16,
      "outputs": [
        {
          "output_type": "execute_result",
          "data": {
            "text/plain": [
              "['Remember,', 'remember,', 'the', 'fifth', 'of', 'July.']"
            ]
          },
          "metadata": {},
          "execution_count": 16
        }
      ]
    },
    {
      "cell_type": "code",
      "source": [
        "'-'.join('There can only one.'.split())"
      ],
      "metadata": {
        "colab": {
          "base_uri": "https://localhost:8080/",
          "height": 35
        },
        "id": "mJ75cTFmGGIP",
        "outputId": "1574c236-be40-497f-ce95-d2d30b300538"
      },
      "execution_count": 17,
      "outputs": [
        {
          "output_type": "execute_result",
          "data": {
            "text/plain": [
              "'There-can-only-one.'"
            ],
            "application/vnd.google.colaboratory.intrinsic+json": {
              "type": "string"
            }
          },
          "metadata": {},
          "execution_count": 17
        }
      ]
    },
    {
      "cell_type": "markdown",
      "source": [
        "9. What are the methods for right-justifying, left-justifying, and centering a string?"
      ],
      "metadata": {
        "id": "5MWy72hiGNu5"
      }
    },
    {
      "cell_type": "markdown",
      "source": [
        "The rjust(), ljust(), and center() string methods, respectively and this method sused for a new string of given length after substituting a given character in left side right and center of original string"
      ],
      "metadata": {
        "id": "tCt9cP5wGSnZ"
      }
    },
    {
      "cell_type": "code",
      "source": [
        "string = 'Hello'\n",
        "length = 10 # lenght used to  make original string  to taken lenght string \n",
        "print(\"Before using rjust(),ljust(),center() Sring is\")\n",
        "print(string)  \n",
        "# If no fill character is provided, space\n",
        "# is used as fill character\n",
        "print(\"after using rjust ()\")\n",
        "print(string.rjust(length,\"a\"))\n",
        "print(\"after using  center()\")\n",
        "print(string.center(length,\"a\"))\n",
        "print(\"after using ljust ()\")\n",
        "print(string.ljust(length,\"a\"))"
      ],
      "metadata": {
        "colab": {
          "base_uri": "https://localhost:8080/"
        },
        "id": "1jhK0mPBGGLI",
        "outputId": "92126c1b-ef74-49a3-a3ef-e3e5b45626ef"
      },
      "execution_count": 18,
      "outputs": [
        {
          "output_type": "stream",
          "name": "stdout",
          "text": [
            "Before using rjust(),ljust(),center() Sring is\n",
            "Hello\n",
            "after using rjust ()\n",
            "aaaaaHello\n",
            "after using  center()\n",
            "aaHelloaaa\n",
            "after using ljust ()\n",
            "Helloaaaaa\n"
          ]
        }
      ]
    },
    {
      "cell_type": "markdown",
      "source": [
        "10. What is the best way to remove whitespace characters from the start or end?"
      ],
      "metadata": {
        "id": "hCr_Ko-aGbGQ"
      }
    },
    {
      "cell_type": "markdown",
      "source": [
        "The lstrip() and rstrip() methods remove whitespace from the left and right ends of a string, respectively."
      ],
      "metadata": {
        "id": "z3Vta6X8GfPB"
      }
    },
    {
      "cell_type": "code",
      "source": [
        "#remove the whitespace from left side we used lstrip()\n",
        "a= \"      hello\"\n",
        "print(a.lstrip())"
      ],
      "metadata": {
        "colab": {
          "base_uri": "https://localhost:8080/"
        },
        "id": "LAqJHiOoGGOH",
        "outputId": "dff2178e-43cf-4819-a4b1-399451eb493f"
      },
      "execution_count": 19,
      "outputs": [
        {
          "output_type": "stream",
          "name": "stdout",
          "text": [
            "hello\n"
          ]
        }
      ]
    },
    {
      "cell_type": "code",
      "source": [
        "#remove the whitespace from right side we used rstrip()\n",
        "b=\"hi         \"\n",
        "print(b.lstrip())"
      ],
      "metadata": {
        "colab": {
          "base_uri": "https://localhost:8080/"
        },
        "id": "suYHQzwSGGQk",
        "outputId": "3c8e17b7-8915-410d-9ce7-1de974bb4b26"
      },
      "execution_count": 20,
      "outputs": [
        {
          "output_type": "stream",
          "name": "stdout",
          "text": [
            "hi         \n"
          ]
        }
      ]
    },
    {
      "cell_type": "code",
      "source": [],
      "metadata": {
        "id": "d2eX3b4jGGT6"
      },
      "execution_count": null,
      "outputs": []
    },
    {
      "cell_type": "code",
      "source": [],
      "metadata": {
        "id": "0EfY_MiO630S"
      },
      "execution_count": null,
      "outputs": []
    }
  ]
}