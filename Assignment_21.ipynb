{
  "nbformat": 4,
  "nbformat_minor": 0,
  "metadata": {
    "colab": {
      "provenance": [],
      "authorship_tag": "ABX9TyPiKrnyOxVE9zehPfaiHKGC",
      "include_colab_link": true
    },
    "kernelspec": {
      "name": "python3",
      "display_name": "Python 3"
    },
    "language_info": {
      "name": "python"
    }
  },
  "cells": [
    {
      "cell_type": "markdown",
      "metadata": {
        "id": "view-in-github",
        "colab_type": "text"
      },
      "source": [
        "<a href=\"https://colab.research.google.com/github/Reeshab/Ineuron-Python-Assignment/blob/main/Assignment_21.ipynb\" target=\"_parent\"><img src=\"https://colab.research.google.com/assets/colab-badge.svg\" alt=\"Open In Colab\"/></a>"
      ]
    },
    {
      "cell_type": "markdown",
      "source": [
        "1. Add the current date to the text file today.txt as a string."
      ],
      "metadata": {
        "id": "tnAOkmIP0oP4"
      }
    },
    {
      "cell_type": "code",
      "execution_count": 2,
      "metadata": {
        "colab": {
          "base_uri": "https://localhost:8080/"
        },
        "id": "Wv0hP8Oby6ye",
        "outputId": "0464ab69-bcc2-4843-8868-c809e5023ed0"
      },
      "outputs": [
        {
          "output_type": "stream",
          "name": "stdout",
          "text": [
            "17-11-2022\n"
          ]
        }
      ],
      "source": [
        "import datetime\n",
        "# Add current date to the today.txt file\n",
        "file = open('today.txt','w')\n",
        "file.write(datetime.datetime.now().strftime(\"%d-%m-%Y\"))\n",
        "file.close()\n",
        "# Read current date from today.txt file\n",
        "file = open('today.txt','r')\n",
        "print(file.read())\n",
        "file.close()"
      ]
    },
    {
      "cell_type": "markdown",
      "source": [
        "2. Read the text file today.txt into the string today_string"
      ],
      "metadata": {
        "id": "6gMW7yaU4Ug5"
      }
    },
    {
      "cell_type": "code",
      "source": [
        "file = open('today.txt','r')\n",
        "today_string = file.read()\n",
        "print(today_string)"
      ],
      "metadata": {
        "colab": {
          "base_uri": "https://localhost:8080/"
        },
        "id": "jqXuPYijy7-V",
        "outputId": "255a8547-68d2-4897-e1cc-fe21e96786b5"
      },
      "execution_count": 3,
      "outputs": [
        {
          "output_type": "stream",
          "name": "stdout",
          "text": [
            "17-11-2022\n"
          ]
        }
      ]
    },
    {
      "cell_type": "markdown",
      "source": [
        "3. Parse the date from today_string."
      ],
      "metadata": {
        "id": "QJ0GF5Lc4k9X"
      }
    },
    {
      "cell_type": "code",
      "source": [
        "from datetime import datetime\n",
        "parsed_data = datetime.strptime(today_string, '%d-%m-%Y')\n",
        "print(parsed_data)"
      ],
      "metadata": {
        "colab": {
          "base_uri": "https://localhost:8080/"
        },
        "id": "_534z574y8BK",
        "outputId": "f032f7b2-ef98-40ce-cf07-966121232eb1"
      },
      "execution_count": 4,
      "outputs": [
        {
          "output_type": "stream",
          "name": "stdout",
          "text": [
            "2022-11-17 00:00:00\n"
          ]
        }
      ]
    },
    {
      "cell_type": "markdown",
      "source": [
        "4. List the files in your current directory"
      ],
      "metadata": {
        "id": "35S4K5AA4xpB"
      }
    },
    {
      "cell_type": "code",
      "source": [
        "import os\n",
        "for folders, subfolders, files in os.walk(os.getcwd()):\n",
        "    for file in files:\n",
        "        print(file)"
      ],
      "metadata": {
        "colab": {
          "base_uri": "https://localhost:8080/"
        },
        "id": "fFh0wz9Qy8EC",
        "outputId": "8efec2ee-ce66-4fcc-b93f-270e1837fda0"
      },
      "execution_count": 5,
      "outputs": [
        {
          "output_type": "stream",
          "name": "stdout",
          "text": [
            "today.txt\n",
            "config_sentinel\n",
            ".last_opt_in_prompt.yaml\n",
            ".last_survey_prompt.yaml\n",
            ".last_update_check.json\n",
            "gce\n",
            "active_config\n",
            "config_default\n",
            "14.31.29.815180.log\n",
            "14.31.04.133774.log\n",
            "14.29.53.997548.log\n",
            "14.30.24.160314.log\n",
            "14.30.48.868848.log\n",
            "14.31.30.672919.log\n",
            "README.md\n",
            "anscombe.json\n",
            "mnist_train_small.csv\n",
            "california_housing_train.csv\n",
            "california_housing_test.csv\n",
            "mnist_test.csv\n"
          ]
        }
      ]
    },
    {
      "cell_type": "markdown",
      "source": [
        "5. Create a list of all of the files in your parent directory (minimum five files should be available)."
      ],
      "metadata": {
        "id": "Dur1DtJ548bk"
      }
    },
    {
      "cell_type": "code",
      "source": [
        "import os \n",
        "os.listdir()"
      ],
      "metadata": {
        "colab": {
          "base_uri": "https://localhost:8080/"
        },
        "id": "7q_2Bb9xy8HC",
        "outputId": "73a8e282-9dab-4816-db35-0d6610cd396d"
      },
      "execution_count": 6,
      "outputs": [
        {
          "output_type": "execute_result",
          "data": {
            "text/plain": [
              "['.config', 'today.txt', 'sample_data']"
            ]
          },
          "metadata": {},
          "execution_count": 6
        }
      ]
    },
    {
      "cell_type": "markdown",
      "source": [
        "6. Use multiprocessing to create three separate processes. Make each one wait a random number of\n",
        "seconds between one and five, print the current time, and then exit."
      ],
      "metadata": {
        "id": "kfbgPFGa5Q2P"
      }
    },
    {
      "cell_type": "code",
      "source": [
        "import multiprocessing\n",
        "import time\n",
        "import random\n",
        "import datetime\n",
        "\n",
        "def procOne():\n",
        "    print(f'Proc_one_Starttime -> {datetime.datetime.now()}')\n",
        "    time.sleep(random.randint(1,5))\n",
        "    print(f'Proc_one_Endtime -> {datetime.datetime.now()}')\n",
        "    \n",
        "def procTwo():\n",
        "    print(f'Proc_two_Starttime -> {datetime.datetime.now()}')\n",
        "    time.sleep(random.randint(1,5))\n",
        "    print(f'Proc_two_Endtime -> {datetime.datetime.now()}')\n",
        "\n",
        "def procThree():\n",
        "    print(f'Proc_two_Starttime -> {datetime.datetime.now()}')\n",
        "    time.sleep(random.randint(1,5))\n",
        "    print(f'Proc_two_Endtime -> {datetime.datetime.now()}')\n",
        "    \n",
        "if __name__ == \"__main__\":    \n",
        "    p1 = multiprocessing.Process(target=procOne)\n",
        "    p2 = multiprocessing.Process(target=procTwo)\n",
        "    p3 = multiprocessing.Process(target=procThree)\n",
        "\n",
        "    p1.start()\n",
        "    p2.start()\n",
        "    p3.start()\n",
        "\n",
        "    p1.join()\n",
        "    p2.join()\n",
        "    p3.join()\n"
      ],
      "metadata": {
        "colab": {
          "base_uri": "https://localhost:8080/"
        },
        "id": "TlNig4F1y8J4",
        "outputId": "d00772ce-4b71-495d-bda1-5810869792c6"
      },
      "execution_count": 8,
      "outputs": [
        {
          "output_type": "stream",
          "name": "stdout",
          "text": [
            "Proc_one_Starttime -> 2022-11-17 14:04:31.483539Proc_two_Starttime -> 2022-11-17 14:04:31.494884\n",
            "Proc_two_Starttime -> 2022-11-17 14:04:31.511614\n",
            "\n",
            "Proc_two_Endtime -> 2022-11-17 14:04:32.530406\n",
            "Proc_one_Endtime -> 2022-11-17 14:04:36.525756Proc_two_Endtime -> 2022-11-17 14:04:36.526041\n",
            "\n"
          ]
        }
      ]
    },
    {
      "cell_type": "markdown",
      "source": [
        "7. Create a date object of your day of birth."
      ],
      "metadata": {
        "id": "_Sgw2_ID9Vl2"
      }
    },
    {
      "cell_type": "code",
      "source": [
        "from datetime import datetime\n",
        "my_dob = datetime.strptime('20/05/1998','%d/%m/%Y')\n",
        "print(my_dob, type(my_dob))"
      ],
      "metadata": {
        "colab": {
          "base_uri": "https://localhost:8080/"
        },
        "id": "Yu8wVaWVy8Mx",
        "outputId": "78c4277b-5f8a-4343-8ade-1b9d7dc991bb"
      },
      "execution_count": 12,
      "outputs": [
        {
          "output_type": "stream",
          "name": "stdout",
          "text": [
            "1998-05-20 00:00:00 <class 'datetime.datetime'>\n"
          ]
        }
      ]
    },
    {
      "cell_type": "markdown",
      "source": [
        "8. What day of the week was your day of birth?"
      ],
      "metadata": {
        "id": "fZXj9lI-9dqY"
      }
    },
    {
      "cell_type": "code",
      "source": [
        "from datetime import datetime\n",
        "my_dob = datetime(1998,5,20)\n",
        "my_dob.strftime(\"%A\")"
      ],
      "metadata": {
        "colab": {
          "base_uri": "https://localhost:8080/",
          "height": 35
        },
        "id": "0anG07wky8Pp",
        "outputId": "f7d6463d-8e3c-4c70-c165-0c7c13292676"
      },
      "execution_count": 11,
      "outputs": [
        {
          "output_type": "execute_result",
          "data": {
            "text/plain": [
              "'Wednesday'"
            ],
            "application/vnd.google.colaboratory.intrinsic+json": {
              "type": "string"
            }
          },
          "metadata": {},
          "execution_count": 11
        }
      ]
    },
    {
      "cell_type": "markdown",
      "source": [
        "9. When will you be (or when were you) 10,000 days old?"
      ],
      "metadata": {
        "id": "D4D6WsV1BFYW"
      }
    },
    {
      "cell_type": "code",
      "source": [
        "from datetime import datetime, timedelta\n",
        "my_dob = datetime.strptime(\"20/05/1998\",'%d/%m/%Y')\n",
        "future_date = my_dob-timedelta(10000)\n",
        "future_date"
      ],
      "metadata": {
        "colab": {
          "base_uri": "https://localhost:8080/"
        },
        "id": "amwRADGQy8Sk",
        "outputId": "4bb92b99-265e-442d-cbf8-9cf0836b7d0d"
      },
      "execution_count": 14,
      "outputs": [
        {
          "output_type": "execute_result",
          "data": {
            "text/plain": [
              "datetime.datetime(1971, 1, 2, 0, 0)"
            ]
          },
          "metadata": {},
          "execution_count": 14
        }
      ]
    },
    {
      "cell_type": "code",
      "source": [],
      "metadata": {
        "id": "walGDguly8VH"
      },
      "execution_count": null,
      "outputs": []
    },
    {
      "cell_type": "code",
      "source": [],
      "metadata": {
        "id": "icTD5zkty8Xx"
      },
      "execution_count": null,
      "outputs": []
    },
    {
      "cell_type": "code",
      "source": [],
      "metadata": {
        "id": "E0Z0__Tzy8ag"
      },
      "execution_count": null,
      "outputs": []
    },
    {
      "cell_type": "code",
      "source": [],
      "metadata": {
        "id": "_TRlh8rey8dJ"
      },
      "execution_count": null,
      "outputs": []
    },
    {
      "cell_type": "code",
      "source": [],
      "metadata": {
        "id": "0D-5tvnKy8gN"
      },
      "execution_count": null,
      "outputs": []
    }
  ]
}